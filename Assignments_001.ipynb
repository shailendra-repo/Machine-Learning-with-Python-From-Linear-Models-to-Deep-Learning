{
  "nbformat": 4,
  "nbformat_minor": 0,
  "metadata": {
    "colab": {
      "name": "Assignments-001.ipynb",
      "provenance": [],
      "authorship_tag": "ABX9TyNhm4KRBmqmwQcEtHDy2XuR",
      "include_colab_link": true
    },
    "kernelspec": {
      "name": "python3",
      "display_name": "Python 3"
    },
    "language_info": {
      "name": "python"
    }
  },
  "cells": [
    {
      "cell_type": "markdown",
      "metadata": {
        "id": "view-in-github",
        "colab_type": "text"
      },
      "source": [
        "<a href=\"https://colab.research.google.com/github/shailendra-repo/Machine-Learning-with-Python-From-Linear-Models-to-Deep-Learning/blob/main/Assignments_001.ipynb\" target=\"_parent\"><img src=\"https://colab.research.google.com/assets/colab-badge.svg\" alt=\"Open In Colab\"/></a>"
      ]
    },
    {
      "cell_type": "code",
      "metadata": {
        "id": "1gCTkHpTRyZ3"
      },
      "source": [
        "import numpy as np"
      ],
      "execution_count": 1,
      "outputs": []
    },
    {
      "cell_type": "code",
      "metadata": {
        "id": "LnAvg4JpR1MA"
      },
      "source": [
        "def randomization(n):\n",
        "    \"\"\"\n",
        "    Arg:\n",
        "      n - an integer\n",
        "    Returns:\n",
        "      A - a randomly-generated nx1 Numpy array.\n",
        "    \"\"\"\n",
        "    #Your code here\n",
        "    A = np.random.random([n,1])\n",
        "    return A\n",
        "    raise NotImplementedError"
      ],
      "execution_count": 2,
      "outputs": []
    },
    {
      "cell_type": "code",
      "metadata": {
        "colab": {
          "base_uri": "https://localhost:8080/"
        },
        "id": "AGZBCzzwR4An",
        "outputId": "0153e378-faed-473c-e090-519424594961"
      },
      "source": [
        "randomization(5)"
      ],
      "execution_count": 3,
      "outputs": [
        {
          "output_type": "execute_result",
          "data": {
            "text/plain": [
              "array([[0.26559394],\n",
              "       [0.82154843],\n",
              "       [0.79052744],\n",
              "       [0.43123536],\n",
              "       [0.41096106]])"
            ]
          },
          "metadata": {},
          "execution_count": 3
        }
      ]
    },
    {
      "cell_type": "code",
      "metadata": {
        "id": "FN7gJ0J7R6nK"
      },
      "source": [
        "a1 = randomization(5)"
      ],
      "execution_count": 4,
      "outputs": []
    },
    {
      "cell_type": "code",
      "metadata": {
        "colab": {
          "base_uri": "https://localhost:8080/"
        },
        "id": "U3yQBS4kR-Kw",
        "outputId": "4436b0e8-3e85-4399-ce79-9c4be5a0d862"
      },
      "source": [
        "a1.size"
      ],
      "execution_count": 5,
      "outputs": [
        {
          "output_type": "execute_result",
          "data": {
            "text/plain": [
              "5"
            ]
          },
          "metadata": {},
          "execution_count": 5
        }
      ]
    },
    {
      "cell_type": "code",
      "metadata": {
        "colab": {
          "base_uri": "https://localhost:8080/"
        },
        "id": "aWumthhBR_pw",
        "outputId": "24ed3b1f-eaf6-430d-b35f-6cccd2aa9d38"
      },
      "source": [
        "a1.shape"
      ],
      "execution_count": 6,
      "outputs": [
        {
          "output_type": "execute_result",
          "data": {
            "text/plain": [
              "(5, 1)"
            ]
          },
          "metadata": {},
          "execution_count": 6
        }
      ]
    },
    {
      "cell_type": "code",
      "metadata": {
        "id": "Z2zL0KYPSBIU"
      },
      "source": [
        "def operations(h, w):\n",
        "    \"\"\"\n",
        "    Takes two inputs, h and w, and makes two Numpy arrays A and B of size\n",
        "    h x w, and returns A, B, and s, the sum of A and B.\n",
        "\n",
        "    Arg:\n",
        "      h - an integer describing the height of A and B\n",
        "      w - an integer describing the width of A and B\n",
        "    Returns (in this order):\n",
        "      A - a randomly-generated h x w Numpy array.\n",
        "      B - a randomly-generated h x w Numpy array.\n",
        "      s - the sum of A and B.\n",
        "    \"\"\"\n",
        "    #Your code here\n",
        "    A = np.random.random([h,w])\n",
        "    B = np.random.random([h,w])\n",
        "    s = A + B\n",
        "    return A,B,s\n",
        "\n",
        "    raise NotImplementedError"
      ],
      "execution_count": 7,
      "outputs": []
    },
    {
      "cell_type": "code",
      "metadata": {
        "colab": {
          "base_uri": "https://localhost:8080/"
        },
        "id": "CfD_JJZjVqdP",
        "outputId": "89d1805b-0a5c-4bd0-9761-b5df43024edb"
      },
      "source": [
        "operations(2,3)"
      ],
      "execution_count": 8,
      "outputs": [
        {
          "output_type": "execute_result",
          "data": {
            "text/plain": [
              "(array([[0.55012715, 0.64958907, 0.85889918],\n",
              "        [0.10442   , 0.59592469, 0.9767754 ]]),\n",
              " array([[0.6458408 , 0.73495771, 0.84194706],\n",
              "        [0.792572  , 0.60722921, 0.86062468]]),\n",
              " array([[1.19596796, 1.38454678, 1.70084624],\n",
              "        [0.896992  , 1.2031539 , 1.83740008]]))"
            ]
          },
          "metadata": {},
          "execution_count": 8
        }
      ]
    },
    {
      "cell_type": "code",
      "metadata": {
        "id": "Ku9vyOBhVuae"
      },
      "source": [
        "def norm(h, w):\n",
        "    \"\"\"\n",
        "    Takes two inputs, h and w, and makes two Numpy arrays A and B of size\n",
        "    h x w, and returns A, B, and s, the sum of A and B.\n",
        "\n",
        "    Arg:\n",
        "      h - an integer describing the height of A and B\n",
        "      w - an integer describing the width of A and B\n",
        "    Returns (in this order):\n",
        "      A - a randomly-generated h x w Numpy array.\n",
        "      B - a randomly-generated h x w Numpy array.\n",
        "      s - the sum of A and B.\n",
        "    \"\"\"\n",
        "    #Your code here\n",
        "    A = np.random.random([h,w])\n",
        "    B = np.random.random([h,w])\n",
        "    s = A + B\n",
        "    L2 = np.linalg.norm(s)\n",
        "    return A,B,s,L2\n",
        "\n",
        "    raise NotImplementedError"
      ],
      "execution_count": 17,
      "outputs": []
    },
    {
      "cell_type": "code",
      "metadata": {
        "colab": {
          "base_uri": "https://localhost:8080/"
        },
        "id": "kMTmtkAjW_8o",
        "outputId": "19da7b28-6f2a-4849-8326-e3ac896b75c7"
      },
      "source": [
        "norm(2,3)"
      ],
      "execution_count": 18,
      "outputs": [
        {
          "output_type": "execute_result",
          "data": {
            "text/plain": [
              "(array([[0.37610526, 0.32712363, 0.28562101],\n",
              "        [0.76943665, 0.50483364, 0.28490172]]),\n",
              " array([[0.03561988, 0.9815642 , 0.48742292],\n",
              "        [0.46679563, 0.85478917, 0.92836326]]),\n",
              " array([[0.41172514, 1.30868783, 0.77304393],\n",
              "        [1.23623228, 1.35962282, 1.21326499]]),\n",
              " 2.7071451265475552)"
            ]
          },
          "metadata": {},
          "execution_count": 18
        }
      ]
    },
    {
      "cell_type": "code",
      "metadata": {
        "id": "LLN319pzXCJL"
      },
      "source": [
        "def neural_network(inputs, weights):\n",
        "    \"\"\"\n",
        "     Takes an input vector and runs it through a 1-layer neural network\n",
        "     with a given weight matrix and returns the output.\n",
        "\n",
        "     Arg:\n",
        "       inputs - 2 x 1 NumPy array\n",
        "       weights - 2 x 1 NumPy array\n",
        "     Returns (in this order):\n",
        "       out - a 1 x 1 NumPy array, representing the output of the neural network\n",
        "    \"\"\"\n",
        "    tmp = inputs * weights\n",
        "    z = np.tanh(tmp.sum())\n",
        "    return z\n",
        "\n",
        "    #Your code here\n",
        "    raise NotImplementedError\n"
      ],
      "execution_count": 30,
      "outputs": []
    },
    {
      "cell_type": "code",
      "metadata": {
        "colab": {
          "base_uri": "https://localhost:8080/"
        },
        "id": "SFWam1TYZjSV",
        "outputId": "fb8da864-57dd-4ae8-cded-815997dab4d7"
      },
      "source": [
        "neural_network(np.random.random([2,1]),np.random.random([2,1]))"
      ],
      "execution_count": 31,
      "outputs": [
        {
          "output_type": "execute_result",
          "data": {
            "text/plain": [
              "0.25261804181855635"
            ]
          },
          "metadata": {},
          "execution_count": 31
        }
      ]
    },
    {
      "cell_type": "code",
      "metadata": {
        "id": "C7C2a2TYZqT3"
      },
      "source": [
        "inputs = np.array([2,5])\n",
        "weights = np.array([3,6])"
      ],
      "execution_count": 26,
      "outputs": []
    },
    {
      "cell_type": "code",
      "metadata": {
        "id": "t5Udt58pZ-8-"
      },
      "source": [
        "tmp = inputs * weights"
      ],
      "execution_count": 27,
      "outputs": []
    },
    {
      "cell_type": "code",
      "metadata": {
        "colab": {
          "base_uri": "https://localhost:8080/"
        },
        "id": "EfA3d-NVaFAp",
        "outputId": "238d4bda-596d-465d-a404-b89a27ccdc0c"
      },
      "source": [
        "tmp"
      ],
      "execution_count": 28,
      "outputs": [
        {
          "output_type": "execute_result",
          "data": {
            "text/plain": [
              "array([ 6, 30])"
            ]
          },
          "metadata": {},
          "execution_count": 28
        }
      ]
    },
    {
      "cell_type": "code",
      "metadata": {
        "colab": {
          "base_uri": "https://localhost:8080/"
        },
        "id": "XTXlUoraaPYw",
        "outputId": "d206e45b-5510-4a75-d7fa-2d051d28a7ac"
      },
      "source": [
        "tmp.sum()"
      ],
      "execution_count": 29,
      "outputs": [
        {
          "output_type": "execute_result",
          "data": {
            "text/plain": [
              "36"
            ]
          },
          "metadata": {},
          "execution_count": 29
        }
      ]
    },
    {
      "cell_type": "code",
      "metadata": {
        "id": "Bp2cchuwaYIk"
      },
      "source": [
        "ot = np.tanh(tmp.sum())"
      ],
      "execution_count": 32,
      "outputs": []
    },
    {
      "cell_type": "code",
      "metadata": {
        "colab": {
          "base_uri": "https://localhost:8080/"
        },
        "id": "_LhDl2Dwaucy",
        "outputId": "712b11bb-b489-4148-829b-9a0647a652ed"
      },
      "source": [
        "type(ot)"
      ],
      "execution_count": 33,
      "outputs": [
        {
          "output_type": "execute_result",
          "data": {
            "text/plain": [
              "numpy.float64"
            ]
          },
          "metadata": {},
          "execution_count": 33
        }
      ]
    },
    {
      "cell_type": "code",
      "metadata": {
        "id": "82tImAceawSH"
      },
      "source": [
        "f = np.array(ot)"
      ],
      "execution_count": 35,
      "outputs": []
    },
    {
      "cell_type": "code",
      "metadata": {
        "colab": {
          "base_uri": "https://localhost:8080/"
        },
        "id": "4ZRqqvV3bDZD",
        "outputId": "cd7cd00a-74db-4419-b075-c1dd0d15233d"
      },
      "source": [
        "type(f)"
      ],
      "execution_count": 36,
      "outputs": [
        {
          "output_type": "execute_result",
          "data": {
            "text/plain": [
              "numpy.ndarray"
            ]
          },
          "metadata": {},
          "execution_count": 36
        }
      ]
    },
    {
      "cell_type": "code",
      "metadata": {
        "colab": {
          "base_uri": "https://localhost:8080/"
        },
        "id": "5Y-uSLYobG7t",
        "outputId": "ad0a43da-ce5a-4f12-ba02-a42b1993f13d"
      },
      "source": [
        "ot"
      ],
      "execution_count": 37,
      "outputs": [
        {
          "output_type": "execute_result",
          "data": {
            "text/plain": [
              "1.0"
            ]
          },
          "metadata": {},
          "execution_count": 37
        }
      ]
    },
    {
      "cell_type": "code",
      "metadata": {
        "id": "HInG5XxMbLvf"
      },
      "source": [
        "weights1 = np.array([[0.60198498], [0.48975768]])\n",
        "inputs1 = np.array([[0.23286057], [0.06406987]])\n",
        "#Submission output: [[0.16989377]]"
      ],
      "execution_count": 44,
      "outputs": []
    },
    {
      "cell_type": "code",
      "metadata": {
        "id": "-HBF8KyMbvNN"
      },
      "source": [
        "def neural_network(inputs, weights):\n",
        "    \"\"\"\n",
        "     Takes an input vector and runs it through a 1-layer neural network\n",
        "     with a given weight matrix and returns the output.\n",
        "\n",
        "     Arg:\n",
        "       inputs - 2 x 1 NumPy array\n",
        "       weights - 2 x 1 NumPy array\n",
        "     Returns (in this order):\n",
        "       out - a 1 x 1 NumPy array, representing the output of the neural network\n",
        "    \"\"\"\n",
        "    tmp = inputs * weights\n",
        "    z = np.tanh(tmp.sum())\n",
        "    return np.array([[z]])\n",
        "\n",
        "    #Your code here\n",
        "    raise NotImplementedError\n"
      ],
      "execution_count": 45,
      "outputs": []
    },
    {
      "cell_type": "code",
      "metadata": {
        "colab": {
          "base_uri": "https://localhost:8080/"
        },
        "id": "BOzE5AFnb-0D",
        "outputId": "1529a897-ecbd-43d8-9ad3-0109770fdb96"
      },
      "source": [
        "neural_network(inputs1, weights1)"
      ],
      "execution_count": 46,
      "outputs": [
        {
          "output_type": "execute_result",
          "data": {
            "text/plain": [
              "array([[0.16989377]])"
            ]
          },
          "metadata": {},
          "execution_count": 46
        }
      ]
    },
    {
      "cell_type": "code",
      "metadata": {
        "id": "sNhpzpHScFPx"
      },
      "source": [
        "def scalar_function(x, y):\n",
        "    \"\"\"\n",
        "    Returns the f(x,y) defined in the problem statement.\n",
        "    \"\"\"\n",
        "    #Your code here\n",
        "\n",
        "    if x <= y:\n",
        "      z = x * y\n",
        "    else:\n",
        "      z = x / y\n",
        "    return z\n",
        "          \n",
        "    raise NotImplementedError"
      ],
      "execution_count": 47,
      "outputs": []
    },
    {
      "cell_type": "code",
      "metadata": {
        "colab": {
          "base_uri": "https://localhost:8080/"
        },
        "id": "SzIi3oUKd-Fq",
        "outputId": "44ae8bbc-5990-41cf-e660-ecfd6395f027"
      },
      "source": [
        "scalar_function(3,4)"
      ],
      "execution_count": 48,
      "outputs": [
        {
          "output_type": "execute_result",
          "data": {
            "text/plain": [
              "12"
            ]
          },
          "metadata": {},
          "execution_count": 48
        }
      ]
    },
    {
      "cell_type": "code",
      "metadata": {
        "colab": {
          "base_uri": "https://localhost:8080/"
        },
        "id": "XBKtXY-leCwO",
        "outputId": "d60e7cef-fd87-4ce4-f9b8-3fd9f32e625e"
      },
      "source": [
        "scalar_function(4,3)"
      ],
      "execution_count": 49,
      "outputs": [
        {
          "output_type": "execute_result",
          "data": {
            "text/plain": [
              "1.3333333333333333"
            ]
          },
          "metadata": {},
          "execution_count": 49
        }
      ]
    },
    {
      "cell_type": "code",
      "metadata": {
        "id": "9VYkgcqbeGnj"
      },
      "source": [
        "vec_function = np.vectorize(scalar_function)"
      ],
      "execution_count": 50,
      "outputs": []
    },
    {
      "cell_type": "code",
      "metadata": {
        "colab": {
          "base_uri": "https://localhost:8080/"
        },
        "id": "dL11OXD3ewNx",
        "outputId": "58e0de21-b80a-4c67-c242-16a411b7f2c2"
      },
      "source": [
        "vec_function([1,2,3],[4,5,6])"
      ],
      "execution_count": 51,
      "outputs": [
        {
          "output_type": "execute_result",
          "data": {
            "text/plain": [
              "array([ 4, 10, 18])"
            ]
          },
          "metadata": {},
          "execution_count": 51
        }
      ]
    },
    {
      "cell_type": "code",
      "metadata": {
        "colab": {
          "base_uri": "https://localhost:8080/"
        },
        "id": "Rc2ETtxne5RM",
        "outputId": "e0a8dc67-1cbe-42ee-88f4-036e746dfe7c"
      },
      "source": [
        "vec_function([2,4],[3,3])"
      ],
      "execution_count": 56,
      "outputs": [
        {
          "output_type": "execute_result",
          "data": {
            "text/plain": [
              "array([6, 1])"
            ]
          },
          "metadata": {},
          "execution_count": 56
        }
      ]
    },
    {
      "cell_type": "code",
      "metadata": {
        "id": "0N1ChRApfFjO"
      },
      "source": [
        "a1 = np.array([2,3,4])\n",
        "a2 = np.array([3,4,3]) "
      ],
      "execution_count": 78,
      "outputs": []
    },
    {
      "cell_type": "code",
      "metadata": {
        "colab": {
          "base_uri": "https://localhost:8080/"
        },
        "id": "hhoMhou_goxS",
        "outputId": "6c6b307b-96ef-49c7-eae4-e231fd3d570d"
      },
      "source": [
        "a1[a1 <= a2]"
      ],
      "execution_count": 59,
      "outputs": [
        {
          "output_type": "execute_result",
          "data": {
            "text/plain": [
              "array([2])"
            ]
          },
          "metadata": {},
          "execution_count": 59
        }
      ]
    },
    {
      "cell_type": "code",
      "metadata": {
        "colab": {
          "base_uri": "https://localhost:8080/"
        },
        "id": "sRqpRGbeg1gQ",
        "outputId": "7dfda9a0-c5f9-4fe8-9a88-0f1a0b5e8365"
      },
      "source": [
        "print(a1[a1 <= a2])"
      ],
      "execution_count": 60,
      "outputs": [
        {
          "output_type": "stream",
          "name": "stdout",
          "text": [
            "[2]\n"
          ]
        }
      ]
    },
    {
      "cell_type": "code",
      "metadata": {
        "id": "GO_YUnXXg6td"
      },
      "source": [
        "cmp = a1 <= a2"
      ],
      "execution_count": 80,
      "outputs": []
    },
    {
      "cell_type": "code",
      "metadata": {
        "colab": {
          "base_uri": "https://localhost:8080/"
        },
        "id": "xkpK64mEhDEx",
        "outputId": "f0af76cf-49e4-4121-9988-341a9275a1d0"
      },
      "source": [
        "cmp"
      ],
      "execution_count": 63,
      "outputs": [
        {
          "output_type": "execute_result",
          "data": {
            "text/plain": [
              "array([ True, False])"
            ]
          },
          "metadata": {},
          "execution_count": 63
        }
      ]
    },
    {
      "cell_type": "code",
      "metadata": {
        "colab": {
          "base_uri": "https://localhost:8080/"
        },
        "id": "tnd4a8-Jh-nu",
        "outputId": "4a9a1f46-8de1-44d1-c5f6-53d42127a282"
      },
      "source": [
        "a1[cmp]"
      ],
      "execution_count": 64,
      "outputs": [
        {
          "output_type": "execute_result",
          "data": {
            "text/plain": [
              "array([2])"
            ]
          },
          "metadata": {},
          "execution_count": 64
        }
      ]
    },
    {
      "cell_type": "code",
      "metadata": {
        "colab": {
          "base_uri": "https://localhost:8080/"
        },
        "id": "V5IbYDWwiDY0",
        "outputId": "67340523-1276-4194-bdb3-9c356875cb59"
      },
      "source": [
        "a2[cmp]"
      ],
      "execution_count": 65,
      "outputs": [
        {
          "output_type": "execute_result",
          "data": {
            "text/plain": [
              "array([3])"
            ]
          },
          "metadata": {},
          "execution_count": 65
        }
      ]
    },
    {
      "cell_type": "code",
      "metadata": {
        "id": "ZcGvlmhFiE5r"
      },
      "source": [
        "z= np.array([cmp.size])\n"
      ],
      "execution_count": 74,
      "outputs": []
    },
    {
      "cell_type": "code",
      "metadata": {
        "colab": {
          "base_uri": "https://localhost:8080/"
        },
        "id": "YNVPAgxWiS4u",
        "outputId": "18b9bd84-2295-4b15-dc17-16f63fd9252e"
      },
      "source": [
        "z"
      ],
      "execution_count": 75,
      "outputs": [
        {
          "output_type": "execute_result",
          "data": {
            "text/plain": [
              "array([2])"
            ]
          },
          "metadata": {},
          "execution_count": 75
        }
      ]
    },
    {
      "cell_type": "code",
      "metadata": {
        "colab": {
          "base_uri": "https://localhost:8080/"
        },
        "id": "E8I1EgVDiqlZ",
        "outputId": "91f20c8a-83d5-4497-8ff4-7a1a794255a5"
      },
      "source": [
        " a1[cmp == True] * a2[cmp == True]\n",
        " #a1[cmp == False] / a2[cmp == False]"
      ],
      "execution_count": 84,
      "outputs": [
        {
          "output_type": "execute_result",
          "data": {
            "text/plain": [
              "array([ 6, 12])"
            ]
          },
          "metadata": {},
          "execution_count": 84
        }
      ]
    },
    {
      "cell_type": "code",
      "metadata": {
        "colab": {
          "base_uri": "https://localhost:8080/"
        },
        "id": "cZv75wMuitIi",
        "outputId": "1d1a7470-0114-42d6-912c-a01bf399cafd"
      },
      "source": [
        "a1 = np.array([2,4,3])\n",
        "a2 = np.array([3,3,4]) \n",
        "\n",
        "cmp = a1 <= a2\n",
        "z = np.array(cmp.size)\n",
        "a1[cmp == True] * a2[cmp == True]"
      ],
      "execution_count": 87,
      "outputs": [
        {
          "output_type": "execute_result",
          "data": {
            "text/plain": [
              "array([ 6, 12])"
            ]
          },
          "metadata": {},
          "execution_count": 87
        }
      ]
    },
    {
      "cell_type": "code",
      "metadata": {
        "id": "cggPK_8UkKem"
      },
      "source": [
        "z[cmp == True]  = a1[cmp == True] * a2[cmp == True]"
      ],
      "execution_count": 96,
      "outputs": []
    },
    {
      "cell_type": "code",
      "metadata": {
        "colab": {
          "base_uri": "https://localhost:8080/"
        },
        "id": "KuJ93jcokiCx",
        "outputId": "b553eab0-6e3b-49a8-ecff-c9c4793a9295"
      },
      "source": [
        "z"
      ],
      "execution_count": 97,
      "outputs": [
        {
          "output_type": "execute_result",
          "data": {
            "text/plain": [
              "array([ 6.,  0., 12.])"
            ]
          },
          "metadata": {},
          "execution_count": 97
        }
      ]
    },
    {
      "cell_type": "code",
      "metadata": {
        "colab": {
          "base_uri": "https://localhost:8080/"
        },
        "id": "yyOprcFskoHn",
        "outputId": "65d7d84a-e2db-4771-e5e6-3dcc00bd829e"
      },
      "source": [
        "cmp.size"
      ],
      "execution_count": 91,
      "outputs": [
        {
          "output_type": "execute_result",
          "data": {
            "text/plain": [
              "3"
            ]
          },
          "metadata": {},
          "execution_count": 91
        }
      ]
    },
    {
      "cell_type": "code",
      "metadata": {
        "id": "ZqizRxkxkw0f"
      },
      "source": [
        "z = np.zeros(cmp.size)"
      ],
      "execution_count": 94,
      "outputs": []
    },
    {
      "cell_type": "code",
      "metadata": {
        "colab": {
          "base_uri": "https://localhost:8080/"
        },
        "id": "-hnfNoq5kzzr",
        "outputId": "8bc7d5eb-6d33-4a2b-dff0-9882c8e5f343"
      },
      "source": [
        "z.size"
      ],
      "execution_count": 95,
      "outputs": [
        {
          "output_type": "execute_result",
          "data": {
            "text/plain": [
              "3"
            ]
          },
          "metadata": {},
          "execution_count": 95
        }
      ]
    },
    {
      "cell_type": "code",
      "metadata": {
        "id": "gRC1SRefk0eY"
      },
      "source": [
        "def vector_function(x, y):\n",
        "    \"\"\"\n",
        "    Make sure vector_function can deal with vector input x,y \n",
        "    \"\"\"\n",
        "    #Your code here\n",
        "\n",
        "    cmp = x <= y\n",
        "    z = np.zeros(cmp.size)\n",
        "    z[cmp == True] = x[cmp == True]  * y[cmp == True]\n",
        "    z[cmp == False] = x[cmp == False]  / y[cmp == False]\n",
        "\n",
        "    return z\n",
        "\n",
        "    raise NotImplementedError\n"
      ],
      "execution_count": 98,
      "outputs": []
    },
    {
      "cell_type": "code",
      "metadata": {
        "colab": {
          "base_uri": "https://localhost:8080/"
        },
        "id": "wtYUY2ePltTJ",
        "outputId": "86a2e0d2-19b6-48c6-b06c-03c962911485"
      },
      "source": [
        "vector_function(np.array([2,6]),np.array([4,5]))"
      ],
      "execution_count": 100,
      "outputs": [
        {
          "output_type": "execute_result",
          "data": {
            "text/plain": [
              "array([8. , 1.2])"
            ]
          },
          "metadata": {},
          "execution_count": 100
        }
      ]
    },
    {
      "cell_type": "code",
      "metadata": {
        "id": "rxZFQg-Yl4Cm"
      },
      "source": [
        ""
      ],
      "execution_count": null,
      "outputs": []
    }
  ]
}