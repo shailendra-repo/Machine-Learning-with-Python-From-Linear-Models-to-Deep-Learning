{
  "nbformat": 4,
  "nbformat_minor": 0,
  "metadata": {
    "colab": {
      "name": "Intro to pandas.ipynb",
      "provenance": [],
      "collapsed_sections": [],
      "authorship_tag": "ABX9TyOuRXN6uW29toxJT1U+t23x",
      "include_colab_link": true
    },
    "kernelspec": {
      "name": "python3",
      "display_name": "Python 3"
    },
    "language_info": {
      "name": "python"
    }
  },
  "cells": [
    {
      "cell_type": "markdown",
      "metadata": {
        "id": "view-in-github",
        "colab_type": "text"
      },
      "source": [
        "<a href=\"https://colab.research.google.com/github/shailendra-repo/Python/blob/main/Intro_to_pandas.ipynb\" target=\"_parent\"><img src=\"https://colab.research.google.com/assets/colab-badge.svg\" alt=\"Open In Colab\"/></a>"
      ]
    },
    {
      "cell_type": "code",
      "metadata": {
        "id": "zzcVd38pREfR"
      },
      "source": [
        "# Introduction to Pandas\n"
      ],
      "execution_count": 1,
      "outputs": []
    },
    {
      "cell_type": "code",
      "metadata": {
        "id": "eALYTBACRqFh"
      },
      "source": [
        "import pandas as pd\n",
        "import numpy as np\n",
        "import matplotlib.pyplot as plt\n"
      ],
      "execution_count": 2,
      "outputs": []
    },
    {
      "cell_type": "code",
      "metadata": {
        "id": "TsA3HbOsRyq0"
      },
      "source": [
        "pd.set_option('display.max_columns',10)\n",
        "pd.set_option('display.max_rows',10)\n",
        "pd.set_option('display.notebook_repr_html',False)\n"
      ],
      "execution_count": 3,
      "outputs": []
    },
    {
      "cell_type": "code",
      "metadata": {
        "id": "1aJzXmRvUqsT"
      },
      "source": [
        "df = pd.DataFrame([1,2,3,4])"
      ],
      "execution_count": 4,
      "outputs": []
    },
    {
      "cell_type": "code",
      "metadata": {
        "colab": {
          "base_uri": "https://localhost:8080/"
        },
        "id": "Yt9pn_yqU4Lf",
        "outputId": "3984fff0-9309-4b9e-bace-bee07538f7c8"
      },
      "source": [
        "df"
      ],
      "execution_count": 5,
      "outputs": [
        {
          "output_type": "execute_result",
          "data": {
            "text/plain": [
              "   0\n",
              "0  1\n",
              "1  2\n",
              "2  3\n",
              "3  4"
            ]
          },
          "metadata": {},
          "execution_count": 5
        }
      ]
    },
    {
      "cell_type": "markdown",
      "metadata": {
        "id": "YoCrfNy9WBIa"
      },
      "source": [
        "### Lesson 2"
      ]
    },
    {
      "cell_type": "code",
      "metadata": {
        "colab": {
          "base_uri": "https://localhost:8080/"
        },
        "id": "CRyEW2vXU4hq",
        "outputId": "f570965e-c269-45a3-f6a0-054d1168b222"
      },
      "source": [
        "np.random.seed(1)\n",
        "s = pd.Series(np.random.randn(100))\n",
        "s"
      ],
      "execution_count": 9,
      "outputs": [
        {
          "output_type": "execute_result",
          "data": {
            "text/plain": [
              "0     1.624345\n",
              "1    -0.611756\n",
              "2    -0.528172\n",
              "3    -1.072969\n",
              "4     0.865408\n",
              "        ...   \n",
              "95    0.077340\n",
              "96   -0.343854\n",
              "97    0.043597\n",
              "98   -0.620001\n",
              "99    0.698032\n",
              "Length: 100, dtype: float64"
            ]
          },
          "metadata": {},
          "execution_count": 9
        }
      ]
    },
    {
      "cell_type": "code",
      "metadata": {
        "colab": {
          "base_uri": "https://localhost:8080/"
        },
        "id": "HNyk1Cw6Wiiu",
        "outputId": "12577022-9c80-4691-8f37-59707dc156a1"
      },
      "source": [
        "s[2]"
      ],
      "execution_count": 10,
      "outputs": [
        {
          "output_type": "execute_result",
          "data": {
            "text/plain": [
              "-0.5281717522634557"
            ]
          },
          "metadata": {},
          "execution_count": 10
        }
      ]
    },
    {
      "cell_type": "code",
      "metadata": {
        "colab": {
          "base_uri": "https://localhost:8080/"
        },
        "id": "F9v3LH46W1on",
        "outputId": "cfda3fc2-2327-4417-9dd8-83d97b17b521"
      },
      "source": [
        "s[[2,4,6]]"
      ],
      "execution_count": 11,
      "outputs": [
        {
          "output_type": "execute_result",
          "data": {
            "text/plain": [
              "2   -0.528172\n",
              "4    0.865408\n",
              "6    1.744812\n",
              "dtype: float64"
            ]
          },
          "metadata": {},
          "execution_count": 11
        }
      ]
    },
    {
      "cell_type": "code",
      "metadata": {
        "colab": {
          "base_uri": "https://localhost:8080/"
        },
        "id": "QctRlrUWY2Om",
        "outputId": "d24c5de6-4ddc-4841-9772-fe371724184e"
      },
      "source": [
        "s[3:8]"
      ],
      "execution_count": 12,
      "outputs": [
        {
          "output_type": "execute_result",
          "data": {
            "text/plain": [
              "3   -1.072969\n",
              "4    0.865408\n",
              "5   -2.301539\n",
              "6    1.744812\n",
              "7   -0.761207\n",
              "dtype: float64"
            ]
          },
          "metadata": {},
          "execution_count": 12
        }
      ]
    },
    {
      "cell_type": "code",
      "metadata": {
        "colab": {
          "base_uri": "https://localhost:8080/"
        },
        "id": "qWPN-Y0pZNn-",
        "outputId": "8c2ec5fb-c479-4c0a-ba8a-4e21d1edb097"
      },
      "source": [
        "s.head()"
      ],
      "execution_count": 13,
      "outputs": [
        {
          "output_type": "execute_result",
          "data": {
            "text/plain": [
              "0    1.624345\n",
              "1   -0.611756\n",
              "2   -0.528172\n",
              "3   -1.072969\n",
              "4    0.865408\n",
              "dtype: float64"
            ]
          },
          "metadata": {},
          "execution_count": 13
        }
      ]
    },
    {
      "cell_type": "code",
      "metadata": {
        "colab": {
          "base_uri": "https://localhost:8080/"
        },
        "id": "lgTQ9DkiZa0I",
        "outputId": "d344dbc4-9c67-474c-92da-d722db2460dd"
      },
      "source": [
        "s.tail()"
      ],
      "execution_count": 14,
      "outputs": [
        {
          "output_type": "execute_result",
          "data": {
            "text/plain": [
              "95    0.077340\n",
              "96   -0.343854\n",
              "97    0.043597\n",
              "98   -0.620001\n",
              "99    0.698032\n",
              "dtype: float64"
            ]
          },
          "metadata": {},
          "execution_count": 14
        }
      ]
    },
    {
      "cell_type": "code",
      "metadata": {
        "colab": {
          "base_uri": "https://localhost:8080/"
        },
        "id": "dcdOulD3Zfou",
        "outputId": "254e1b8f-7955-4024-f7fc-f1e7b86f39c7"
      },
      "source": [
        "list(s.index)"
      ],
      "execution_count": 19,
      "outputs": [
        {
          "output_type": "execute_result",
          "data": {
            "text/plain": [
              "[0,\n",
              " 1,\n",
              " 2,\n",
              " 3,\n",
              " 4,\n",
              " 5,\n",
              " 6,\n",
              " 7,\n",
              " 8,\n",
              " 9,\n",
              " 10,\n",
              " 11,\n",
              " 12,\n",
              " 13,\n",
              " 14,\n",
              " 15,\n",
              " 16,\n",
              " 17,\n",
              " 18,\n",
              " 19,\n",
              " 20,\n",
              " 21,\n",
              " 22,\n",
              " 23,\n",
              " 24,\n",
              " 25,\n",
              " 26,\n",
              " 27,\n",
              " 28,\n",
              " 29,\n",
              " 30,\n",
              " 31,\n",
              " 32,\n",
              " 33,\n",
              " 34,\n",
              " 35,\n",
              " 36,\n",
              " 37,\n",
              " 38,\n",
              " 39,\n",
              " 40,\n",
              " 41,\n",
              " 42,\n",
              " 43,\n",
              " 44,\n",
              " 45,\n",
              " 46,\n",
              " 47,\n",
              " 48,\n",
              " 49,\n",
              " 50,\n",
              " 51,\n",
              " 52,\n",
              " 53,\n",
              " 54,\n",
              " 55,\n",
              " 56,\n",
              " 57,\n",
              " 58,\n",
              " 59,\n",
              " 60,\n",
              " 61,\n",
              " 62,\n",
              " 63,\n",
              " 64,\n",
              " 65,\n",
              " 66,\n",
              " 67,\n",
              " 68,\n",
              " 69,\n",
              " 70,\n",
              " 71,\n",
              " 72,\n",
              " 73,\n",
              " 74,\n",
              " 75,\n",
              " 76,\n",
              " 77,\n",
              " 78,\n",
              " 79,\n",
              " 80,\n",
              " 81,\n",
              " 82,\n",
              " 83,\n",
              " 84,\n",
              " 85,\n",
              " 86,\n",
              " 87,\n",
              " 88,\n",
              " 89,\n",
              " 90,\n",
              " 91,\n",
              " 92,\n",
              " 93,\n",
              " 94,\n",
              " 95,\n",
              " 96,\n",
              " 97,\n",
              " 98,\n",
              " 99]"
            ]
          },
          "metadata": {},
          "execution_count": 19
        }
      ]
    },
    {
      "cell_type": "code",
      "metadata": {
        "colab": {
          "base_uri": "https://localhost:8080/"
        },
        "id": "0FNdNMF1ZhIx",
        "outputId": "2bcea465-0f8f-471f-c3e3-8f965caf1584"
      },
      "source": [
        "s.values"
      ],
      "execution_count": 20,
      "outputs": [
        {
          "output_type": "execute_result",
          "data": {
            "text/plain": [
              "array([ 1.62434536, -0.61175641, -0.52817175, -1.07296862,  0.86540763,\n",
              "       -2.3015387 ,  1.74481176, -0.7612069 ,  0.3190391 , -0.24937038,\n",
              "        1.46210794, -2.06014071, -0.3224172 , -0.38405435,  1.13376944,\n",
              "       -1.09989127, -0.17242821, -0.87785842,  0.04221375,  0.58281521,\n",
              "       -1.10061918,  1.14472371,  0.90159072,  0.50249434,  0.90085595,\n",
              "       -0.68372786, -0.12289023, -0.93576943, -0.26788808,  0.53035547,\n",
              "       -0.69166075, -0.39675353, -0.6871727 , -0.84520564, -0.67124613,\n",
              "       -0.0126646 , -1.11731035,  0.2344157 ,  1.65980218,  0.74204416,\n",
              "       -0.19183555, -0.88762896, -0.74715829,  1.6924546 ,  0.05080775,\n",
              "       -0.63699565,  0.19091548,  2.10025514,  0.12015895,  0.61720311,\n",
              "        0.30017032, -0.35224985, -1.1425182 , -0.34934272, -0.20889423,\n",
              "        0.58662319,  0.83898341,  0.93110208,  0.28558733,  0.88514116,\n",
              "       -0.75439794,  1.25286816,  0.51292982, -0.29809284,  0.48851815,\n",
              "       -0.07557171,  1.13162939,  1.51981682,  2.18557541, -1.39649634,\n",
              "       -1.44411381, -0.50446586,  0.16003707,  0.87616892,  0.31563495,\n",
              "       -2.02220122, -0.30620401,  0.82797464,  0.23009474,  0.76201118,\n",
              "       -0.22232814, -0.20075807,  0.18656139,  0.41005165,  0.19829972,\n",
              "        0.11900865, -0.67066229,  0.37756379,  0.12182127,  1.12948391,\n",
              "        1.19891788,  0.18515642, -0.37528495, -0.63873041,  0.42349435,\n",
              "        0.07734007, -0.34385368,  0.04359686, -0.62000084,  0.69803203])"
            ]
          },
          "metadata": {},
          "execution_count": 20
        }
      ]
    },
    {
      "cell_type": "code",
      "metadata": {
        "colab": {
          "base_uri": "https://localhost:8080/"
        },
        "id": "M7E8WLhwZ4G6",
        "outputId": "ee01b442-d913-4515-a682-57fa3feb150b"
      },
      "source": [
        "s2 = pd.Series([1,2,3,4], index=['a','b','c','d'])\n",
        "s2"
      ],
      "execution_count": 21,
      "outputs": [
        {
          "output_type": "execute_result",
          "data": {
            "text/plain": [
              "a    1\n",
              "b    2\n",
              "c    3\n",
              "d    4\n",
              "dtype: int64"
            ]
          },
          "metadata": {},
          "execution_count": 21
        }
      ]
    },
    {
      "cell_type": "code",
      "metadata": {
        "colab": {
          "base_uri": "https://localhost:8080/"
        },
        "id": "IQ92X3T8aLDq",
        "outputId": "c70e435d-782c-4708-ae9b-d5809a54b382"
      },
      "source": [
        "s3 = pd.Series({'a':1, 'b':2, 'c': 3})\n",
        "s3"
      ],
      "execution_count": 23,
      "outputs": [
        {
          "output_type": "execute_result",
          "data": {
            "text/plain": [
              "a    1\n",
              "b    2\n",
              "c    3\n",
              "dtype: int64"
            ]
          },
          "metadata": {},
          "execution_count": 23
        }
      ]
    },
    {
      "cell_type": "code",
      "metadata": {
        "colab": {
          "base_uri": "https://localhost:8080/"
        },
        "id": "SlChAOMHcDCF",
        "outputId": "4686f689-7fdd-4db5-85ea-159433b75bcb"
      },
      "source": [
        "s3.index"
      ],
      "execution_count": 24,
      "outputs": [
        {
          "output_type": "execute_result",
          "data": {
            "text/plain": [
              "Index(['a', 'b', 'c'], dtype='object')"
            ]
          },
          "metadata": {},
          "execution_count": 24
        }
      ]
    },
    {
      "cell_type": "markdown",
      "metadata": {
        "id": "KbDMa5QOch_a"
      },
      "source": [
        "# Shape, Size, uniquness and counts of values"
      ]
    },
    {
      "cell_type": "code",
      "metadata": {
        "colab": {
          "base_uri": "https://localhost:8080/"
        },
        "id": "fsbbG7xocLyp",
        "outputId": "466e2c0c-ad3f-4759-c729-03948e48c45d"
      },
      "source": [
        "s = pd.Series([5, 0, 1, 1, 2, 3, 4, 5, 6, np.nan])\n",
        "s"
      ],
      "execution_count": 25,
      "outputs": [
        {
          "output_type": "execute_result",
          "data": {
            "text/plain": [
              "0    5.0\n",
              "1    0.0\n",
              "2    1.0\n",
              "3    1.0\n",
              "4    2.0\n",
              "5    3.0\n",
              "6    4.0\n",
              "7    5.0\n",
              "8    6.0\n",
              "9    NaN\n",
              "dtype: float64"
            ]
          },
          "metadata": {},
          "execution_count": 25
        }
      ]
    },
    {
      "cell_type": "code",
      "metadata": {
        "colab": {
          "base_uri": "https://localhost:8080/"
        },
        "id": "0EOV2g_EdQl2",
        "outputId": "4b0d4a43-71bb-44b4-dbf7-f67abc664346"
      },
      "source": [
        "len(s)"
      ],
      "execution_count": 26,
      "outputs": [
        {
          "output_type": "execute_result",
          "data": {
            "text/plain": [
              "10"
            ]
          },
          "metadata": {},
          "execution_count": 26
        }
      ]
    },
    {
      "cell_type": "code",
      "metadata": {
        "colab": {
          "base_uri": "https://localhost:8080/"
        },
        "id": "f34Y_nTmdSsB",
        "outputId": "e8a06bc8-d669-4aef-8b10-638ab6bd053a"
      },
      "source": [
        "s.shape"
      ],
      "execution_count": 27,
      "outputs": [
        {
          "output_type": "execute_result",
          "data": {
            "text/plain": [
              "(10,)"
            ]
          },
          "metadata": {},
          "execution_count": 27
        }
      ]
    },
    {
      "cell_type": "code",
      "metadata": {
        "colab": {
          "base_uri": "https://localhost:8080/"
        },
        "id": "Scq7x0zfdY-6",
        "outputId": "f98d7bf1-c88e-4ae4-9b8e-6b6b6f49b104"
      },
      "source": [
        "s.count()"
      ],
      "execution_count": 28,
      "outputs": [
        {
          "output_type": "execute_result",
          "data": {
            "text/plain": [
              "9"
            ]
          },
          "metadata": {},
          "execution_count": 28
        }
      ]
    },
    {
      "cell_type": "code",
      "metadata": {
        "colab": {
          "base_uri": "https://localhost:8080/"
        },
        "id": "1JOr5xx3da7B",
        "outputId": "fb45889f-a7a5-4c3c-85fb-64580c045b21"
      },
      "source": [
        "s.unique()"
      ],
      "execution_count": 29,
      "outputs": [
        {
          "output_type": "execute_result",
          "data": {
            "text/plain": [
              "array([ 5.,  0.,  1.,  2.,  3.,  4.,  6., nan])"
            ]
          },
          "metadata": {},
          "execution_count": 29
        }
      ]
    },
    {
      "cell_type": "code",
      "metadata": {
        "colab": {
          "base_uri": "https://localhost:8080/"
        },
        "id": "HBIgHIFFdhps",
        "outputId": "ceae6353-4a6c-4f1f-94f5-9209376bbca8"
      },
      "source": [
        "s.value_counts()"
      ],
      "execution_count": 31,
      "outputs": [
        {
          "output_type": "execute_result",
          "data": {
            "text/plain": [
              "1.0    2\n",
              "5.0    2\n",
              "6.0    1\n",
              "4.0    1\n",
              "3.0    1\n",
              "2.0    1\n",
              "0.0    1\n",
              "dtype: int64"
            ]
          },
          "metadata": {},
          "execution_count": 31
        }
      ]
    },
    {
      "cell_type": "code",
      "metadata": {
        "id": "QXpn7f3Idk7p"
      },
      "source": [
        ""
      ],
      "execution_count": null,
      "outputs": []
    },
    {
      "cell_type": "markdown",
      "metadata": {
        "id": "YFlypLDIePqD"
      },
      "source": [
        "# Alignment via index labels"
      ]
    },
    {
      "cell_type": "code",
      "metadata": {
        "colab": {
          "base_uri": "https://localhost:8080/"
        },
        "id": "Hjhk1R93eTo1",
        "outputId": "9278f260-197a-4258-a44c-5b1eca82efb9"
      },
      "source": [
        "s3 = pd.Series([1, 2, 3, 4], index=['a', 'b', 'c', 'd'])\n",
        "s3"
      ],
      "execution_count": 32,
      "outputs": [
        {
          "output_type": "execute_result",
          "data": {
            "text/plain": [
              "a    1\n",
              "b    2\n",
              "c    3\n",
              "d    4\n",
              "dtype: int64"
            ]
          },
          "metadata": {},
          "execution_count": 32
        }
      ]
    },
    {
      "cell_type": "code",
      "metadata": {
        "colab": {
          "base_uri": "https://localhost:8080/"
        },
        "id": "z8dzR5fBeXm6",
        "outputId": "033c38d4-19d0-457d-827b-ac8f9951ebf6"
      },
      "source": [
        "s4 = pd.Series([4, 3, 2, 1], index=['d', 'c', 'b', 'a'])\n",
        "s4"
      ],
      "execution_count": 33,
      "outputs": [
        {
          "output_type": "execute_result",
          "data": {
            "text/plain": [
              "d    4\n",
              "c    3\n",
              "b    2\n",
              "a    1\n",
              "dtype: int64"
            ]
          },
          "metadata": {},
          "execution_count": 33
        }
      ]
    },
    {
      "cell_type": "code",
      "metadata": {
        "colab": {
          "base_uri": "https://localhost:8080/"
        },
        "id": "ck7gO_OLea1w",
        "outputId": "22562b2d-c73f-4265-8eb0-cd848f08d5af"
      },
      "source": [
        "s3+s4"
      ],
      "execution_count": 34,
      "outputs": [
        {
          "output_type": "execute_result",
          "data": {
            "text/plain": [
              "a    2\n",
              "b    4\n",
              "c    6\n",
              "d    8\n",
              "dtype: int64"
            ]
          },
          "metadata": {},
          "execution_count": 34
        }
      ]
    },
    {
      "cell_type": "code",
      "metadata": {
        "colab": {
          "base_uri": "https://localhost:8080/"
        },
        "id": "pdKr4zgeedmE",
        "outputId": "f015d439-3bab-406e-bc5a-e302ba62d34d"
      },
      "source": [
        "a1 = np.array([1, 2, 3, 4])\n",
        "a2 = np.array([4, 3, 2, 1])\n",
        "a1+a2"
      ],
      "execution_count": 35,
      "outputs": [
        {
          "output_type": "execute_result",
          "data": {
            "text/plain": [
              "array([5, 5, 5, 5])"
            ]
          },
          "metadata": {},
          "execution_count": 35
        }
      ]
    },
    {
      "cell_type": "code",
      "metadata": {
        "id": "_iLNEdu4esez"
      },
      "source": [
        ""
      ],
      "execution_count": null,
      "outputs": []
    },
    {
      "cell_type": "markdown",
      "metadata": {
        "id": "Zp3e0DI4ex7f"
      },
      "source": [
        "# **Creating a DataFrame**"
      ]
    },
    {
      "cell_type": "code",
      "metadata": {
        "colab": {
          "base_uri": "https://localhost:8080/"
        },
        "id": "5xjnG6age3MJ",
        "outputId": "01ec1883-3ec3-4d72-9e18-212f1814d5c1"
      },
      "source": [
        "pd.DataFrame(np.array([[10,11],[20,21]]))"
      ],
      "execution_count": 38,
      "outputs": [
        {
          "output_type": "execute_result",
          "data": {
            "text/plain": [
              "    0   1\n",
              "0  10  11\n",
              "1  20  21"
            ]
          },
          "metadata": {},
          "execution_count": 38
        }
      ]
    },
    {
      "cell_type": "code",
      "metadata": {
        "colab": {
          "base_uri": "https://localhost:8080/"
        },
        "id": "2ireo_UNfBIu",
        "outputId": "d7e4f9db-711e-40ab-9b0e-6b00f2d664cd"
      },
      "source": [
        "df1 = pd.DataFrame([pd.Series(np.arange(10,15)), pd.Series(np.arange(15,20))])\n",
        "df1"
      ],
      "execution_count": 39,
      "outputs": [
        {
          "output_type": "execute_result",
          "data": {
            "text/plain": [
              "    0   1   2   3   4\n",
              "0  10  11  12  13  14\n",
              "1  15  16  17  18  19"
            ]
          },
          "metadata": {},
          "execution_count": 39
        }
      ]
    },
    {
      "cell_type": "code",
      "metadata": {
        "colab": {
          "base_uri": "https://localhost:8080/"
        },
        "id": "c8sI2S_afxYi",
        "outputId": "70392332-ab44-47e0-f261-7fd9884480ff"
      },
      "source": [
        "df1.shape"
      ],
      "execution_count": 40,
      "outputs": [
        {
          "output_type": "execute_result",
          "data": {
            "text/plain": [
              "(2, 5)"
            ]
          },
          "metadata": {},
          "execution_count": 40
        }
      ]
    },
    {
      "cell_type": "code",
      "metadata": {
        "id": "qidIxGa6f1Oy"
      },
      "source": [
        "df = pd.DataFrame(np.array([[10,11],[20,21]]), columns=['a','b'])"
      ],
      "execution_count": 41,
      "outputs": []
    },
    {
      "cell_type": "code",
      "metadata": {
        "colab": {
          "base_uri": "https://localhost:8080/"
        },
        "id": "cX9mQOCkgCch",
        "outputId": "86f42e41-eb5e-4373-b7c8-5f909eff78da"
      },
      "source": [
        "df"
      ],
      "execution_count": 42,
      "outputs": [
        {
          "output_type": "execute_result",
          "data": {
            "text/plain": [
              "    a   b\n",
              "0  10  11\n",
              "1  20  21"
            ]
          },
          "metadata": {},
          "execution_count": 42
        }
      ]
    },
    {
      "cell_type": "code",
      "metadata": {
        "colab": {
          "base_uri": "https://localhost:8080/"
        },
        "id": "QM-dZLjhgDFe",
        "outputId": "fa8a8969-06c0-4dec-ba6a-930d006c6b43"
      },
      "source": [
        "df.columns"
      ],
      "execution_count": 43,
      "outputs": [
        {
          "output_type": "execute_result",
          "data": {
            "text/plain": [
              "Index(['a', 'b'], dtype='object')"
            ]
          },
          "metadata": {},
          "execution_count": 43
        }
      ]
    },
    {
      "cell_type": "code",
      "metadata": {
        "colab": {
          "base_uri": "https://localhost:8080/"
        },
        "id": "lvlUJ4nYgI2A",
        "outputId": "04e1a3b1-95bc-4e85-acae-f1642519f32e"
      },
      "source": [
        "df.columns = ['c1','c2']\n",
        "df"
      ],
      "execution_count": 44,
      "outputs": [
        {
          "output_type": "execute_result",
          "data": {
            "text/plain": [
              "   c1  c2\n",
              "0  10  11\n",
              "1  20  21"
            ]
          },
          "metadata": {},
          "execution_count": 44
        }
      ]
    },
    {
      "cell_type": "code",
      "metadata": {
        "id": "6Vu4VRRjgUay"
      },
      "source": [
        "df = pd.DataFrame(np.array([[0,1],[2,3]]), columns=['c1','c2'],  index=['r1','r2'])"
      ],
      "execution_count": 53,
      "outputs": []
    },
    {
      "cell_type": "code",
      "metadata": {
        "colab": {
          "base_uri": "https://localhost:8080/"
        },
        "id": "wXzEMnZwhzvr",
        "outputId": "2635efbe-85dc-4305-fd6a-be093311f6b7"
      },
      "source": [
        "df"
      ],
      "execution_count": 55,
      "outputs": [
        {
          "output_type": "execute_result",
          "data": {
            "text/plain": [
              "    c1  c2\n",
              "r1   0   1\n",
              "r2   2   3"
            ]
          },
          "metadata": {},
          "execution_count": 55
        }
      ]
    },
    {
      "cell_type": "code",
      "metadata": {
        "colab": {
          "base_uri": "https://localhost:8080/"
        },
        "id": "Jw5_n3RGh0Wx",
        "outputId": "95058992-c85f-411b-9ac0-7a50ef85b623"
      },
      "source": [
        "df.index"
      ],
      "execution_count": 56,
      "outputs": [
        {
          "output_type": "execute_result",
          "data": {
            "text/plain": [
              "Index(['r1', 'r2'], dtype='object')"
            ]
          },
          "metadata": {},
          "execution_count": 56
        }
      ]
    },
    {
      "cell_type": "code",
      "metadata": {
        "colab": {
          "base_uri": "https://localhost:8080/"
        },
        "id": "d7mF42DxxIRL",
        "outputId": "58b93845-5e3b-408f-c2a7-d8baad8f60c0"
      },
      "source": [
        "df.values"
      ],
      "execution_count": 57,
      "outputs": [
        {
          "output_type": "execute_result",
          "data": {
            "text/plain": [
              "array([[0, 1],\n",
              "       [2, 3]])"
            ]
          },
          "metadata": {},
          "execution_count": 57
        }
      ]
    },
    {
      "cell_type": "code",
      "metadata": {
        "colab": {
          "base_uri": "https://localhost:8080/"
        },
        "id": "KmXueXJ2xLLY",
        "outputId": "bd7aac15-c9c7-4478-d793-c90e6390c305"
      },
      "source": [
        "s1 = pd.Series(np.arange(1,6,1))\n",
        "s2 = pd.Series(np.arange(6,11,1))\n",
        "pd.DataFrame({'c1':s1, 'c2':s2})"
      ],
      "execution_count": 58,
      "outputs": [
        {
          "output_type": "execute_result",
          "data": {
            "text/plain": [
              "   c1  c2\n",
              "0   1   6\n",
              "1   2   7\n",
              "2   3   8\n",
              "3   4   9\n",
              "4   5  10"
            ]
          },
          "metadata": {},
          "execution_count": 58
        }
      ]
    },
    {
      "cell_type": "code",
      "metadata": {
        "id": "ShfHn3OYxgND"
      },
      "source": [
        "s3 = pd.Series(np.arange(12,14), index=[1,2])"
      ],
      "execution_count": 59,
      "outputs": []
    },
    {
      "cell_type": "code",
      "metadata": {
        "colab": {
          "base_uri": "https://localhost:8080/"
        },
        "id": "ijHJ6Ym0xwJn",
        "outputId": "e5c2e288-94ee-435d-d1d5-959a7d142025"
      },
      "source": [
        "pd.DataFrame({'c1':s1,'c2':s2, 'c3':s3})"
      ],
      "execution_count": 62,
      "outputs": [
        {
          "output_type": "execute_result",
          "data": {
            "text/plain": [
              "   c1  c2    c3\n",
              "0   1   6   NaN\n",
              "1   2   7  12.0\n",
              "2   3   8  13.0\n",
              "3   4   9   NaN\n",
              "4   5  10   NaN"
            ]
          },
          "metadata": {},
          "execution_count": 62
        }
      ]
    },
    {
      "cell_type": "code",
      "metadata": {
        "id": "tDpoLzXCx5Ms"
      },
      "source": [
        ""
      ],
      "execution_count": null,
      "outputs": []
    },
    {
      "cell_type": "markdown",
      "metadata": {
        "id": "YhztgKAXyK4z"
      },
      "source": [
        "## Example data"
      ]
    },
    {
      "cell_type": "code",
      "metadata": {
        "id": "4rNCwYwlyND4"
      },
      "source": [
        "sp500 = pd.read_csv('sp500.csv', index_col='Symbol', usecols=[0,2,3,7])"
      ],
      "execution_count": 67,
      "outputs": []
    },
    {
      "cell_type": "code",
      "metadata": {
        "colab": {
          "base_uri": "https://localhost:8080/"
        },
        "id": "LhN0ngcZyzjI",
        "outputId": "1f594170-b991-480e-f266-aa77a8f0f4fd"
      },
      "source": [
        "sp500.head()"
      ],
      "execution_count": 68,
      "outputs": [
        {
          "output_type": "execute_result",
          "data": {
            "text/plain": [
              "                        Sector   Price  Book Value\n",
              "Symbol                                            \n",
              "MMM                Industrials  141.14      26.668\n",
              "ABT                Health Care   39.60      15.573\n",
              "ABBV               Health Care   53.95       2.954\n",
              "ACN     Information Technology   79.79       8.326\n",
              "ACE                 Financials  102.91      86.897"
            ]
          },
          "metadata": {},
          "execution_count": 68
        }
      ]
    },
    {
      "cell_type": "code",
      "metadata": {
        "colab": {
          "base_uri": "https://localhost:8080/"
        },
        "id": "gtoZdiAKzbSi",
        "outputId": "327f8fd6-1eb2-4a05-d9fd-922c6bff4592"
      },
      "source": [
        "sp500.index"
      ],
      "execution_count": 69,
      "outputs": [
        {
          "output_type": "execute_result",
          "data": {
            "text/plain": [
              "Index(['MMM', 'ABT', 'ABBV', 'ACN', 'ACE', 'ACT', 'ADBE', 'AES', 'AET', 'AFL',\n",
              "       ...\n",
              "       'XEL', 'XRX', 'XLNX', 'XL', 'XYL', 'YHOO', 'YUM', 'ZMH', 'ZION', 'ZTS'],\n",
              "      dtype='object', name='Symbol', length=500)"
            ]
          },
          "metadata": {},
          "execution_count": 69
        }
      ]
    },
    {
      "cell_type": "code",
      "metadata": {
        "id": "sgWUB87szlu8"
      },
      "source": [
        ""
      ],
      "execution_count": null,
      "outputs": []
    },
    {
      "cell_type": "markdown",
      "metadata": {
        "id": "0yeb-3x7z53e"
      },
      "source": [
        "## Selecting columns of a DataFrame"
      ]
    },
    {
      "cell_type": "code",
      "metadata": {
        "colab": {
          "base_uri": "https://localhost:8080/"
        },
        "id": "c6X3agJIz7O7",
        "outputId": "c48109cc-5336-4eba-93bb-fe90fb0668d8"
      },
      "source": [
        "sp500[:2][:1]"
      ],
      "execution_count": 80,
      "outputs": [
        {
          "output_type": "execute_result",
          "data": {
            "text/plain": [
              "             Sector   Price  Book Value\n",
              "Symbol                                 \n",
              "MMM     Industrials  141.14      26.668"
            ]
          },
          "metadata": {},
          "execution_count": 80
        }
      ]
    },
    {
      "cell_type": "code",
      "metadata": {
        "colab": {
          "base_uri": "https://localhost:8080/"
        },
        "id": "wfMnjdQh0AwR",
        "outputId": "761a1608-916c-4a8b-8a73-435eb4cec27f"
      },
      "source": [
        "sp500['Price']"
      ],
      "execution_count": 83,
      "outputs": [
        {
          "output_type": "execute_result",
          "data": {
            "text/plain": [
              "Symbol\n",
              "MMM     141.14\n",
              "ABT      39.60\n",
              "ABBV     53.95\n",
              "ACN      79.79\n",
              "ACE     102.91\n",
              "         ...  \n",
              "YHOO     35.02\n",
              "YUM      74.77\n",
              "ZMH     101.84\n",
              "ZION     28.43\n",
              "ZTS      30.53\n",
              "Name: Price, Length: 500, dtype: float64"
            ]
          },
          "metadata": {},
          "execution_count": 83
        }
      ]
    },
    {
      "cell_type": "code",
      "metadata": {
        "colab": {
          "base_uri": "https://localhost:8080/"
        },
        "id": "hmR2tkRh1BBh",
        "outputId": "a24fe848-3a80-483f-e909-96c36e331302"
      },
      "source": [
        "sp500.columns"
      ],
      "execution_count": 85,
      "outputs": [
        {
          "output_type": "execute_result",
          "data": {
            "text/plain": [
              "Index(['Sector', 'Price', 'Book Value'], dtype='object')"
            ]
          },
          "metadata": {},
          "execution_count": 85
        }
      ]
    },
    {
      "cell_type": "code",
      "metadata": {
        "colab": {
          "base_uri": "https://localhost:8080/"
        },
        "id": "8D5cWqiG1WH0",
        "outputId": "8225e3d7-356b-4e25-b988-487deae4d895"
      },
      "source": [
        "sp500[['Price','Book Value']].head(2)"
      ],
      "execution_count": 88,
      "outputs": [
        {
          "output_type": "execute_result",
          "data": {
            "text/plain": [
              "         Price  Book Value\n",
              "Symbol                    \n",
              "MMM     141.14      26.668\n",
              "ABT      39.60      15.573"
            ]
          },
          "metadata": {},
          "execution_count": 88
        }
      ]
    },
    {
      "cell_type": "code",
      "metadata": {
        "colab": {
          "base_uri": "https://localhost:8080/"
        },
        "id": "cXA4QuSN1f0B",
        "outputId": "544cea49-3ceb-4ebd-b734-50e8347a5e38"
      },
      "source": [
        "sp500.Price"
      ],
      "execution_count": 89,
      "outputs": [
        {
          "output_type": "execute_result",
          "data": {
            "text/plain": [
              "Symbol\n",
              "MMM     141.14\n",
              "ABT      39.60\n",
              "ABBV     53.95\n",
              "ACN      79.79\n",
              "ACE     102.91\n",
              "         ...  \n",
              "YHOO     35.02\n",
              "YUM      74.77\n",
              "ZMH     101.84\n",
              "ZION     28.43\n",
              "ZTS      30.53\n",
              "Name: Price, Length: 500, dtype: float64"
            ]
          },
          "metadata": {},
          "execution_count": 89
        }
      ]
    },
    {
      "cell_type": "code",
      "metadata": {
        "id": "6sOI0Cw61s4d"
      },
      "source": [
        ""
      ],
      "execution_count": null,
      "outputs": []
    },
    {
      "cell_type": "markdown",
      "metadata": {
        "id": "7IYQ_0NO1z5-"
      },
      "source": [
        "## Selecting rows of a DataFrame"
      ]
    },
    {
      "cell_type": "code",
      "metadata": {
        "colab": {
          "base_uri": "https://localhost:8080/"
        },
        "id": "GIIP98SY11e0",
        "outputId": "e9fa4ed7-ffb2-41d6-8ddc-de13c92978fd"
      },
      "source": [
        "sp500[:3]"
      ],
      "execution_count": 90,
      "outputs": [
        {
          "output_type": "execute_result",
          "data": {
            "text/plain": [
              "             Sector   Price  Book Value\n",
              "Symbol                                 \n",
              "MMM     Industrials  141.14      26.668\n",
              "ABT     Health Care   39.60      15.573\n",
              "ABBV    Health Care   53.95       2.954"
            ]
          },
          "metadata": {},
          "execution_count": 90
        }
      ]
    },
    {
      "cell_type": "code",
      "metadata": {
        "colab": {
          "base_uri": "https://localhost:8080/"
        },
        "id": "13kyiVp23Fso",
        "outputId": "47743be0-bb17-4ea4-d185-8c9b93cf2c95"
      },
      "source": [
        "sp500['XYL':'YUM']"
      ],
      "execution_count": 91,
      "outputs": [
        {
          "output_type": "execute_result",
          "data": {
            "text/plain": [
              "                        Sector  Price  Book Value\n",
              "Symbol                                           \n",
              "XYL                Industrials  38.42      12.127\n",
              "YHOO    Information Technology  35.02      12.768\n",
              "YUM     Consumer Discretionary  74.77       5.147"
            ]
          },
          "metadata": {},
          "execution_count": 91
        }
      ]
    },
    {
      "cell_type": "code",
      "metadata": {
        "colab": {
          "base_uri": "https://localhost:8080/"
        },
        "id": "4aBXjq603Nnp",
        "outputId": "53c6537f-57ac-48ee-f2d3-ca9735247fc3"
      },
      "source": [
        "sp500.loc['MMM']"
      ],
      "execution_count": 93,
      "outputs": [
        {
          "output_type": "execute_result",
          "data": {
            "text/plain": [
              "Sector        Industrials\n",
              "Price              141.14\n",
              "Book Value         26.668\n",
              "Name: MMM, dtype: object"
            ]
          },
          "metadata": {},
          "execution_count": 93
        }
      ]
    },
    {
      "cell_type": "code",
      "metadata": {
        "colab": {
          "base_uri": "https://localhost:8080/"
        },
        "id": "jcrTsgdd3134",
        "outputId": "c9d644bb-66a1-4a69-916d-e67da0b63db0"
      },
      "source": [
        "sp500.loc[['MMM','MSFT']]"
      ],
      "execution_count": 96,
      "outputs": [
        {
          "output_type": "execute_result",
          "data": {
            "text/plain": [
              "                        Sector   Price  Book Value\n",
              "Symbol                                            \n",
              "MMM                Industrials  141.14      26.668\n",
              "MSFT    Information Technology   40.12      10.584"
            ]
          },
          "metadata": {},
          "execution_count": 96
        }
      ]
    },
    {
      "cell_type": "code",
      "metadata": {
        "colab": {
          "base_uri": "https://localhost:8080/"
        },
        "id": "S4aT9hH-4BXa",
        "outputId": "b3a18ae5-37e4-41e8-b2f6-82018abacfdf"
      },
      "source": [
        "sp500.iloc[[0,2]]"
      ],
      "execution_count": 97,
      "outputs": [
        {
          "output_type": "execute_result",
          "data": {
            "text/plain": [
              "             Sector   Price  Book Value\n",
              "Symbol                                 \n",
              "MMM     Industrials  141.14      26.668\n",
              "ABBV    Health Care   53.95       2.954"
            ]
          },
          "metadata": {},
          "execution_count": 97
        }
      ]
    },
    {
      "cell_type": "code",
      "metadata": {
        "id": "QSAGyIkc4QYi"
      },
      "source": [
        "i1 = sp500.index.get_loc('MMM')\n",
        "i2 = sp500.index.get_loc('A')"
      ],
      "execution_count": 99,
      "outputs": []
    },
    {
      "cell_type": "code",
      "metadata": {
        "colab": {
          "base_uri": "https://localhost:8080/"
        },
        "id": "raFanp9l4mYD",
        "outputId": "6a6bd61d-7b4f-48f1-ab07-f11941835eb3"
      },
      "source": [
        "sp500.iloc[[i1,i2]]"
      ],
      "execution_count": 102,
      "outputs": [
        {
          "output_type": "execute_result",
          "data": {
            "text/plain": [
              "             Sector   Price  Book Value\n",
              "Symbol                                 \n",
              "MMM     Industrials  141.14      26.668\n",
              "A       Health Care   56.18      16.928"
            ]
          },
          "metadata": {},
          "execution_count": 102
        }
      ]
    },
    {
      "cell_type": "code",
      "metadata": {
        "id": "C98juI0Q4szT"
      },
      "source": [
        ""
      ],
      "execution_count": null,
      "outputs": []
    },
    {
      "cell_type": "markdown",
      "metadata": {
        "id": "ri-kafyd5XYK"
      },
      "source": [
        "## Selecting rows by index label and/or location: .ix[]"
      ]
    },
    {
      "cell_type": "code",
      "metadata": {
        "colab": {
          "base_uri": "https://localhost:8080/",
          "height": 282
        },
        "id": "ajacR4pR5ZAA",
        "outputId": "b9d9f44e-8e8c-4e41-dda4-fe16064c4b18"
      },
      "source": [
        "sp500.ix[['MSFT', 'ZTS']]"
      ],
      "execution_count": 104,
      "outputs": [
        {
          "output_type": "error",
          "ename": "AttributeError",
          "evalue": "ignored",
          "traceback": [
            "\u001b[0;31m---------------------------------------------------------------------------\u001b[0m",
            "\u001b[0;31mAttributeError\u001b[0m                            Traceback (most recent call last)",
            "\u001b[0;32m<ipython-input-104-b55a2620ac4f>\u001b[0m in \u001b[0;36m<module>\u001b[0;34m()\u001b[0m\n\u001b[0;32m----> 1\u001b[0;31m \u001b[0msp500\u001b[0m\u001b[0;34m.\u001b[0m\u001b[0mix\u001b[0m\u001b[0;34m[\u001b[0m\u001b[0;34m[\u001b[0m\u001b[0;34m'MSFT'\u001b[0m\u001b[0;34m,\u001b[0m \u001b[0;34m'ZTS'\u001b[0m\u001b[0;34m]\u001b[0m\u001b[0;34m]\u001b[0m\u001b[0;34m\u001b[0m\u001b[0;34m\u001b[0m\u001b[0m\n\u001b[0m",
            "\u001b[0;32m/usr/local/lib/python3.7/dist-packages/pandas/core/generic.py\u001b[0m in \u001b[0;36m__getattr__\u001b[0;34m(self, name)\u001b[0m\n\u001b[1;32m   5139\u001b[0m             \u001b[0;32mif\u001b[0m \u001b[0mself\u001b[0m\u001b[0;34m.\u001b[0m\u001b[0m_info_axis\u001b[0m\u001b[0;34m.\u001b[0m\u001b[0m_can_hold_identifiers_and_holds_name\u001b[0m\u001b[0;34m(\u001b[0m\u001b[0mname\u001b[0m\u001b[0;34m)\u001b[0m\u001b[0;34m:\u001b[0m\u001b[0;34m\u001b[0m\u001b[0;34m\u001b[0m\u001b[0m\n\u001b[1;32m   5140\u001b[0m                 \u001b[0;32mreturn\u001b[0m \u001b[0mself\u001b[0m\u001b[0;34m[\u001b[0m\u001b[0mname\u001b[0m\u001b[0;34m]\u001b[0m\u001b[0;34m\u001b[0m\u001b[0;34m\u001b[0m\u001b[0m\n\u001b[0;32m-> 5141\u001b[0;31m             \u001b[0;32mreturn\u001b[0m \u001b[0mobject\u001b[0m\u001b[0;34m.\u001b[0m\u001b[0m__getattribute__\u001b[0m\u001b[0;34m(\u001b[0m\u001b[0mself\u001b[0m\u001b[0;34m,\u001b[0m \u001b[0mname\u001b[0m\u001b[0;34m)\u001b[0m\u001b[0;34m\u001b[0m\u001b[0;34m\u001b[0m\u001b[0m\n\u001b[0m\u001b[1;32m   5142\u001b[0m \u001b[0;34m\u001b[0m\u001b[0m\n\u001b[1;32m   5143\u001b[0m     \u001b[0;32mdef\u001b[0m \u001b[0m__setattr__\u001b[0m\u001b[0;34m(\u001b[0m\u001b[0mself\u001b[0m\u001b[0;34m,\u001b[0m \u001b[0mname\u001b[0m\u001b[0;34m:\u001b[0m \u001b[0mstr\u001b[0m\u001b[0;34m,\u001b[0m \u001b[0mvalue\u001b[0m\u001b[0;34m)\u001b[0m \u001b[0;34m->\u001b[0m \u001b[0;32mNone\u001b[0m\u001b[0;34m:\u001b[0m\u001b[0;34m\u001b[0m\u001b[0;34m\u001b[0m\u001b[0m\n",
            "\u001b[0;31mAttributeError\u001b[0m: 'DataFrame' object has no attribute 'ix'"
          ]
        }
      ]
    },
    {
      "cell_type": "code",
      "metadata": {
        "colab": {
          "base_uri": "https://localhost:8080/"
        },
        "id": "WKlG9SqL5jFA",
        "outputId": "f628ecbc-79a0-40e5-fef5-41da7c9095cf"
      },
      "source": [
        "sp500.at['MMM', 'Price']"
      ],
      "execution_count": 105,
      "outputs": [
        {
          "output_type": "execute_result",
          "data": {
            "text/plain": [
              "141.14"
            ]
          },
          "metadata": {},
          "execution_count": 105
        }
      ]
    },
    {
      "cell_type": "code",
      "metadata": {
        "colab": {
          "base_uri": "https://localhost:8080/"
        },
        "id": "wXK0Z6wZ5rLk",
        "outputId": "36bb6395-9810-4b58-8cd3-9b3755042477"
      },
      "source": [
        "sp500.iat[0,1]"
      ],
      "execution_count": 107,
      "outputs": [
        {
          "output_type": "execute_result",
          "data": {
            "text/plain": [
              "141.14"
            ]
          },
          "metadata": {},
          "execution_count": 107
        }
      ]
    },
    {
      "cell_type": "code",
      "metadata": {
        "colab": {
          "base_uri": "https://localhost:8080/"
        },
        "id": "QLYr-TkP590C",
        "outputId": "e4f2d600-6e3f-4d95-cae5-cdfa61e26327"
      },
      "source": [
        "sp500[sp500.Price < 100]"
      ],
      "execution_count": 109,
      "outputs": [
        {
          "output_type": "execute_result",
          "data": {
            "text/plain": [
              "                        Sector  Price  Book Value\n",
              "Symbol                                           \n",
              "ABT                Health Care  39.60      15.573\n",
              "ABBV               Health Care  53.95       2.954\n",
              "ACN     Information Technology  79.79       8.326\n",
              "ADBE    Information Technology  64.30      13.262\n",
              "AES                  Utilities  13.61       5.781\n",
              "...                        ...    ...         ...\n",
              "XYL                Industrials  38.42      12.127\n",
              "YHOO    Information Technology  35.02      12.768\n",
              "YUM     Consumer Discretionary  74.77       5.147\n",
              "ZION                Financials  28.43      30.191\n",
              "ZTS                Health Care  30.53       2.150\n",
              "\n",
              "[407 rows x 3 columns]"
            ]
          },
          "metadata": {},
          "execution_count": 109
        }
      ]
    },
    {
      "cell_type": "code",
      "metadata": {
        "colab": {
          "base_uri": "https://localhost:8080/"
        },
        "id": "GNYO3oP06KLL",
        "outputId": "7042864b-052f-419d-d53e-be5447930472"
      },
      "source": [
        "sp500[(sp500.Price < 10) & (sp500.Price > 0)]"
      ],
      "execution_count": 112,
      "outputs": [
        {
          "output_type": "execute_result",
          "data": {
            "text/plain": [
              "                             Sector  Price  Book Value\n",
              "Symbol                                                \n",
              "FTR     Telecommunications Services   5.81       3.989\n",
              "HCBK                     Financials   9.80       9.596\n",
              "HBAN                     Financials   9.10       6.995\n",
              "SLM                      Financials   8.82      11.895\n",
              "WIN     Telecommunications Services   9.38       1.199"
            ]
          },
          "metadata": {},
          "execution_count": 112
        }
      ]
    },
    {
      "cell_type": "code",
      "metadata": {
        "id": "AUmKNIrJ6hxq"
      },
      "source": [
        ""
      ],
      "execution_count": null,
      "outputs": []
    },
    {
      "cell_type": "markdown",
      "metadata": {
        "id": "TIyCI69s6xvs"
      },
      "source": [
        "## Arithmetic on a DataFrame¶"
      ]
    },
    {
      "cell_type": "code",
      "metadata": {
        "id": "aEwyqs4E6zLX"
      },
      "source": [
        "np.random.seed(1)\n",
        "df = pd.DataFrame(np.random.randn(5,4),columns=['A','B','C','D'])"
      ],
      "execution_count": 117,
      "outputs": []
    },
    {
      "cell_type": "code",
      "metadata": {
        "colab": {
          "base_uri": "https://localhost:8080/"
        },
        "id": "tqlpOYM_7km2",
        "outputId": "51a78f6c-5acf-426f-d357-8b56af9299b9"
      },
      "source": [
        "df"
      ],
      "execution_count": 118,
      "outputs": [
        {
          "output_type": "execute_result",
          "data": {
            "text/plain": [
              "          A         B         C         D\n",
              "0  1.624345 -0.611756 -0.528172 -1.072969\n",
              "1  0.865408 -2.301539  1.744812 -0.761207\n",
              "2  0.319039 -0.249370  1.462108 -2.060141\n",
              "3 -0.322417 -0.384054  1.133769 -1.099891\n",
              "4 -0.172428 -0.877858  0.042214  0.582815"
            ]
          },
          "metadata": {},
          "execution_count": 118
        }
      ]
    },
    {
      "cell_type": "code",
      "metadata": {
        "colab": {
          "base_uri": "https://localhost:8080/"
        },
        "id": "7-kx6Xen7lKC",
        "outputId": "e8a958d3-d7c7-42d1-8ff9-1a66633b54a4"
      },
      "source": [
        "df*2"
      ],
      "execution_count": 119,
      "outputs": [
        {
          "output_type": "execute_result",
          "data": {
            "text/plain": [
              "          A         B         C         D\n",
              "0  3.248691 -1.223513 -1.056344 -2.145937\n",
              "1  1.730815 -4.603077  3.489624 -1.522414\n",
              "2  0.638078 -0.498741  2.924216 -4.120281\n",
              "3 -0.644834 -0.768109  2.267539 -2.199783\n",
              "4 -0.344856 -1.755717  0.084427  1.165630"
            ]
          },
          "metadata": {},
          "execution_count": 119
        }
      ]
    },
    {
      "cell_type": "code",
      "metadata": {
        "colab": {
          "base_uri": "https://localhost:8080/"
        },
        "id": "u-tdseXW7pb0",
        "outputId": "3e4eb66e-998b-4772-de85-a14d72d867f4"
      },
      "source": [
        "df - df.iloc[0]"
      ],
      "execution_count": 120,
      "outputs": [
        {
          "output_type": "execute_result",
          "data": {
            "text/plain": [
              "          A         B         C         D\n",
              "0  0.000000  0.000000  0.000000  0.000000\n",
              "1 -0.758938 -1.689782  2.272984  0.311762\n",
              "2 -1.305306  0.362386  1.990280 -0.987172\n",
              "3 -1.946763  0.227702  1.661941 -0.026923\n",
              "4 -1.796774 -0.266102  0.570385  1.655784"
            ]
          },
          "metadata": {},
          "execution_count": 120
        }
      ]
    },
    {
      "cell_type": "code",
      "metadata": {
        "id": "yMIAnHlu7xGh"
      },
      "source": [
        "subframe = df[1:4][['B','C']]"
      ],
      "execution_count": 121,
      "outputs": []
    },
    {
      "cell_type": "code",
      "metadata": {
        "colab": {
          "base_uri": "https://localhost:8080/"
        },
        "id": "cHkD6T0B8KNo",
        "outputId": "a6b306ab-c8c8-4ada-94f7-7ed68c0f6d97"
      },
      "source": [
        "subframe"
      ],
      "execution_count": 123,
      "outputs": [
        {
          "output_type": "execute_result",
          "data": {
            "text/plain": [
              "          B         C\n",
              "1 -2.301539  1.744812\n",
              "2 -0.249370  1.462108\n",
              "3 -0.384054  1.133769"
            ]
          },
          "metadata": {},
          "execution_count": 123
        }
      ]
    },
    {
      "cell_type": "code",
      "metadata": {
        "colab": {
          "base_uri": "https://localhost:8080/"
        },
        "id": "2SQ8XLvT8LUY",
        "outputId": "a098a10f-b7bf-40c3-af04-e4b739d64187"
      },
      "source": [
        "df - subframe"
      ],
      "execution_count": 124,
      "outputs": [
        {
          "output_type": "execute_result",
          "data": {
            "text/plain": [
              "    A    B    C   D\n",
              "0 NaN  NaN  NaN NaN\n",
              "1 NaN  0.0  0.0 NaN\n",
              "2 NaN  0.0  0.0 NaN\n",
              "3 NaN  0.0  0.0 NaN\n",
              "4 NaN  NaN  NaN NaN"
            ]
          },
          "metadata": {},
          "execution_count": 124
        }
      ]
    },
    {
      "cell_type": "code",
      "metadata": {
        "id": "BdsigEij8Xl0"
      },
      "source": [
        "a_col = df['A']"
      ],
      "execution_count": 126,
      "outputs": []
    },
    {
      "cell_type": "code",
      "metadata": {
        "colab": {
          "base_uri": "https://localhost:8080/"
        },
        "id": "CI919aML80Cl",
        "outputId": "9e8c38a3-3c8b-4d10-a35b-77eae1f78b73"
      },
      "source": [
        "df.sub(a_col, axis=0)"
      ],
      "execution_count": 127,
      "outputs": [
        {
          "output_type": "execute_result",
          "data": {
            "text/plain": [
              "     A         B         C         D\n",
              "0  0.0 -2.236102 -2.152517 -2.697314\n",
              "1  0.0 -3.166946  0.879404 -1.626615\n",
              "2  0.0 -0.568409  1.143069 -2.379180\n",
              "3  0.0 -0.061637  1.456187 -0.777474\n",
              "4  0.0 -0.705430  0.214642  0.755243"
            ]
          },
          "metadata": {},
          "execution_count": 127
        }
      ]
    },
    {
      "cell_type": "markdown",
      "metadata": {
        "id": "rCFXw1uW-D7Z"
      },
      "source": [
        "## Reindexing Series and DataFrame objects"
      ]
    },
    {
      "cell_type": "code",
      "metadata": {
        "id": "JhP96Jqb8-_u"
      },
      "source": [
        "np.random.seed(1)\n",
        "s = pd.Series(np.random.randn(5))"
      ],
      "execution_count": 128,
      "outputs": []
    },
    {
      "cell_type": "code",
      "metadata": {
        "colab": {
          "base_uri": "https://localhost:8080/"
        },
        "id": "9BkZIC8W-e4V",
        "outputId": "0bd2ff21-bee3-4435-95e4-a24776333098"
      },
      "source": [
        "s"
      ],
      "execution_count": 129,
      "outputs": [
        {
          "output_type": "execute_result",
          "data": {
            "text/plain": [
              "0    1.624345\n",
              "1   -0.611756\n",
              "2   -0.528172\n",
              "3   -1.072969\n",
              "4    0.865408\n",
              "dtype: float64"
            ]
          },
          "metadata": {},
          "execution_count": 129
        }
      ]
    },
    {
      "cell_type": "code",
      "metadata": {
        "colab": {
          "base_uri": "https://localhost:8080/"
        },
        "id": "-n97TfbG-fqx",
        "outputId": "721a5377-49cd-436f-c011-35547620560c"
      },
      "source": [
        "s.index"
      ],
      "execution_count": 130,
      "outputs": [
        {
          "output_type": "execute_result",
          "data": {
            "text/plain": [
              "RangeIndex(start=0, stop=5, step=1)"
            ]
          },
          "metadata": {},
          "execution_count": 130
        }
      ]
    },
    {
      "cell_type": "code",
      "metadata": {
        "id": "neW4PJzp-iu1"
      },
      "source": [
        "s.index = ['a','b','c','d','e']"
      ],
      "execution_count": 132,
      "outputs": []
    },
    {
      "cell_type": "code",
      "metadata": {
        "colab": {
          "base_uri": "https://localhost:8080/"
        },
        "id": "nS654iwf-tVP",
        "outputId": "b17350ba-c410-4afa-f9ca-ddc81fec9ea1"
      },
      "source": [
        "s"
      ],
      "execution_count": 133,
      "outputs": [
        {
          "output_type": "execute_result",
          "data": {
            "text/plain": [
              "a    1.624345\n",
              "b   -0.611756\n",
              "c   -0.528172\n",
              "d   -1.072969\n",
              "e    0.865408\n",
              "dtype: float64"
            ]
          },
          "metadata": {},
          "execution_count": 133
        }
      ]
    },
    {
      "cell_type": "code",
      "metadata": {
        "id": "Tz2jrwGY-yUu"
      },
      "source": [
        "s2 = s.reindex(['a','c','d','e'])"
      ],
      "execution_count": 134,
      "outputs": []
    },
    {
      "cell_type": "code",
      "metadata": {
        "colab": {
          "base_uri": "https://localhost:8080/"
        },
        "id": "4aXDfT-c_Cn5",
        "outputId": "69404dc3-4b9e-4cfd-adf7-eb7375160391"
      },
      "source": [
        "s2"
      ],
      "execution_count": 135,
      "outputs": [
        {
          "output_type": "execute_result",
          "data": {
            "text/plain": [
              "a    1.624345\n",
              "c   -0.528172\n",
              "d   -1.072969\n",
              "e    0.865408\n",
              "dtype: float64"
            ]
          },
          "metadata": {},
          "execution_count": 135
        }
      ]
    },
    {
      "cell_type": "code",
      "metadata": {
        "id": "NTuUdwY6_Dqd"
      },
      "source": [
        "s2['a'] = 0"
      ],
      "execution_count": 136,
      "outputs": []
    },
    {
      "cell_type": "code",
      "metadata": {
        "colab": {
          "base_uri": "https://localhost:8080/"
        },
        "id": "y4kQw3fH_Ke0",
        "outputId": "03d234a6-7a2b-4202-f6f4-0fb0e378eff4"
      },
      "source": [
        "s2"
      ],
      "execution_count": 137,
      "outputs": [
        {
          "output_type": "execute_result",
          "data": {
            "text/plain": [
              "a    0.000000\n",
              "c   -0.528172\n",
              "d   -1.072969\n",
              "e    0.865408\n",
              "dtype: float64"
            ]
          },
          "metadata": {},
          "execution_count": 137
        }
      ]
    },
    {
      "cell_type": "code",
      "metadata": {
        "colab": {
          "base_uri": "https://localhost:8080/"
        },
        "id": "d-HLu7S1_LU6",
        "outputId": "fa05adce-b2c2-40fd-b25a-4aa1ed1b22ca"
      },
      "source": [
        "s['a']"
      ],
      "execution_count": 138,
      "outputs": [
        {
          "output_type": "execute_result",
          "data": {
            "text/plain": [
              "1.6243453636632417"
            ]
          },
          "metadata": {},
          "execution_count": 138
        }
      ]
    },
    {
      "cell_type": "code",
      "metadata": {
        "colab": {
          "base_uri": "https://localhost:8080/"
        },
        "id": "8oakvLV4_RiM",
        "outputId": "9353957a-1708-4495-9215-dd1b9ca361b5"
      },
      "source": [
        "# Series objects with string and integer index types\n",
        "# with the \"same\" values will not align\n",
        "s1 = pd.Series([0, 1, 2], index=[0, 1, 2])\n",
        "s2 = pd.Series([3, 4, 5], index=['0', '1', '2'])\n",
        "s1 + s2"
      ],
      "execution_count": 139,
      "outputs": [
        {
          "output_type": "execute_result",
          "data": {
            "text/plain": [
              "0   NaN\n",
              "1   NaN\n",
              "2   NaN\n",
              "0   NaN\n",
              "1   NaN\n",
              "2   NaN\n",
              "dtype: float64"
            ]
          },
          "metadata": {},
          "execution_count": 139
        }
      ]
    },
    {
      "cell_type": "code",
      "metadata": {
        "colab": {
          "base_uri": "https://localhost:8080/"
        },
        "id": "eXDIfuSSAX45",
        "outputId": "ebc69fbe-a53b-43e2-8237-9eda4acfddfd"
      },
      "source": [
        "# demonstrate treating values at a specific type\n",
        "s2.index = s2.index.values.astype(int)\n",
        "s1 + s2"
      ],
      "execution_count": 140,
      "outputs": [
        {
          "output_type": "execute_result",
          "data": {
            "text/plain": [
              "0    3\n",
              "1    5\n",
              "2    7\n",
              "dtype: int64"
            ]
          },
          "metadata": {},
          "execution_count": 140
        }
      ]
    },
    {
      "cell_type": "code",
      "metadata": {
        "colab": {
          "base_uri": "https://localhost:8080/"
        },
        "id": "XERHN7VsAcau",
        "outputId": "ff842f5c-97d6-46c8-f8e5-b90b0194e2d3"
      },
      "source": [
        "# show reindexing with filling of NaN with a specified value\n",
        "s2 = s.copy()\n",
        "s2.reindex(['a', 'f'], fill_value=0)"
      ],
      "execution_count": 141,
      "outputs": [
        {
          "output_type": "execute_result",
          "data": {
            "text/plain": [
              "a    1.624345\n",
              "f    0.000000\n",
              "dtype: float64"
            ]
          },
          "metadata": {},
          "execution_count": 141
        }
      ]
    },
    {
      "cell_type": "code",
      "metadata": {
        "colab": {
          "base_uri": "https://localhost:8080/"
        },
        "id": "57utkEAfAeeI",
        "outputId": "0198e211-0147-4931-a7cb-486583a47b50"
      },
      "source": [
        "# a Series to demonstrate reindexing\n",
        "s3 = pd.Series(['red', 'green', 'blue'], index=[0, 3, 5])\n",
        "s3"
      ],
      "execution_count": 142,
      "outputs": [
        {
          "output_type": "execute_result",
          "data": {
            "text/plain": [
              "0      red\n",
              "3    green\n",
              "5     blue\n",
              "dtype: object"
            ]
          },
          "metadata": {},
          "execution_count": 142
        }
      ]
    },
    {
      "cell_type": "code",
      "metadata": {
        "colab": {
          "base_uri": "https://localhost:8080/"
        },
        "id": "IPo01vplAgVt",
        "outputId": "23de8572-aa68-4acb-9e01-4e7f3e553616"
      },
      "source": [
        "# forward fill (last known value technique)\n",
        "s3.reindex(np.arange(0,7), method='ffill')"
      ],
      "execution_count": 143,
      "outputs": [
        {
          "output_type": "execute_result",
          "data": {
            "text/plain": [
              "0      red\n",
              "1      red\n",
              "2      red\n",
              "3    green\n",
              "4    green\n",
              "5     blue\n",
              "6     blue\n",
              "dtype: object"
            ]
          },
          "metadata": {},
          "execution_count": 143
        }
      ]
    },
    {
      "cell_type": "code",
      "metadata": {
        "colab": {
          "base_uri": "https://localhost:8080/"
        },
        "id": "4_4vUp2vAjK7",
        "outputId": "91e19afb-6a5b-4ea6-b795-a1c7e60b3250"
      },
      "source": [
        "# demonstrate how backwards fill differs\n",
        "s3.reindex(np.arange(0,7), method='bfill')"
      ],
      "execution_count": 144,
      "outputs": [
        {
          "output_type": "execute_result",
          "data": {
            "text/plain": [
              "0      red\n",
              "1    green\n",
              "2    green\n",
              "3    green\n",
              "4     blue\n",
              "5     blue\n",
              "6      NaN\n",
              "dtype: object"
            ]
          },
          "metadata": {},
          "execution_count": 144
        }
      ]
    },
    {
      "cell_type": "code",
      "metadata": {
        "id": "yC3JJTHeAkyz"
      },
      "source": [
        ""
      ],
      "execution_count": null,
      "outputs": []
    }
  ]
}