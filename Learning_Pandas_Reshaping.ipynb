{
  "nbformat": 4,
  "nbformat_minor": 0,
  "metadata": {
    "colab": {
      "name": "Learning Pandas Reshaping.ipynb",
      "provenance": [],
      "authorship_tag": "ABX9TyPwm1uUnrEmJbHxwSrK48Le",
      "include_colab_link": true
    },
    "kernelspec": {
      "name": "python3",
      "display_name": "Python 3"
    },
    "language_info": {
      "name": "python"
    }
  },
  "cells": [
    {
      "cell_type": "markdown",
      "metadata": {
        "id": "view-in-github",
        "colab_type": "text"
      },
      "source": [
        "<a href=\"https://colab.research.google.com/github/shailendra-repo/Python/blob/main/Learning_Pandas_Reshaping.ipynb\" target=\"_parent\"><img src=\"https://colab.research.google.com/assets/colab-badge.svg\" alt=\"Open In Colab\"/></a>"
      ]
    },
    {
      "cell_type": "code",
      "metadata": {
        "id": "1n2UmZKWohjY"
      },
      "source": [
        ""
      ],
      "execution_count": null,
      "outputs": []
    },
    {
      "cell_type": "markdown",
      "metadata": {
        "id": "e06tla0aW77q"
      },
      "source": [
        "## Reshaping, Reorganizing and Aggregation"
      ]
    },
    {
      "cell_type": "code",
      "metadata": {
        "id": "kwY8IiIlXA1Y"
      },
      "source": [
        "import numpy as np\n",
        "import pandas as pd\n",
        "import matplotlib.pyplot as plt\n",
        "%matplotlib inline\n",
        "\n",
        "pd.set_option('display.notebook_repr_html', False)\n",
        "pd.set_option('display.max_columns',10)\n",
        "pd.set_option('display.max_rows',10)\n",
        "pd.set_option('precision',3)\n"
      ],
      "execution_count": 1,
      "outputs": []
    },
    {
      "cell_type": "code",
      "metadata": {
        "id": "C_VyE5n0Xfzy"
      },
      "source": [
        "msft = pd.read_csv('msft.csv', index_col=['Date'], parse_dates=True)\n",
        "aapl= pd.read_csv('aapl.csv', index_col=['Date'], parse_dates=True)"
      ],
      "execution_count": 7,
      "outputs": []
    },
    {
      "cell_type": "code",
      "metadata": {
        "colab": {
          "base_uri": "https://localhost:8080/"
        },
        "id": "L9jJk3JHYGu2",
        "outputId": "442f100b-f055-4da3-8017-c4e391b27585"
      },
      "source": [
        "msft.head()"
      ],
      "execution_count": 8,
      "outputs": [
        {
          "output_type": "execute_result",
          "data": {
            "text/plain": [
              "             Open   High    Low  Close    Volume  Adj Close\n",
              "Date                                                       \n",
              "2012-01-03  26.55  26.96  26.39  26.77  64731500     24.422\n",
              "2012-01-04  26.82  27.47  26.78  27.40  80516100     24.997\n",
              "2012-01-05  27.38  27.73  27.29  27.68  56081400     25.252\n",
              "2012-01-06  27.53  28.19  27.53  28.11  99455500     25.644\n",
              "2012-01-09  28.05  28.10  27.72  27.74  59706800     25.307"
            ]
          },
          "metadata": {},
          "execution_count": 8
        }
      ]
    },
    {
      "cell_type": "code",
      "metadata": {
        "colab": {
          "base_uri": "https://localhost:8080/"
        },
        "id": "7Aqeo06PYm1a",
        "outputId": "fb38b4ae-cd5f-4013-9d5e-c70a3bcf0c91"
      },
      "source": [
        "aapl.head()"
      ],
      "execution_count": 9,
      "outputs": [
        {
          "output_type": "execute_result",
          "data": {
            "text/plain": [
              "              Open    High     Low   Close    Volume  Adj Close\n",
              "Date                                                           \n",
              "2012-01-03  409.40  412.50  409.00  411.23  75555200     55.414\n",
              "2012-01-04  410.00  414.68  409.28  413.44  65005500     55.711\n",
              "2012-01-05  414.95  418.55  412.67  418.03  67817400     56.330\n",
              "2012-01-06  419.77  422.75  419.22  422.40  79573200     56.919\n",
              "2012-01-09  425.50  427.75  421.35  421.73  98506100     56.829"
            ]
          },
          "metadata": {},
          "execution_count": 9
        }
      ]
    },
    {
      "cell_type": "code",
      "metadata": {
        "colab": {
          "base_uri": "https://localhost:8080/"
        },
        "id": "Lm9ZNhPvYn_j",
        "outputId": "7f75a1e1-9948-4098-efd9-a0e4c231acc7"
      },
      "source": [
        "msft[:5]"
      ],
      "execution_count": 10,
      "outputs": [
        {
          "output_type": "execute_result",
          "data": {
            "text/plain": [
              "             Open   High    Low  Close    Volume  Adj Close\n",
              "Date                                                       \n",
              "2012-01-03  26.55  26.96  26.39  26.77  64731500     24.422\n",
              "2012-01-04  26.82  27.47  26.78  27.40  80516100     24.997\n",
              "2012-01-05  27.38  27.73  27.29  27.68  56081400     25.252\n",
              "2012-01-06  27.53  28.19  27.53  28.11  99455500     25.644\n",
              "2012-01-09  28.05  28.10  27.72  27.74  59706800     25.307"
            ]
          },
          "metadata": {},
          "execution_count": 10
        }
      ]
    },
    {
      "cell_type": "code",
      "metadata": {
        "colab": {
          "base_uri": "https://localhost:8080/"
        },
        "id": "2AwBLSLbYpX4",
        "outputId": "6de589d7-cdea-4a72-95b5-7e6e09a7ef90"
      },
      "source": [
        "aapl[:5]"
      ],
      "execution_count": 11,
      "outputs": [
        {
          "output_type": "execute_result",
          "data": {
            "text/plain": [
              "              Open    High     Low   Close    Volume  Adj Close\n",
              "Date                                                           \n",
              "2012-01-03  409.40  412.50  409.00  411.23  75555200     55.414\n",
              "2012-01-04  410.00  414.68  409.28  413.44  65005500     55.711\n",
              "2012-01-05  414.95  418.55  412.67  418.03  67817400     56.330\n",
              "2012-01-06  419.77  422.75  419.22  422.40  79573200     56.919\n",
              "2012-01-09  425.50  427.75  421.35  421.73  98506100     56.829"
            ]
          },
          "metadata": {},
          "execution_count": 11
        }
      ]
    },
    {
      "cell_type": "markdown",
      "metadata": {
        "id": "rFJaEOboY2II"
      },
      "source": [
        "# Reorganizing and reshaping data\n",
        "\n",
        "### Concatenating date in Multiple DataFrame objects"
      ]
    },
    {
      "cell_type": "code",
      "metadata": {
        "colab": {
          "base_uri": "https://localhost:8080/"
        },
        "id": "Y66Khot7YroP",
        "outputId": "066936ea-b367-4a92-9feb-346b68bb1044"
      },
      "source": [
        "msftA1 = msft['2012-01'][['Adj Close']]\n",
        "msftA2 = msft['2012-01'][['Adj Close']]\n",
        "msftA1[:5]"
      ],
      "execution_count": 14,
      "outputs": [
        {
          "output_type": "execute_result",
          "data": {
            "text/plain": [
              "            Adj Close\n",
              "Date                 \n",
              "2012-01-03     24.422\n",
              "2012-01-04     24.997\n",
              "2012-01-05     25.252\n",
              "2012-01-06     25.644\n",
              "2012-01-09     25.307"
            ]
          },
          "metadata": {},
          "execution_count": 14
        }
      ]
    },
    {
      "cell_type": "code",
      "metadata": {
        "colab": {
          "base_uri": "https://localhost:8080/"
        },
        "id": "sYnzeSztZhAg",
        "outputId": "478d3284-e56f-42d0-e1eb-69bee1e9f08e"
      },
      "source": [
        "msftA2[:5]"
      ],
      "execution_count": 15,
      "outputs": [
        {
          "output_type": "execute_result",
          "data": {
            "text/plain": [
              "            Adj Close\n",
              "Date                 \n",
              "2012-01-03     24.422\n",
              "2012-01-04     24.997\n",
              "2012-01-05     25.252\n",
              "2012-01-06     25.644\n",
              "2012-01-09     25.307"
            ]
          },
          "metadata": {},
          "execution_count": 15
        }
      ]
    },
    {
      "cell_type": "code",
      "metadata": {
        "colab": {
          "base_uri": "https://localhost:8080/"
        },
        "id": "AC8YjUwzZ9vO",
        "outputId": "0b21f51d-205d-4062-806f-50366d813565"
      },
      "source": [
        "pd.concat([msftA1[:5],msftA2[:5]])"
      ],
      "execution_count": 17,
      "outputs": [
        {
          "output_type": "execute_result",
          "data": {
            "text/plain": [
              "            Adj Close\n",
              "Date                 \n",
              "2012-01-03     24.422\n",
              "2012-01-04     24.997\n",
              "2012-01-05     25.252\n",
              "2012-01-06     25.644\n",
              "2012-01-09     25.307\n",
              "2012-01-03     24.422\n",
              "2012-01-04     24.997\n",
              "2012-01-05     25.252\n",
              "2012-01-06     25.644\n",
              "2012-01-09     25.307"
            ]
          },
          "metadata": {},
          "execution_count": 17
        }
      ]
    },
    {
      "cell_type": "code",
      "metadata": {
        "id": "bCJ3r-E9aGJd"
      },
      "source": [
        "aaplA01 = aapl['2012-01'][['Adj Close']]"
      ],
      "execution_count": 18,
      "outputs": []
    },
    {
      "cell_type": "code",
      "metadata": {
        "id": "GYA_-Q0CafTX"
      },
      "source": [
        "withDups = pd.concat([msftA1[:3], aaplA01[:3]])"
      ],
      "execution_count": 24,
      "outputs": []
    },
    {
      "cell_type": "code",
      "metadata": {
        "colab": {
          "base_uri": "https://localhost:8080/"
        },
        "id": "FIIXYr01atxH",
        "outputId": "6c750bb6-cfd6-4e16-8550-88c1cea4cb64"
      },
      "source": [
        "withDups"
      ],
      "execution_count": 25,
      "outputs": [
        {
          "output_type": "execute_result",
          "data": {
            "text/plain": [
              "            Adj Close\n",
              "Date                 \n",
              "2012-01-03     24.422\n",
              "2012-01-04     24.997\n",
              "2012-01-05     25.252\n",
              "2012-01-03     55.414\n",
              "2012-01-04     55.711\n",
              "2012-01-05     56.330"
            ]
          },
          "metadata": {},
          "execution_count": 25
        }
      ]
    },
    {
      "cell_type": "code",
      "metadata": {
        "colab": {
          "base_uri": "https://localhost:8080/"
        },
        "id": "iEV2wVc4a4YC",
        "outputId": "2abf7760-7971-4d8b-f9ae-497eef58edc0"
      },
      "source": [
        "withDups['2012-01-03']"
      ],
      "execution_count": 27,
      "outputs": [
        {
          "output_type": "execute_result",
          "data": {
            "text/plain": [
              "            Adj Close\n",
              "Date                 \n",
              "2012-01-03     24.422\n",
              "2012-01-03     55.414"
            ]
          },
          "metadata": {},
          "execution_count": 27
        }
      ]
    },
    {
      "cell_type": "code",
      "metadata": {
        "colab": {
          "base_uri": "https://localhost:8080/"
        },
        "id": "MgGWf1hdbUAl",
        "outputId": "c4e59b61-3686-4de3-968c-704953bed0f9"
      },
      "source": [
        "closes =  pd.concat([msftA1[:3],aaplA01[:3]],keys=['MSFT','AAPL'])\n",
        "closes"
      ],
      "execution_count": 28,
      "outputs": [
        {
          "output_type": "execute_result",
          "data": {
            "text/plain": [
              "                 Adj Close\n",
              "     Date                 \n",
              "MSFT 2012-01-03     24.422\n",
              "     2012-01-04     24.997\n",
              "     2012-01-05     25.252\n",
              "AAPL 2012-01-03     55.414\n",
              "     2012-01-04     55.711\n",
              "     2012-01-05     56.330"
            ]
          },
          "metadata": {},
          "execution_count": 28
        }
      ]
    },
    {
      "cell_type": "code",
      "metadata": {
        "colab": {
          "base_uri": "https://localhost:8080/"
        },
        "id": "0Ef0__68b87V",
        "outputId": "4ecd3902-41c8-4c36-c892-e20dc9fae6cd"
      },
      "source": [
        "closes.index"
      ],
      "execution_count": 29,
      "outputs": [
        {
          "output_type": "execute_result",
          "data": {
            "text/plain": [
              "MultiIndex([('MSFT', '2012-01-03'),\n",
              "            ('MSFT', '2012-01-04'),\n",
              "            ('MSFT', '2012-01-05'),\n",
              "            ('AAPL', '2012-01-03'),\n",
              "            ('AAPL', '2012-01-04'),\n",
              "            ('AAPL', '2012-01-05')],\n",
              "           names=[None, 'Date'])"
            ]
          },
          "metadata": {},
          "execution_count": 29
        }
      ]
    },
    {
      "cell_type": "code",
      "metadata": {
        "colab": {
          "base_uri": "https://localhost:8080/"
        },
        "id": "_AVTt0YwcCE2",
        "outputId": "e2fdd883-9207-4bb8-d79c-628392e89d5a"
      },
      "source": [
        "closes.loc['MSFT']"
      ],
      "execution_count": 34,
      "outputs": [
        {
          "output_type": "execute_result",
          "data": {
            "text/plain": [
              "            Adj Close\n",
              "Date                 \n",
              "2012-01-03     24.422\n",
              "2012-01-04     24.997\n",
              "2012-01-05     25.252"
            ]
          },
          "metadata": {},
          "execution_count": 34
        }
      ]
    },
    {
      "cell_type": "code",
      "metadata": {
        "colab": {
          "base_uri": "https://localhost:8080/"
        },
        "id": "HahiNiapcP5y",
        "outputId": "1e90052a-363a-4155-8596-8bb51a51751b"
      },
      "source": [
        "msftAV = msft[['Adj Close','Volume']]\n",
        "aaplAV = msft[['Adj Close','Volume']]\n",
        "pd.concat([msftAV, aaplAV])"
      ],
      "execution_count": 36,
      "outputs": [
        {
          "output_type": "execute_result",
          "data": {
            "text/plain": [
              "            Adj Close    Volume\n",
              "Date                           \n",
              "2012-01-03     24.422  64731500\n",
              "2012-01-04     24.997  80516100\n",
              "2012-01-05     25.252  56081400\n",
              "2012-01-06     25.644  99455500\n",
              "2012-01-09     25.307  59706800\n",
              "...               ...       ...\n",
              "2012-12-21     25.750  98776500\n",
              "2012-12-24     25.385  20842400\n",
              "2012-12-26     25.197  31631100\n",
              "2012-12-27     25.291  39394000\n",
              "2012-12-28     24.906  28239900\n",
              "\n",
              "[498 rows x 2 columns]"
            ]
          },
          "metadata": {},
          "execution_count": 36
        }
      ]
    },
    {
      "cell_type": "code",
      "metadata": {
        "colab": {
          "base_uri": "https://localhost:8080/"
        },
        "id": "FDRitAFGdfmg",
        "outputId": "695fd603-0ae1-4ed0-f796-4f922ffc2a65"
      },
      "source": [
        "aaplA = aapl[['Adj Close']]\n",
        "pd.concat([msftAV, aaplA])"
      ],
      "execution_count": 37,
      "outputs": [
        {
          "output_type": "execute_result",
          "data": {
            "text/plain": [
              "            Adj Close     Volume\n",
              "Date                            \n",
              "2012-01-03     24.422  6.473e+07\n",
              "2012-01-04     24.997  8.052e+07\n",
              "2012-01-05     25.252  5.608e+07\n",
              "2012-01-06     25.644  9.946e+07\n",
              "2012-01-09     25.307  5.971e+07\n",
              "...               ...        ...\n",
              "2012-12-21     70.602        NaN\n",
              "2012-12-24     70.716        NaN\n",
              "2012-12-26     69.741        NaN\n",
              "2012-12-27     70.021        NaN\n",
              "2012-12-28     69.278        NaN\n",
              "\n",
              "[498 rows x 2 columns]"
            ]
          },
          "metadata": {},
          "execution_count": 37
        }
      ]
    },
    {
      "cell_type": "code",
      "metadata": {
        "colab": {
          "base_uri": "https://localhost:8080/"
        },
        "id": "QAD7U65pdx6s",
        "outputId": "6fe688aa-366e-4b75-86b5-ecafbf62eca3"
      },
      "source": [
        "pd.concat([msftAV,aaplA], join='inner')"
      ],
      "execution_count": 39,
      "outputs": [
        {
          "output_type": "execute_result",
          "data": {
            "text/plain": [
              "            Adj Close\n",
              "Date                 \n",
              "2012-01-03     24.422\n",
              "2012-01-04     24.997\n",
              "2012-01-05     25.252\n",
              "2012-01-06     25.644\n",
              "2012-01-09     25.307\n",
              "...               ...\n",
              "2012-12-21     70.602\n",
              "2012-12-24     70.716\n",
              "2012-12-26     69.741\n",
              "2012-12-27     70.021\n",
              "2012-12-28     69.278\n",
              "\n",
              "[498 rows x 1 columns]"
            ]
          },
          "metadata": {},
          "execution_count": 39
        }
      ]
    },
    {
      "cell_type": "code",
      "metadata": {
        "colab": {
          "base_uri": "https://localhost:8080/"
        },
        "id": "EUfYClHyeBOk",
        "outputId": "daa3ab2d-b63f-4f65-c542-b112ebf273f9"
      },
      "source": [
        "msftAV.size"
      ],
      "execution_count": 42,
      "outputs": [
        {
          "output_type": "execute_result",
          "data": {
            "text/plain": [
              "498"
            ]
          },
          "metadata": {},
          "execution_count": 42
        }
      ]
    },
    {
      "cell_type": "code",
      "metadata": {
        "colab": {
          "base_uri": "https://localhost:8080/"
        },
        "id": "XFE79bSqeWRZ",
        "outputId": "65f345d3-90ec-4b94-f4c5-037d8358db7a"
      },
      "source": [
        "aaplA.size"
      ],
      "execution_count": 43,
      "outputs": [
        {
          "output_type": "execute_result",
          "data": {
            "text/plain": [
              "249"
            ]
          },
          "metadata": {},
          "execution_count": 43
        }
      ]
    },
    {
      "cell_type": "code",
      "metadata": {
        "colab": {
          "base_uri": "https://localhost:8080/"
        },
        "id": "v13zGT8jej2P",
        "outputId": "8e62da40-5207-49c0-ab8b-161f941d746c"
      },
      "source": [
        "mstfA = msft[['Adj Close']]\n",
        "closes = pd.concat([mstfA, aaplA], axis=1)\n",
        "closes.head()"
      ],
      "execution_count": 46,
      "outputs": [
        {
          "output_type": "execute_result",
          "data": {
            "text/plain": [
              "            Adj Close  Adj Close\n",
              "Date                            \n",
              "2012-01-03     24.422     55.414\n",
              "2012-01-04     24.997     55.711\n",
              "2012-01-05     25.252     56.330\n",
              "2012-01-06     25.644     56.919\n",
              "2012-01-09     25.307     56.829"
            ]
          },
          "metadata": {},
          "execution_count": 46
        }
      ]
    },
    {
      "cell_type": "code",
      "metadata": {
        "colab": {
          "base_uri": "https://localhost:8080/"
        },
        "id": "ytmAOxhee6N6",
        "outputId": "6dd38fc2-0604-43f7-fb2f-b59ff541ec47"
      },
      "source": [
        "pd.concat([msftAV[:5],aaplAV[:3]], axis=1,keys=['MSFT','AAPL'])"
      ],
      "execution_count": 48,
      "outputs": [
        {
          "output_type": "execute_result",
          "data": {
            "text/plain": [
              "                MSFT                AAPL           \n",
              "           Adj Close    Volume Adj Close     Volume\n",
              "Date                                               \n",
              "2012-01-03    24.422  64731500    24.422  6.473e+07\n",
              "2012-01-04    24.997  80516100    24.997  8.052e+07\n",
              "2012-01-05    25.252  56081400    25.252  5.608e+07\n",
              "2012-01-06    25.644  99455500       NaN        NaN\n",
              "2012-01-09    25.307  59706800       NaN        NaN"
            ]
          },
          "metadata": {},
          "execution_count": 48
        }
      ]
    },
    {
      "cell_type": "code",
      "metadata": {
        "colab": {
          "base_uri": "https://localhost:8080/"
        },
        "id": "5SUTUdMafjBo",
        "outputId": "877a6a97-03b3-476b-ed4c-a8694dfe7608"
      },
      "source": [
        "pd.concat([msftAV[:5],aaplAV[:3]], join='inner',keys=['MSFT','AAPL'])"
      ],
      "execution_count": 49,
      "outputs": [
        {
          "output_type": "execute_result",
          "data": {
            "text/plain": [
              "                 Adj Close    Volume\n",
              "     Date                           \n",
              "MSFT 2012-01-03     24.422  64731500\n",
              "     2012-01-04     24.997  80516100\n",
              "     2012-01-05     25.252  56081400\n",
              "     2012-01-06     25.644  99455500\n",
              "     2012-01-09     25.307  59706800\n",
              "AAPL 2012-01-03     24.422  64731500\n",
              "     2012-01-04     24.997  80516100\n",
              "     2012-01-05     25.252  56081400"
            ]
          },
          "metadata": {},
          "execution_count": 49
        }
      ]
    },
    {
      "cell_type": "code",
      "metadata": {
        "colab": {
          "base_uri": "https://localhost:8080/"
        },
        "id": "gNs2vfdxf070",
        "outputId": "94d43959-cc3f-430a-d349-2f52886c3a4b"
      },
      "source": [
        "pd.concat([mstfA[:3],aaplA[:3]], ignore_index=True)"
      ],
      "execution_count": 51,
      "outputs": [
        {
          "output_type": "execute_result",
          "data": {
            "text/plain": [
              "   Adj Close\n",
              "0     24.422\n",
              "1     24.997\n",
              "2     25.252\n",
              "3     55.414\n",
              "4     55.711\n",
              "5     56.330"
            ]
          },
          "metadata": {},
          "execution_count": 51
        }
      ]
    },
    {
      "cell_type": "code",
      "metadata": {
        "id": "ivUj283sgTke"
      },
      "source": [
        ""
      ],
      "execution_count": null,
      "outputs": []
    },
    {
      "cell_type": "markdown",
      "metadata": {
        "id": "EpHCrwPRgeQW"
      },
      "source": [
        "## Merging DataFrame objects"
      ]
    },
    {
      "cell_type": "code",
      "metadata": {
        "colab": {
          "base_uri": "https://localhost:8080/"
        },
        "id": "IhLJCu-qgiUI",
        "outputId": "f010d60e-eb63-411d-b9c0-a921f3c2564a"
      },
      "source": [
        "msftAR = mstfA.reset_index()\n",
        "msftVR = msft[['Volume']].reset_index()\n",
        "msftAR[:3]"
      ],
      "execution_count": 52,
      "outputs": [
        {
          "output_type": "execute_result",
          "data": {
            "text/plain": [
              "        Date  Adj Close\n",
              "0 2012-01-03     24.422\n",
              "1 2012-01-04     24.997\n",
              "2 2012-01-05     25.252"
            ]
          },
          "metadata": {},
          "execution_count": 52
        }
      ]
    },
    {
      "cell_type": "code",
      "metadata": {
        "colab": {
          "base_uri": "https://localhost:8080/"
        },
        "id": "yBd-GAmyhSIg",
        "outputId": "5d4dae34-340a-4203-c33f-ac729b0f2aec"
      },
      "source": [
        "msftVR[:3]"
      ],
      "execution_count": 53,
      "outputs": [
        {
          "output_type": "execute_result",
          "data": {
            "text/plain": [
              "        Date    Volume\n",
              "0 2012-01-03  64731500\n",
              "1 2012-01-04  80516100\n",
              "2 2012-01-05  56081400"
            ]
          },
          "metadata": {},
          "execution_count": 53
        }
      ]
    },
    {
      "cell_type": "code",
      "metadata": {
        "id": "9iG4N94YhXtC"
      },
      "source": [
        "msftCVR = pd.merge(msftAR,msftVR)"
      ],
      "execution_count": 55,
      "outputs": []
    },
    {
      "cell_type": "code",
      "metadata": {
        "colab": {
          "base_uri": "https://localhost:8080/"
        },
        "id": "R1gI_K0Ei_2H",
        "outputId": "76f5101c-d6f4-440c-b968-8989d8f8bf6d"
      },
      "source": [
        "msftCVR"
      ],
      "execution_count": 56,
      "outputs": [
        {
          "output_type": "execute_result",
          "data": {
            "text/plain": [
              "          Date  Adj Close    Volume\n",
              "0   2012-01-03     24.422  64731500\n",
              "1   2012-01-04     24.997  80516100\n",
              "2   2012-01-05     25.252  56081400\n",
              "3   2012-01-06     25.644  99455500\n",
              "4   2012-01-09     25.307  59706800\n",
              "..         ...        ...       ...\n",
              "244 2012-12-21     25.750  98776500\n",
              "245 2012-12-24     25.385  20842400\n",
              "246 2012-12-26     25.197  31631100\n",
              "247 2012-12-27     25.291  39394000\n",
              "248 2012-12-28     24.906  28239900\n",
              "\n",
              "[249 rows x 3 columns]"
            ]
          },
          "metadata": {},
          "execution_count": 56
        }
      ]
    },
    {
      "cell_type": "code",
      "metadata": {
        "id": "mEmgX9s5jMwe"
      },
      "source": [
        "msftAR0_5 = msftAR[0:5]"
      ],
      "execution_count": 60,
      "outputs": []
    },
    {
      "cell_type": "code",
      "metadata": {
        "colab": {
          "base_uri": "https://localhost:8080/"
        },
        "id": "C4xIgMoJjf0K",
        "outputId": "2507be4f-e6b6-4bf7-ef9a-ec78cc0346fb"
      },
      "source": [
        "msftAR0_5"
      ],
      "execution_count": 61,
      "outputs": [
        {
          "output_type": "execute_result",
          "data": {
            "text/plain": [
              "        Date  Adj Close\n",
              "0 2012-01-03     24.422\n",
              "1 2012-01-04     24.997\n",
              "2 2012-01-05     25.252\n",
              "3 2012-01-06     25.644\n",
              "4 2012-01-09     25.307"
            ]
          },
          "metadata": {},
          "execution_count": 61
        }
      ]
    },
    {
      "cell_type": "code",
      "metadata": {
        "colab": {
          "base_uri": "https://localhost:8080/"
        },
        "id": "2kBTGkvEjiSH",
        "outputId": "6039aea4-d8a2-4c17-f2f4-c18818751a47"
      },
      "source": [
        "msftAR2_4 = msftAR[2:4]\n",
        "msftAR2_4"
      ],
      "execution_count": 62,
      "outputs": [
        {
          "output_type": "execute_result",
          "data": {
            "text/plain": [
              "        Date  Adj Close\n",
              "2 2012-01-05     25.252\n",
              "3 2012-01-06     25.644"
            ]
          },
          "metadata": {},
          "execution_count": 62
        }
      ]
    },
    {
      "cell_type": "code",
      "metadata": {
        "id": "J_G5flf3jzsV"
      },
      "source": [
        "msftVR2_4 = msftVR[2:4]"
      ],
      "execution_count": 63,
      "outputs": []
    },
    {
      "cell_type": "code",
      "metadata": {
        "colab": {
          "base_uri": "https://localhost:8080/"
        },
        "id": "N_tUEyPZknFD",
        "outputId": "b67dedc1-afe0-4e87-8623-0fcc32ea6cb5"
      },
      "source": [
        "msftVR2_4"
      ],
      "execution_count": 64,
      "outputs": [
        {
          "output_type": "execute_result",
          "data": {
            "text/plain": [
              "        Date    Volume\n",
              "2 2012-01-05  56081400\n",
              "3 2012-01-06  99455500"
            ]
          },
          "metadata": {},
          "execution_count": 64
        }
      ]
    },
    {
      "cell_type": "code",
      "metadata": {
        "colab": {
          "base_uri": "https://localhost:8080/"
        },
        "id": "s22IMXlLko2v",
        "outputId": "ddc02cf8-54e3-4643-f9ee-15c74edc63e1"
      },
      "source": [
        "pd.merge(msftAR0_5,msftVR2_4)"
      ],
      "execution_count": 65,
      "outputs": [
        {
          "output_type": "execute_result",
          "data": {
            "text/plain": [
              "        Date  Adj Close    Volume\n",
              "0 2012-01-05     25.252  56081400\n",
              "1 2012-01-06     25.644  99455500"
            ]
          },
          "metadata": {},
          "execution_count": 65
        }
      ]
    },
    {
      "cell_type": "code",
      "metadata": {
        "colab": {
          "base_uri": "https://localhost:8080/"
        },
        "id": "aHf430vFk5Ka",
        "outputId": "0da9fbf1-8dcb-41fd-f48b-29d010521adc"
      },
      "source": [
        "pd.merge(msftAR0_5,msftVR2_4, how='outer')"
      ],
      "execution_count": 66,
      "outputs": [
        {
          "output_type": "execute_result",
          "data": {
            "text/plain": [
              "        Date  Adj Close     Volume\n",
              "0 2012-01-03     24.422        NaN\n",
              "1 2012-01-04     24.997        NaN\n",
              "2 2012-01-05     25.252  5.608e+07\n",
              "3 2012-01-06     25.644  9.946e+07\n",
              "4 2012-01-09     25.307        NaN"
            ]
          },
          "metadata": {},
          "execution_count": 66
        }
      ]
    },
    {
      "cell_type": "markdown",
      "metadata": {
        "id": "7djqEVApliSv"
      },
      "source": [
        "## Pivoting"
      ]
    },
    {
      "cell_type": "code",
      "metadata": {
        "colab": {
          "base_uri": "https://localhost:8080/"
        },
        "id": "WxND7VQolMzs",
        "outputId": "de9550d7-f490-4bbc-aa20-446c569a5893"
      },
      "source": [
        "msft.head()"
      ],
      "execution_count": 67,
      "outputs": [
        {
          "output_type": "execute_result",
          "data": {
            "text/plain": [
              "             Open   High    Low  Close    Volume  Adj Close\n",
              "Date                                                       \n",
              "2012-01-03  26.55  26.96  26.39  26.77  64731500     24.422\n",
              "2012-01-04  26.82  27.47  26.78  27.40  80516100     24.997\n",
              "2012-01-05  27.38  27.73  27.29  27.68  56081400     25.252\n",
              "2012-01-06  27.53  28.19  27.53  28.11  99455500     25.644\n",
              "2012-01-09  28.05  28.10  27.72  27.74  59706800     25.307"
            ]
          },
          "metadata": {},
          "execution_count": 67
        }
      ]
    },
    {
      "cell_type": "code",
      "metadata": {
        "colab": {
          "base_uri": "https://localhost:8080/"
        },
        "id": "1OwW-GZal6LR",
        "outputId": "46179eb3-8a71-4e06-d70a-27cadd977773"
      },
      "source": [
        "aapl.head()"
      ],
      "execution_count": 68,
      "outputs": [
        {
          "output_type": "execute_result",
          "data": {
            "text/plain": [
              "              Open    High     Low   Close    Volume  Adj Close\n",
              "Date                                                           \n",
              "2012-01-03  409.40  412.50  409.00  411.23  75555200     55.414\n",
              "2012-01-04  410.00  414.68  409.28  413.44  65005500     55.711\n",
              "2012-01-05  414.95  418.55  412.67  418.03  67817400     56.330\n",
              "2012-01-06  419.77  422.75  419.22  422.40  79573200     56.919\n",
              "2012-01-09  425.50  427.75  421.35  421.73  98506100     56.829"
            ]
          },
          "metadata": {},
          "execution_count": 68
        }
      ]
    },
    {
      "cell_type": "code",
      "metadata": {
        "id": "aAA_2tO2l8zG"
      },
      "source": [
        "msft.insert(0,'Symbol','MSFT')\n",
        "aapl.insert(0,'Symbol','AAPL')"
      ],
      "execution_count": 69,
      "outputs": []
    },
    {
      "cell_type": "code",
      "metadata": {
        "colab": {
          "base_uri": "https://localhost:8080/"
        },
        "id": "UTxIJvx3mMHi",
        "outputId": "50aecafb-1565-4d34-cec6-2cfc362db36a"
      },
      "source": [
        "msft.head()"
      ],
      "execution_count": 70,
      "outputs": [
        {
          "output_type": "execute_result",
          "data": {
            "text/plain": [
              "           Symbol   Open   High    Low  Close    Volume  Adj Close\n",
              "Date                                                              \n",
              "2012-01-03   MSFT  26.55  26.96  26.39  26.77  64731500     24.422\n",
              "2012-01-04   MSFT  26.82  27.47  26.78  27.40  80516100     24.997\n",
              "2012-01-05   MSFT  27.38  27.73  27.29  27.68  56081400     25.252\n",
              "2012-01-06   MSFT  27.53  28.19  27.53  28.11  99455500     25.644\n",
              "2012-01-09   MSFT  28.05  28.10  27.72  27.74  59706800     25.307"
            ]
          },
          "metadata": {},
          "execution_count": 70
        }
      ]
    },
    {
      "cell_type": "code",
      "metadata": {
        "id": "OwpiyNPEmNvv"
      },
      "source": [
        "combined = pd.concat([msft,aapl]).sort_index()"
      ],
      "execution_count": 73,
      "outputs": []
    },
    {
      "cell_type": "code",
      "metadata": {
        "colab": {
          "base_uri": "https://localhost:8080/"
        },
        "id": "3jYgHoO2mbh6",
        "outputId": "4f425011-8615-43c0-dfeb-dd48c488f719"
      },
      "source": [
        "combined"
      ],
      "execution_count": 74,
      "outputs": [
        {
          "output_type": "execute_result",
          "data": {
            "text/plain": [
              "           Symbol    Open    High     Low   Close     Volume  Adj Close\n",
              "Date                                                                   \n",
              "2012-01-03   MSFT   26.55   26.96   26.39   26.77   64731500     24.422\n",
              "2012-01-03   AAPL  409.40  412.50  409.00  411.23   75555200     55.414\n",
              "2012-01-04   MSFT   26.82   27.47   26.78   27.40   80516100     24.997\n",
              "2012-01-04   AAPL  410.00  414.68  409.28  413.44   65005500     55.711\n",
              "2012-01-05   MSFT   27.38   27.73   27.29   27.68   56081400     25.252\n",
              "...           ...     ...     ...     ...     ...        ...        ...\n",
              "2012-12-26   MSFT   27.03   27.20   26.70   26.86   31631100     25.197\n",
              "2012-12-27   AAPL  513.54  516.25  504.66  515.06  113780100     70.021\n",
              "2012-12-27   MSFT   26.89   27.09   26.57   26.96   39394000     25.291\n",
              "2012-12-28   MSFT   26.71   26.90   26.55   26.55   28239900     24.906\n",
              "2012-12-28   AAPL  510.29  514.48  508.12  509.59   88569600     69.278\n",
              "\n",
              "[498 rows x 7 columns]"
            ]
          },
          "metadata": {},
          "execution_count": 74
        }
      ]
    },
    {
      "cell_type": "code",
      "metadata": {
        "id": "NOsgE-P_mhz-"
      },
      "source": [
        "s4p = combined.reset_index()"
      ],
      "execution_count": 75,
      "outputs": []
    },
    {
      "cell_type": "code",
      "metadata": {
        "colab": {
          "base_uri": "https://localhost:8080/"
        },
        "id": "A1EfDG__m06V",
        "outputId": "35679393-ee76-4b53-8c15-a62c835fccf0"
      },
      "source": [
        "s4p"
      ],
      "execution_count": 76,
      "outputs": [
        {
          "output_type": "execute_result",
          "data": {
            "text/plain": [
              "          Date Symbol    Open    High     Low   Close     Volume  Adj Close\n",
              "0   2012-01-03   MSFT   26.55   26.96   26.39   26.77   64731500     24.422\n",
              "1   2012-01-03   AAPL  409.40  412.50  409.00  411.23   75555200     55.414\n",
              "2   2012-01-04   MSFT   26.82   27.47   26.78   27.40   80516100     24.997\n",
              "3   2012-01-04   AAPL  410.00  414.68  409.28  413.44   65005500     55.711\n",
              "4   2012-01-05   MSFT   27.38   27.73   27.29   27.68   56081400     25.252\n",
              "..         ...    ...     ...     ...     ...     ...        ...        ...\n",
              "493 2012-12-26   MSFT   27.03   27.20   26.70   26.86   31631100     25.197\n",
              "494 2012-12-27   AAPL  513.54  516.25  504.66  515.06  113780100     70.021\n",
              "495 2012-12-27   MSFT   26.89   27.09   26.57   26.96   39394000     25.291\n",
              "496 2012-12-28   MSFT   26.71   26.90   26.55   26.55   28239900     24.906\n",
              "497 2012-12-28   AAPL  510.29  514.48  508.12  509.59   88569600     69.278\n",
              "\n",
              "[498 rows x 8 columns]"
            ]
          },
          "metadata": {},
          "execution_count": 76
        }
      ]
    },
    {
      "cell_type": "code",
      "metadata": {
        "id": "DNe7DRVAm2AA"
      },
      "source": [
        "closes = s4p.pivot(index='Date', columns='Symbol', values='Adj Close')"
      ],
      "execution_count": 77,
      "outputs": []
    },
    {
      "cell_type": "code",
      "metadata": {
        "colab": {
          "base_uri": "https://localhost:8080/"
        },
        "id": "iYpwKK_EnIUo",
        "outputId": "4002dc35-29c6-45c5-8e78-8531eb48299f"
      },
      "source": [
        "closes"
      ],
      "execution_count": 78,
      "outputs": [
        {
          "output_type": "execute_result",
          "data": {
            "text/plain": [
              "Symbol        AAPL    MSFT\n",
              "Date                      \n",
              "2012-01-03  55.414  24.422\n",
              "2012-01-04  55.711  24.997\n",
              "2012-01-05  56.330  25.252\n",
              "2012-01-06  56.919  25.644\n",
              "2012-01-09  56.829  25.307\n",
              "...            ...     ...\n",
              "2012-12-21  70.602  25.750\n",
              "2012-12-24  70.716  25.385\n",
              "2012-12-26  69.741  25.197\n",
              "2012-12-27  70.021  25.291\n",
              "2012-12-28  69.278  24.906\n",
              "\n",
              "[249 rows x 2 columns]"
            ]
          },
          "metadata": {},
          "execution_count": 78
        }
      ]
    },
    {
      "cell_type": "markdown",
      "metadata": {
        "id": "DxZiFzzPnSVA"
      },
      "source": [
        "## Stacking and Unstacking"
      ]
    },
    {
      "cell_type": "code",
      "metadata": {
        "colab": {
          "base_uri": "https://localhost:8080/"
        },
        "id": "jPIdMWp1nI--",
        "outputId": "198c711d-a58a-4050-b37d-ba7a9f5f58fa"
      },
      "source": [
        "closes"
      ],
      "execution_count": 79,
      "outputs": [
        {
          "output_type": "execute_result",
          "data": {
            "text/plain": [
              "Symbol        AAPL    MSFT\n",
              "Date                      \n",
              "2012-01-03  55.414  24.422\n",
              "2012-01-04  55.711  24.997\n",
              "2012-01-05  56.330  25.252\n",
              "2012-01-06  56.919  25.644\n",
              "2012-01-09  56.829  25.307\n",
              "...            ...     ...\n",
              "2012-12-21  70.602  25.750\n",
              "2012-12-24  70.716  25.385\n",
              "2012-12-26  69.741  25.197\n",
              "2012-12-27  70.021  25.291\n",
              "2012-12-28  69.278  24.906\n",
              "\n",
              "[249 rows x 2 columns]"
            ]
          },
          "metadata": {},
          "execution_count": 79
        }
      ]
    },
    {
      "cell_type": "code",
      "metadata": {
        "colab": {
          "base_uri": "https://localhost:8080/"
        },
        "id": "AghZO0UPqMQl",
        "outputId": "a95b9f59-776c-4401-eeae-ce4ab6c4c7c2"
      },
      "source": [
        "closes.index"
      ],
      "execution_count": 80,
      "outputs": [
        {
          "output_type": "execute_result",
          "data": {
            "text/plain": [
              "DatetimeIndex(['2012-01-03', '2012-01-04', '2012-01-05', '2012-01-06',\n",
              "               '2012-01-09', '2012-01-10', '2012-01-11', '2012-01-12',\n",
              "               '2012-01-13', '2012-01-17',\n",
              "               ...\n",
              "               '2012-12-14', '2012-12-17', '2012-12-18', '2012-12-19',\n",
              "               '2012-12-20', '2012-12-21', '2012-12-24', '2012-12-26',\n",
              "               '2012-12-27', '2012-12-28'],\n",
              "              dtype='datetime64[ns]', name='Date', length=249, freq=None)"
            ]
          },
          "metadata": {},
          "execution_count": 80
        }
      ]
    },
    {
      "cell_type": "code",
      "metadata": {
        "id": "EZInwUR-qPse"
      },
      "source": [
        "stackedClosed = closes.stack()"
      ],
      "execution_count": 81,
      "outputs": []
    },
    {
      "cell_type": "code",
      "metadata": {
        "colab": {
          "base_uri": "https://localhost:8080/"
        },
        "id": "X6reHMXQqWQE",
        "outputId": "b94938b9-d23f-4fa2-f1d6-3bbfa8ff7a70"
      },
      "source": [
        "stackedClosed"
      ],
      "execution_count": 82,
      "outputs": [
        {
          "output_type": "execute_result",
          "data": {
            "text/plain": [
              "Date        Symbol\n",
              "2012-01-03  AAPL      55.414\n",
              "            MSFT      24.422\n",
              "2012-01-04  AAPL      55.711\n",
              "            MSFT      24.997\n",
              "2012-01-05  AAPL      56.330\n",
              "                       ...  \n",
              "2012-12-26  MSFT      25.197\n",
              "2012-12-27  AAPL      70.021\n",
              "            MSFT      25.291\n",
              "2012-12-28  AAPL      69.278\n",
              "            MSFT      24.906\n",
              "Length: 498, dtype: float64"
            ]
          },
          "metadata": {},
          "execution_count": 82
        }
      ]
    },
    {
      "cell_type": "code",
      "metadata": {
        "colab": {
          "base_uri": "https://localhost:8080/"
        },
        "id": "99gzMa66qXXC",
        "outputId": "f34db34b-37a5-48b9-f84a-3277475005c2"
      },
      "source": [
        "stackedClosed.index"
      ],
      "execution_count": 83,
      "outputs": [
        {
          "output_type": "execute_result",
          "data": {
            "text/plain": [
              "MultiIndex([('2012-01-03', 'AAPL'),\n",
              "            ('2012-01-03', 'MSFT'),\n",
              "            ('2012-01-04', 'AAPL'),\n",
              "            ('2012-01-04', 'MSFT'),\n",
              "            ('2012-01-05', 'AAPL'),\n",
              "            ('2012-01-05', 'MSFT'),\n",
              "            ('2012-01-06', 'AAPL'),\n",
              "            ('2012-01-06', 'MSFT'),\n",
              "            ('2012-01-09', 'AAPL'),\n",
              "            ('2012-01-09', 'MSFT'),\n",
              "            ...\n",
              "            ('2012-12-21', 'AAPL'),\n",
              "            ('2012-12-21', 'MSFT'),\n",
              "            ('2012-12-24', 'AAPL'),\n",
              "            ('2012-12-24', 'MSFT'),\n",
              "            ('2012-12-26', 'AAPL'),\n",
              "            ('2012-12-26', 'MSFT'),\n",
              "            ('2012-12-27', 'AAPL'),\n",
              "            ('2012-12-27', 'MSFT'),\n",
              "            ('2012-12-28', 'AAPL'),\n",
              "            ('2012-12-28', 'MSFT')],\n",
              "           names=['Date', 'Symbol'], length=498)"
            ]
          },
          "metadata": {},
          "execution_count": 83
        }
      ]
    },
    {
      "cell_type": "code",
      "metadata": {
        "colab": {
          "base_uri": "https://localhost:8080/"
        },
        "id": "Uj4iJwalq_-E",
        "outputId": "9cccb1a1-cbf5-46aa-a823-dd88ddceb001"
      },
      "source": [
        "stackedClosed['2012-01-03','AAPL']"
      ],
      "execution_count": 85,
      "outputs": [
        {
          "output_type": "execute_result",
          "data": {
            "text/plain": [
              "55.41362"
            ]
          },
          "metadata": {},
          "execution_count": 85
        }
      ]
    },
    {
      "cell_type": "code",
      "metadata": {
        "colab": {
          "base_uri": "https://localhost:8080/"
        },
        "id": "PZaNherdrNit",
        "outputId": "c0d3527f-ab4e-40fb-88a2-9f0718c4ac25"
      },
      "source": [
        "stackedClosed['2012-01-03']"
      ],
      "execution_count": 86,
      "outputs": [
        {
          "output_type": "execute_result",
          "data": {
            "text/plain": [
              "Symbol\n",
              "AAPL    55.414\n",
              "MSFT    24.422\n",
              "dtype: float64"
            ]
          },
          "metadata": {},
          "execution_count": 86
        }
      ]
    },
    {
      "cell_type": "code",
      "metadata": {
        "colab": {
          "base_uri": "https://localhost:8080/"
        },
        "id": "uGnmLDOKrU3j",
        "outputId": "ec5e3fb8-ecc4-497d-afe2-014709157e11"
      },
      "source": [
        "stackedClosed[:,'MSFT']"
      ],
      "execution_count": 87,
      "outputs": [
        {
          "output_type": "execute_result",
          "data": {
            "text/plain": [
              "Date\n",
              "2012-01-03    24.422\n",
              "2012-01-04    24.997\n",
              "2012-01-05    25.252\n",
              "2012-01-06    25.644\n",
              "2012-01-09    25.307\n",
              "               ...  \n",
              "2012-12-21    25.750\n",
              "2012-12-24    25.385\n",
              "2012-12-26    25.197\n",
              "2012-12-27    25.291\n",
              "2012-12-28    24.906\n",
              "Length: 249, dtype: float64"
            ]
          },
          "metadata": {},
          "execution_count": 87
        }
      ]
    },
    {
      "cell_type": "code",
      "metadata": {
        "colab": {
          "base_uri": "https://localhost:8080/"
        },
        "id": "REPFfFwUrZbh",
        "outputId": "b83c74fe-914f-4b67-d76b-e24f31bc5ea3"
      },
      "source": [
        "unstackedCloses= stackedClosed.unstack()\n",
        "unstackedCloses"
      ],
      "execution_count": 88,
      "outputs": [
        {
          "output_type": "execute_result",
          "data": {
            "text/plain": [
              "Symbol        AAPL    MSFT\n",
              "Date                      \n",
              "2012-01-03  55.414  24.422\n",
              "2012-01-04  55.711  24.997\n",
              "2012-01-05  56.330  25.252\n",
              "2012-01-06  56.919  25.644\n",
              "2012-01-09  56.829  25.307\n",
              "...            ...     ...\n",
              "2012-12-21  70.602  25.750\n",
              "2012-12-24  70.716  25.385\n",
              "2012-12-26  69.741  25.197\n",
              "2012-12-27  70.021  25.291\n",
              "2012-12-28  69.278  24.906\n",
              "\n",
              "[249 rows x 2 columns]"
            ]
          },
          "metadata": {},
          "execution_count": 88
        }
      ]
    },
    {
      "cell_type": "markdown",
      "metadata": {
        "id": "CtGJXblTrkAF"
      },
      "source": [
        "## Melting"
      ]
    },
    {
      "cell_type": "code",
      "metadata": {
        "colab": {
          "base_uri": "https://localhost:8080/"
        },
        "id": "k_pOt6Hfrh7k",
        "outputId": "1bc2c4fb-9fd1-4c5e-e2a0-c41a64e01d15"
      },
      "source": [
        "s4p"
      ],
      "execution_count": 89,
      "outputs": [
        {
          "output_type": "execute_result",
          "data": {
            "text/plain": [
              "          Date Symbol    Open    High     Low   Close     Volume  Adj Close\n",
              "0   2012-01-03   MSFT   26.55   26.96   26.39   26.77   64731500     24.422\n",
              "1   2012-01-03   AAPL  409.40  412.50  409.00  411.23   75555200     55.414\n",
              "2   2012-01-04   MSFT   26.82   27.47   26.78   27.40   80516100     24.997\n",
              "3   2012-01-04   AAPL  410.00  414.68  409.28  413.44   65005500     55.711\n",
              "4   2012-01-05   MSFT   27.38   27.73   27.29   27.68   56081400     25.252\n",
              "..         ...    ...     ...     ...     ...     ...        ...        ...\n",
              "493 2012-12-26   MSFT   27.03   27.20   26.70   26.86   31631100     25.197\n",
              "494 2012-12-27   AAPL  513.54  516.25  504.66  515.06  113780100     70.021\n",
              "495 2012-12-27   MSFT   26.89   27.09   26.57   26.96   39394000     25.291\n",
              "496 2012-12-28   MSFT   26.71   26.90   26.55   26.55   28239900     24.906\n",
              "497 2012-12-28   AAPL  510.29  514.48  508.12  509.59   88569600     69.278\n",
              "\n",
              "[498 rows x 8 columns]"
            ]
          },
          "metadata": {},
          "execution_count": 89
        }
      ]
    },
    {
      "cell_type": "code",
      "metadata": {
        "id": "7WVlVXbirxzQ",
        "outputId": "a35f448e-258f-49cc-edbc-1e1ad4759f07",
        "colab": {
          "base_uri": "https://localhost:8080/"
        }
      },
      "source": [
        "melted = pd.melt(s4p, id_vars=['Date','Symbol'])\n",
        "melted"
      ],
      "execution_count": 90,
      "outputs": [
        {
          "output_type": "execute_result",
          "data": {
            "text/plain": [
              "           Date Symbol   variable    value\n",
              "0    2012-01-03   MSFT       Open   26.550\n",
              "1    2012-01-03   AAPL       Open  409.400\n",
              "2    2012-01-04   MSFT       Open   26.820\n",
              "3    2012-01-04   AAPL       Open  410.000\n",
              "4    2012-01-05   MSFT       Open   27.380\n",
              "...         ...    ...        ...      ...\n",
              "2983 2012-12-26   MSFT  Adj Close   25.197\n",
              "2984 2012-12-27   AAPL  Adj Close   70.021\n",
              "2985 2012-12-27   MSFT  Adj Close   25.291\n",
              "2986 2012-12-28   MSFT  Adj Close   24.906\n",
              "2987 2012-12-28   AAPL  Adj Close   69.278\n",
              "\n",
              "[2988 rows x 4 columns]"
            ]
          },
          "metadata": {},
          "execution_count": 90
        }
      ]
    },
    {
      "cell_type": "code",
      "metadata": {
        "id": "GAr8293ar-zU",
        "outputId": "c008a6e0-c5e8-48ec-b0be-c1c27e55e1d6",
        "colab": {
          "base_uri": "https://localhost:8080/"
        }
      },
      "source": [
        "melted[(melted.Date == '2012-01-03') & (melted.Symbol == 'MSFT')]"
      ],
      "execution_count": 92,
      "outputs": [
        {
          "output_type": "execute_result",
          "data": {
            "text/plain": [
              "           Date Symbol   variable      value\n",
              "0    2012-01-03   MSFT       Open  2.655e+01\n",
              "498  2012-01-03   MSFT       High  2.696e+01\n",
              "996  2012-01-03   MSFT        Low  2.639e+01\n",
              "1494 2012-01-03   MSFT      Close  2.677e+01\n",
              "1992 2012-01-03   MSFT     Volume  6.473e+07\n",
              "2490 2012-01-03   MSFT  Adj Close  2.442e+01"
            ]
          },
          "metadata": {},
          "execution_count": 92
        }
      ]
    },
    {
      "cell_type": "markdown",
      "metadata": {
        "id": "NUAkyvS3sdjU"
      },
      "source": [
        "# Grouping and aggregation\n",
        "\n",
        "## Splitting"
      ]
    },
    {
      "cell_type": "code",
      "metadata": {
        "id": "Xaq5uoyMsRzL",
        "outputId": "3a66ac8a-d735-4218-b0d8-d838d193519e",
        "colab": {
          "base_uri": "https://localhost:8080/"
        }
      },
      "source": [
        "combined"
      ],
      "execution_count": 93,
      "outputs": [
        {
          "output_type": "execute_result",
          "data": {
            "text/plain": [
              "           Symbol    Open    High     Low   Close     Volume  Adj Close\n",
              "Date                                                                   \n",
              "2012-01-03   MSFT   26.55   26.96   26.39   26.77   64731500     24.422\n",
              "2012-01-03   AAPL  409.40  412.50  409.00  411.23   75555200     55.414\n",
              "2012-01-04   MSFT   26.82   27.47   26.78   27.40   80516100     24.997\n",
              "2012-01-04   AAPL  410.00  414.68  409.28  413.44   65005500     55.711\n",
              "2012-01-05   MSFT   27.38   27.73   27.29   27.68   56081400     25.252\n",
              "...           ...     ...     ...     ...     ...        ...        ...\n",
              "2012-12-26   MSFT   27.03   27.20   26.70   26.86   31631100     25.197\n",
              "2012-12-27   AAPL  513.54  516.25  504.66  515.06  113780100     70.021\n",
              "2012-12-27   MSFT   26.89   27.09   26.57   26.96   39394000     25.291\n",
              "2012-12-28   MSFT   26.71   26.90   26.55   26.55   28239900     24.906\n",
              "2012-12-28   AAPL  510.29  514.48  508.12  509.59   88569600     69.278\n",
              "\n",
              "[498 rows x 7 columns]"
            ]
          },
          "metadata": {},
          "execution_count": 93
        }
      ]
    },
    {
      "cell_type": "code",
      "metadata": {
        "id": "cY6oohIrsxjZ",
        "outputId": "55c16676-2c39-4bee-b7ed-33efb43c541f",
        "colab": {
          "base_uri": "https://localhost:8080/"
        }
      },
      "source": [
        "s4g = combined[['Symbol','Adj Close']].reset_index()\n",
        "s4g"
      ],
      "execution_count": 94,
      "outputs": [
        {
          "output_type": "execute_result",
          "data": {
            "text/plain": [
              "          Date Symbol  Adj Close\n",
              "0   2012-01-03   MSFT     24.422\n",
              "1   2012-01-03   AAPL     55.414\n",
              "2   2012-01-04   MSFT     24.997\n",
              "3   2012-01-04   AAPL     55.711\n",
              "4   2012-01-05   MSFT     25.252\n",
              "..         ...    ...        ...\n",
              "493 2012-12-26   MSFT     25.197\n",
              "494 2012-12-27   AAPL     70.021\n",
              "495 2012-12-27   MSFT     25.291\n",
              "496 2012-12-28   MSFT     24.906\n",
              "497 2012-12-28   AAPL     69.278\n",
              "\n",
              "[498 rows x 3 columns]"
            ]
          },
          "metadata": {},
          "execution_count": 94
        }
      ]
    },
    {
      "cell_type": "code",
      "metadata": {
        "id": "N5NlBgEvtW2H"
      },
      "source": [
        "s4g.insert(1,'Year',pd.DatetimeIndex(s4g['Date']).year)\n",
        "s4g.insert(2,'Month',pd.DatetimeIndex(s4g['Date']).month)"
      ],
      "execution_count": 98,
      "outputs": []
    },
    {
      "cell_type": "code",
      "metadata": {
        "id": "plGFMUCFtxwJ",
        "outputId": "15a846bd-210c-4ebf-be13-2b87c7d8c3fa",
        "colab": {
          "base_uri": "https://localhost:8080/"
        }
      },
      "source": [
        "s4g"
      ],
      "execution_count": 99,
      "outputs": [
        {
          "output_type": "execute_result",
          "data": {
            "text/plain": [
              "          Date  Year  Month Symbol  Adj Close\n",
              "0   2012-01-03  2012      1   MSFT     24.422\n",
              "1   2012-01-03  2012      1   AAPL     55.414\n",
              "2   2012-01-04  2012      1   MSFT     24.997\n",
              "3   2012-01-04  2012      1   AAPL     55.711\n",
              "4   2012-01-05  2012      1   MSFT     25.252\n",
              "..         ...   ...    ...    ...        ...\n",
              "493 2012-12-26  2012     12   MSFT     25.197\n",
              "494 2012-12-27  2012     12   AAPL     70.021\n",
              "495 2012-12-27  2012     12   MSFT     25.291\n",
              "496 2012-12-28  2012     12   MSFT     24.906\n",
              "497 2012-12-28  2012     12   AAPL     69.278\n",
              "\n",
              "[498 rows x 5 columns]"
            ]
          },
          "metadata": {},
          "execution_count": 99
        }
      ]
    },
    {
      "cell_type": "code",
      "metadata": {
        "id": "_ZBnrS4MuAPy",
        "outputId": "076d0016-d31e-4c19-82ae-007a47ba7afe",
        "colab": {
          "base_uri": "https://localhost:8080/"
        }
      },
      "source": [
        "s4g.groupby('Symbol')"
      ],
      "execution_count": 100,
      "outputs": [
        {
          "output_type": "execute_result",
          "data": {
            "text/plain": [
              "<pandas.core.groupby.generic.DataFrameGroupBy object at 0x7fcddde5a350>"
            ]
          },
          "metadata": {},
          "execution_count": 100
        }
      ]
    },
    {
      "cell_type": "code",
      "metadata": {
        "id": "pecQ6t4IuLo3",
        "outputId": "dfcc666f-f868-4704-f9d9-4b075123b0b5",
        "colab": {
          "base_uri": "https://localhost:8080/"
        }
      },
      "source": [
        "grouped = s4g.groupby('Symbol')\n",
        "type(grouped.groups)"
      ],
      "execution_count": 101,
      "outputs": [
        {
          "output_type": "execute_result",
          "data": {
            "text/plain": [
              "pandas.io.formats.printing.PrettyDict"
            ]
          },
          "metadata": {},
          "execution_count": 101
        }
      ]
    },
    {
      "cell_type": "code",
      "metadata": {
        "id": "Az3W_w3ZuWfo",
        "outputId": "2b2801de-8409-4ee4-82c9-e9383fb77eaf",
        "colab": {
          "base_uri": "https://localhost:8080/"
        }
      },
      "source": [
        "grouped.groups"
      ],
      "execution_count": 102,
      "outputs": [
        {
          "output_type": "execute_result",
          "data": {
            "text/plain": [
              "{'AAPL': [1, 3, 5, 7, 9, 11, 13, 14, 16, 18, 20, 23, 25, 27, 29, 30, 33, 34, 37, 38, 41, 43, 44, 46, 49, 51, 52, 54, 57, 59, 61, 62, 64, 67, 68, 71, 72, 75, 77, 79, 81, 82, 84, 86, 89, 90, 93, 95, 96, 99, 100, 103, 105, 107, 109, 111, 112, 114, 117, 119, 121, 122, 124, 126, 128, 130, 132, 134, 137, 139, 140, 142, 145, 147, 149, 151, 153, 154, 156, 158, 160, 163, 164, 166, 168, 170, 173, 175, 176, 178, 180, 183, 184, 186, 189, 190, 193, 194, 196, 198, ...], 'MSFT': [0, 2, 4, 6, 8, 10, 12, 15, 17, 19, 21, 22, 24, 26, 28, 31, 32, 35, 36, 39, 40, 42, 45, 47, 48, 50, 53, 55, 56, 58, 60, 63, 65, 66, 69, 70, 73, 74, 76, 78, 80, 83, 85, 87, 88, 91, 92, 94, 97, 98, 101, 102, 104, 106, 108, 110, 113, 115, 116, 118, 120, 123, 125, 127, 129, 131, 133, 135, 136, 138, 141, 143, 144, 146, 148, 150, 152, 155, 157, 159, 161, 162, 165, 167, 169, 171, 172, 174, 177, 179, 181, 182, 185, 187, 188, 191, 192, 195, 197, 199, ...]}"
            ]
          },
          "metadata": {},
          "execution_count": 102
        }
      ]
    },
    {
      "cell_type": "code",
      "metadata": {
        "id": "Sb4ts7BSubcG",
        "outputId": "82fab7fe-2d58-487d-d3b0-b710edc62bef",
        "colab": {
          "base_uri": "https://localhost:8080/"
        }
      },
      "source": [
        "len(grouped), grouped.ngroups"
      ],
      "execution_count": 103,
      "outputs": [
        {
          "output_type": "execute_result",
          "data": {
            "text/plain": [
              "(2, 2)"
            ]
          },
          "metadata": {},
          "execution_count": 103
        }
      ]
    },
    {
      "cell_type": "code",
      "metadata": {
        "id": "p7n2E41Huoar"
      },
      "source": [
        "def print_groups(groupobject):\n",
        "  for name, group in groupobject:\n",
        "    print (name)\n",
        "    print(group.head())"
      ],
      "execution_count": 104,
      "outputs": []
    },
    {
      "cell_type": "code",
      "metadata": {
        "id": "KJy9bJ-Wu9VM",
        "outputId": "9d9fcc03-4d63-4dbf-87de-870369fc3265",
        "colab": {
          "base_uri": "https://localhost:8080/"
        }
      },
      "source": [
        "print_groups(grouped)"
      ],
      "execution_count": 105,
      "outputs": [
        {
          "output_type": "stream",
          "name": "stdout",
          "text": [
            "AAPL\n",
            "        Date  Year  Month Symbol  Adj Close\n",
            "1 2012-01-03  2012      1   AAPL     55.414\n",
            "3 2012-01-04  2012      1   AAPL     55.711\n",
            "5 2012-01-05  2012      1   AAPL     56.330\n",
            "7 2012-01-06  2012      1   AAPL     56.919\n",
            "9 2012-01-09  2012      1   AAPL     56.829\n",
            "MSFT\n",
            "        Date  Year  Month Symbol  Adj Close\n",
            "0 2012-01-03  2012      1   MSFT     24.422\n",
            "2 2012-01-04  2012      1   MSFT     24.997\n",
            "4 2012-01-05  2012      1   MSFT     25.252\n",
            "6 2012-01-06  2012      1   MSFT     25.644\n",
            "8 2012-01-09  2012      1   MSFT     25.307\n"
          ]
        }
      ]
    },
    {
      "cell_type": "code",
      "metadata": {
        "id": "SoVIbvzZu_lM",
        "outputId": "0390fae3-8ff4-47cc-eedc-b481698a7fe2",
        "colab": {
          "base_uri": "https://localhost:8080/"
        }
      },
      "source": [
        "grouped.size()"
      ],
      "execution_count": 106,
      "outputs": [
        {
          "output_type": "execute_result",
          "data": {
            "text/plain": [
              "Symbol\n",
              "AAPL    249\n",
              "MSFT    249\n",
              "dtype: int64"
            ]
          },
          "metadata": {},
          "execution_count": 106
        }
      ]
    },
    {
      "cell_type": "code",
      "metadata": {
        "id": "lEkZH9m5vKTX",
        "outputId": "71d9b95a-f5f9-4c95-a4dc-fc739a01ee91",
        "colab": {
          "base_uri": "https://localhost:8080/"
        }
      },
      "source": [
        "grouped.get_group('MSFT')"
      ],
      "execution_count": 107,
      "outputs": [
        {
          "output_type": "execute_result",
          "data": {
            "text/plain": [
              "          Date  Year  Month Symbol  Adj Close\n",
              "0   2012-01-03  2012      1   MSFT     24.422\n",
              "2   2012-01-04  2012      1   MSFT     24.997\n",
              "4   2012-01-05  2012      1   MSFT     25.252\n",
              "6   2012-01-06  2012      1   MSFT     25.644\n",
              "8   2012-01-09  2012      1   MSFT     25.307\n",
              "..         ...   ...    ...    ...        ...\n",
              "489 2012-12-21  2012     12   MSFT     25.750\n",
              "491 2012-12-24  2012     12   MSFT     25.385\n",
              "493 2012-12-26  2012     12   MSFT     25.197\n",
              "495 2012-12-27  2012     12   MSFT     25.291\n",
              "496 2012-12-28  2012     12   MSFT     24.906\n",
              "\n",
              "[249 rows x 5 columns]"
            ]
          },
          "metadata": {},
          "execution_count": 107
        }
      ]
    },
    {
      "cell_type": "code",
      "metadata": {
        "id": "Fnq5vPHjvN2h",
        "outputId": "b9d70737-55af-4e38-909b-4bf9c202a36a",
        "colab": {
          "base_uri": "https://localhost:8080/"
        }
      },
      "source": [
        "mcg = s4g.groupby(['Symbol','Year','Month'])\n",
        "print_groups(mcg)"
      ],
      "execution_count": 108,
      "outputs": [
        {
          "output_type": "stream",
          "name": "stdout",
          "text": [
            "('AAPL', 2012, 1)\n",
            "        Date  Year  Month Symbol  Adj Close\n",
            "1 2012-01-03  2012      1   AAPL     55.414\n",
            "3 2012-01-04  2012      1   AAPL     55.711\n",
            "5 2012-01-05  2012      1   AAPL     56.330\n",
            "7 2012-01-06  2012      1   AAPL     56.919\n",
            "9 2012-01-09  2012      1   AAPL     56.829\n",
            "('AAPL', 2012, 2)\n",
            "         Date  Year  Month Symbol  Adj Close\n",
            "41 2012-02-01  2012      2   AAPL     61.472\n",
            "43 2012-02-02  2012      2   AAPL     61.328\n",
            "44 2012-02-03  2012      2   AAPL     61.942\n",
            "46 2012-02-06  2012      2   AAPL     62.520\n",
            "49 2012-02-07  2012      2   AAPL     63.175\n",
            "('AAPL', 2012, 3)\n",
            "         Date  Year  Month Symbol  Adj Close\n",
            "81 2012-03-01  2012      3   AAPL     73.368\n",
            "82 2012-03-02  2012      3   AAPL     73.464\n",
            "84 2012-03-05  2012      3   AAPL     71.844\n",
            "86 2012-03-06  2012      3   AAPL     71.453\n",
            "89 2012-03-07  2012      3   AAPL     71.511\n",
            "('AAPL', 2012, 4)\n",
            "          Date  Year  Month Symbol  Adj Close\n",
            "124 2012-04-02  2012      4   AAPL     83.361\n",
            "126 2012-04-03  2012      4   AAPL     84.801\n",
            "128 2012-04-04  2012      4   AAPL     84.126\n",
            "130 2012-04-05  2012      4   AAPL     85.389\n",
            "132 2012-04-09  2012      4   AAPL     85.733\n",
            "('AAPL', 2012, 5)\n",
            "          Date  Year  Month Symbol  Adj Close\n",
            "164 2012-05-01  2012      5   AAPL     78.443\n",
            "166 2012-05-02  2012      5   AAPL     78.961\n",
            "168 2012-05-03  2012      5   AAPL     78.401\n",
            "170 2012-05-04  2012      5   AAPL     76.168\n",
            "173 2012-05-07  2012      5   AAPL     76.738\n",
            "('AAPL', 2012, 6)\n",
            "          Date  Year  Month Symbol  Adj Close\n",
            "208 2012-06-01  2012      6   AAPL     75.594\n",
            "211 2012-06-04  2012      6   AAPL     76.039\n",
            "213 2012-06-05  2012      6   AAPL     75.842\n",
            "215 2012-06-06  2012      6   AAPL     77.005\n",
            "217 2012-06-07  2012      6   AAPL     77.040\n",
            "('AAPL', 2012, 7)\n",
            "          Date  Year  Month Symbol  Adj Close\n",
            "250 2012-07-02  2012      7   AAPL     79.843\n",
            "252 2012-07-03  2012      7   AAPL     80.771\n",
            "254 2012-07-05  2012      7   AAPL     82.190\n",
            "257 2012-07-06  2012      7   AAPL     81.643\n",
            "259 2012-07-09  2012      7   AAPL     82.722\n",
            "('AAPL', 2012, 8)\n",
            "          Date  Year  Month Symbol  Adj Close\n",
            "293 2012-08-01  2012      8   AAPL     81.768\n",
            "295 2012-08-02  2012      8   AAPL     81.900\n",
            "296 2012-08-03  2012      8   AAPL     82.966\n",
            "298 2012-08-06  2012      8   AAPL     83.889\n",
            "301 2012-08-07  2012      8   AAPL     83.668\n",
            "('AAPL', 2012, 9)\n",
            "          Date  Year  Month Symbol  Adj Close\n",
            "338 2012-09-04  2012      9   AAPL     91.343\n",
            "340 2012-09-05  2012      9   AAPL     90.702\n",
            "343 2012-09-06  2012      9   AAPL     91.519\n",
            "344 2012-09-07  2012      9   AAPL     92.084\n",
            "347 2012-09-10  2012      9   AAPL     89.688\n",
            "('AAPL', 2012, 10)\n",
            "          Date  Year  Month Symbol  Adj Close\n",
            "377 2012-10-01  2012     10   AAPL     89.235\n",
            "379 2012-10-02  2012     10   AAPL     89.495\n",
            "380 2012-10-03  2012     10   AAPL     90.867\n",
            "382 2012-10-04  2012     10   AAPL     90.238\n",
            "385 2012-10-05  2012     10   AAPL     88.315\n",
            "('AAPL', 2012, 11)\n",
            "          Date  Year  Month Symbol  Adj Close\n",
            "419 2012-11-01  2012     11   AAPL     80.729\n",
            "420 2012-11-02  2012     11   AAPL     78.058\n",
            "423 2012-11-05  2012     11   AAPL     79.116\n",
            "425 2012-11-06  2012     11   AAPL     78.877\n",
            "427 2012-11-07  2012     11   AAPL     75.859\n",
            "('AAPL', 2012, 12)\n",
            "          Date  Year  Month Symbol  Adj Close\n",
            "460 2012-12-03  2012     12   AAPL     79.691\n",
            "463 2012-12-04  2012     12   AAPL     78.285\n",
            "464 2012-12-05  2012     12   AAPL     73.247\n",
            "466 2012-12-06  2012     12   AAPL     74.396\n",
            "468 2012-12-07  2012     12   AAPL     72.494\n",
            "('MSFT', 2012, 1)\n",
            "        Date  Year  Month Symbol  Adj Close\n",
            "0 2012-01-03  2012      1   MSFT     24.422\n",
            "2 2012-01-04  2012      1   MSFT     24.997\n",
            "4 2012-01-05  2012      1   MSFT     25.252\n",
            "6 2012-01-06  2012      1   MSFT     25.644\n",
            "8 2012-01-09  2012      1   MSFT     25.307\n",
            "('MSFT', 2012, 2)\n",
            "         Date  Year  Month Symbol  Adj Close\n",
            "40 2012-02-01  2012      2   MSFT     27.268\n",
            "42 2012-02-02  2012      2   MSFT     27.323\n",
            "45 2012-02-03  2012      2   MSFT     27.587\n",
            "47 2012-02-06  2012      2   MSFT     27.551\n",
            "48 2012-02-07  2012      2   MSFT     27.688\n",
            "('MSFT', 2012, 3)\n",
            "         Date  Year  Month Symbol  Adj Close\n",
            "80 2012-03-01  2012      3   MSFT     29.652\n",
            "83 2012-03-02  2012      3   MSFT     29.459\n",
            "85 2012-03-05  2012      3   MSFT     29.202\n",
            "87 2012-03-06  2012      3   MSFT     28.981\n",
            "88 2012-03-07  2012      3   MSFT     29.238\n",
            "('MSFT', 2012, 4)\n",
            "          Date  Year  Month Symbol  Adj Close\n",
            "125 2012-04-02  2012      4   MSFT     29.652\n",
            "127 2012-04-03  2012      4   MSFT     29.330\n",
            "129 2012-04-04  2012      4   MSFT     28.660\n",
            "131 2012-04-05  2012      4   MSFT     28.944\n",
            "133 2012-04-09  2012      4   MSFT     28.559\n",
            "('MSFT', 2012, 5)\n",
            "          Date  Year  Month Symbol  Adj Close\n",
            "165 2012-05-01  2012      5   MSFT     29.394\n",
            "167 2012-05-02  2012      5   MSFT     29.202\n",
            "169 2012-05-03  2012      5   MSFT     29.165\n",
            "171 2012-05-04  2012      5   MSFT     28.449\n",
            "172 2012-05-07  2012      5   MSFT     28.146\n",
            "('MSFT', 2012, 6)\n",
            "          Date  Year  Month Symbol  Adj Close\n",
            "209 2012-06-01  2012      6   MSFT     26.297\n",
            "210 2012-06-04  2012      6   MSFT     26.389\n",
            "212 2012-06-05  2012      6   MSFT     26.352\n",
            "214 2012-06-06  2012      6   MSFT     27.129\n",
            "216 2012-06-07  2012      6   MSFT     27.018\n",
            "('MSFT', 2012, 7)\n",
            "          Date  Year  Month Symbol  Adj Close\n",
            "251 2012-07-02  2012      7   MSFT     28.247\n",
            "253 2012-07-03  2012      7   MSFT     28.432\n",
            "255 2012-07-05  2012      7   MSFT     28.376\n",
            "256 2012-07-06  2012      7   MSFT     27.905\n",
            "258 2012-07-09  2012      7   MSFT     27.729\n",
            "('MSFT', 2012, 8)\n",
            "          Date  Year  Month Symbol  Adj Close\n",
            "292 2012-08-01  2012      8   MSFT     27.184\n",
            "294 2012-08-02  2012      8   MSFT     26.981\n",
            "297 2012-08-03  2012      8   MSFT     27.498\n",
            "299 2012-08-06  2012      8   MSFT     27.683\n",
            "300 2012-08-07  2012      8   MSFT     27.970\n",
            "('MSFT', 2012, 9)\n",
            "          Date  Year  Month Symbol  Adj Close\n",
            "339 2012-09-04  2012      9   MSFT     28.276\n",
            "341 2012-09-05  2012      9   MSFT     28.276\n",
            "342 2012-09-06  2012      9   MSFT     29.169\n",
            "345 2012-09-07  2012      9   MSFT     28.797\n",
            "346 2012-09-10  2012      9   MSFT     28.583\n",
            "('MSFT', 2012, 10)\n",
            "          Date  Year  Month Symbol  Adj Close\n",
            "376 2012-10-01  2012     10   MSFT     27.439\n",
            "378 2012-10-02  2012     10   MSFT     27.597\n",
            "381 2012-10-03  2012     10   MSFT     27.783\n",
            "383 2012-10-04  2012     10   MSFT     27.941\n",
            "384 2012-10-05  2012     10   MSFT     27.774\n",
            "('MSFT', 2012, 11)\n",
            "          Date  Year  Month Symbol  Adj Close\n",
            "418 2012-11-01  2012     11   MSFT     27.467\n",
            "421 2012-11-02  2012     11   MSFT     27.448\n",
            "422 2012-11-05  2012     11   MSFT     27.569\n",
            "424 2012-11-06  2012     11   MSFT     27.783\n",
            "426 2012-11-07  2012     11   MSFT     27.057\n",
            "('MSFT', 2012, 12)\n",
            "          Date  Year  Month Symbol  Adj Close\n",
            "461 2012-12-03  2012     12   MSFT     24.794\n",
            "462 2012-12-04  2012     12   MSFT     24.737\n",
            "465 2012-12-05  2012     12   MSFT     25.019\n",
            "467 2012-12-06  2012     12   MSFT     25.075\n",
            "469 2012-12-07  2012     12   MSFT     24.822\n"
          ]
        }
      ]
    },
    {
      "cell_type": "code",
      "metadata": {
        "id": "Kl7LuN0mvd0t",
        "outputId": "f8cc1222-8a1f-4de7-86d0-2e5f165057fb",
        "colab": {
          "base_uri": "https://localhost:8080/"
        }
      },
      "source": [
        "mi = s4g.set_index(['Symbol','Year','Month'])\n",
        "mi"
      ],
      "execution_count": 109,
      "outputs": [
        {
          "output_type": "execute_result",
          "data": {
            "text/plain": [
              "                        Date  Adj Close\n",
              "Symbol Year Month                      \n",
              "MSFT   2012 1     2012-01-03     24.422\n",
              "AAPL   2012 1     2012-01-03     55.414\n",
              "MSFT   2012 1     2012-01-04     24.997\n",
              "AAPL   2012 1     2012-01-04     55.711\n",
              "MSFT   2012 1     2012-01-05     25.252\n",
              "...                      ...        ...\n",
              "            12    2012-12-26     25.197\n",
              "AAPL   2012 12    2012-12-27     70.021\n",
              "MSFT   2012 12    2012-12-27     25.291\n",
              "            12    2012-12-28     24.906\n",
              "AAPL   2012 12    2012-12-28     69.278\n",
              "\n",
              "[498 rows x 2 columns]"
            ]
          },
          "metadata": {},
          "execution_count": 109
        }
      ]
    },
    {
      "cell_type": "code",
      "metadata": {
        "id": "ravOPaZfvvL7",
        "outputId": "a50f4b44-6365-445a-941e-22826441ad17",
        "colab": {
          "base_uri": "https://localhost:8080/"
        }
      },
      "source": [
        "mig_l1= mi.groupby(level=0)\n",
        "print_groups(mig_l1)"
      ],
      "execution_count": 110,
      "outputs": [
        {
          "output_type": "stream",
          "name": "stdout",
          "text": [
            "AAPL\n",
            "                        Date  Adj Close\n",
            "Symbol Year Month                      \n",
            "AAPL   2012 1     2012-01-03     55.414\n",
            "            1     2012-01-04     55.711\n",
            "            1     2012-01-05     56.330\n",
            "            1     2012-01-06     56.919\n",
            "            1     2012-01-09     56.829\n",
            "MSFT\n",
            "                        Date  Adj Close\n",
            "Symbol Year Month                      \n",
            "MSFT   2012 1     2012-01-03     24.422\n",
            "            1     2012-01-04     24.997\n",
            "            1     2012-01-05     25.252\n",
            "            1     2012-01-06     25.644\n",
            "            1     2012-01-09     25.307\n"
          ]
        }
      ]
    },
    {
      "cell_type": "code",
      "metadata": {
        "id": "CIC5mkvTv9xF",
        "outputId": "089e0921-e6b8-4d66-a0ed-6e85f2e4478c",
        "colab": {
          "base_uri": "https://localhost:8080/"
        }
      },
      "source": [
        "mig_l12 = mi.groupby(level=['Symbol','Year','Month'])\n",
        "print_groups(mig_l12)"
      ],
      "execution_count": 111,
      "outputs": [
        {
          "output_type": "stream",
          "name": "stdout",
          "text": [
            "('AAPL', 2012, 1)\n",
            "                        Date  Adj Close\n",
            "Symbol Year Month                      \n",
            "AAPL   2012 1     2012-01-03     55.414\n",
            "            1     2012-01-04     55.711\n",
            "            1     2012-01-05     56.330\n",
            "            1     2012-01-06     56.919\n",
            "            1     2012-01-09     56.829\n",
            "('AAPL', 2012, 2)\n",
            "                        Date  Adj Close\n",
            "Symbol Year Month                      \n",
            "AAPL   2012 2     2012-02-01     61.472\n",
            "            2     2012-02-02     61.328\n",
            "            2     2012-02-03     61.942\n",
            "            2     2012-02-06     62.520\n",
            "            2     2012-02-07     63.175\n",
            "('AAPL', 2012, 3)\n",
            "                        Date  Adj Close\n",
            "Symbol Year Month                      \n",
            "AAPL   2012 3     2012-03-01     73.368\n",
            "            3     2012-03-02     73.464\n",
            "            3     2012-03-05     71.844\n",
            "            3     2012-03-06     71.453\n",
            "            3     2012-03-07     71.511\n",
            "('AAPL', 2012, 4)\n",
            "                        Date  Adj Close\n",
            "Symbol Year Month                      \n",
            "AAPL   2012 4     2012-04-02     83.361\n",
            "            4     2012-04-03     84.801\n",
            "            4     2012-04-04     84.126\n",
            "            4     2012-04-05     85.389\n",
            "            4     2012-04-09     85.733\n",
            "('AAPL', 2012, 5)\n",
            "                        Date  Adj Close\n",
            "Symbol Year Month                      \n",
            "AAPL   2012 5     2012-05-01     78.443\n",
            "            5     2012-05-02     78.961\n",
            "            5     2012-05-03     78.401\n",
            "            5     2012-05-04     76.168\n",
            "            5     2012-05-07     76.738\n",
            "('AAPL', 2012, 6)\n",
            "                        Date  Adj Close\n",
            "Symbol Year Month                      \n",
            "AAPL   2012 6     2012-06-01     75.594\n",
            "            6     2012-06-04     76.039\n",
            "            6     2012-06-05     75.842\n",
            "            6     2012-06-06     77.005\n",
            "            6     2012-06-07     77.040\n",
            "('AAPL', 2012, 7)\n",
            "                        Date  Adj Close\n",
            "Symbol Year Month                      \n",
            "AAPL   2012 7     2012-07-02     79.843\n",
            "            7     2012-07-03     80.771\n",
            "            7     2012-07-05     82.190\n",
            "            7     2012-07-06     81.643\n",
            "            7     2012-07-09     82.722\n",
            "('AAPL', 2012, 8)\n",
            "                        Date  Adj Close\n",
            "Symbol Year Month                      \n",
            "AAPL   2012 8     2012-08-01     81.768\n",
            "            8     2012-08-02     81.900\n",
            "            8     2012-08-03     82.966\n",
            "            8     2012-08-06     83.889\n",
            "            8     2012-08-07     83.668\n",
            "('AAPL', 2012, 9)\n",
            "                        Date  Adj Close\n",
            "Symbol Year Month                      \n",
            "AAPL   2012 9     2012-09-04     91.343\n",
            "            9     2012-09-05     90.702\n",
            "            9     2012-09-06     91.519\n",
            "            9     2012-09-07     92.084\n",
            "            9     2012-09-10     89.688\n",
            "('AAPL', 2012, 10)\n",
            "                        Date  Adj Close\n",
            "Symbol Year Month                      \n",
            "AAPL   2012 10    2012-10-01     89.235\n",
            "            10    2012-10-02     89.495\n",
            "            10    2012-10-03     90.867\n",
            "            10    2012-10-04     90.238\n",
            "            10    2012-10-05     88.315\n",
            "('AAPL', 2012, 11)\n",
            "                        Date  Adj Close\n",
            "Symbol Year Month                      \n",
            "AAPL   2012 11    2012-11-01     80.729\n",
            "            11    2012-11-02     78.058\n",
            "            11    2012-11-05     79.116\n",
            "            11    2012-11-06     78.877\n",
            "            11    2012-11-07     75.859\n",
            "('AAPL', 2012, 12)\n",
            "                        Date  Adj Close\n",
            "Symbol Year Month                      \n",
            "AAPL   2012 12    2012-12-03     79.691\n",
            "            12    2012-12-04     78.285\n",
            "            12    2012-12-05     73.247\n",
            "            12    2012-12-06     74.396\n",
            "            12    2012-12-07     72.494\n",
            "('MSFT', 2012, 1)\n",
            "                        Date  Adj Close\n",
            "Symbol Year Month                      \n",
            "MSFT   2012 1     2012-01-03     24.422\n",
            "            1     2012-01-04     24.997\n",
            "            1     2012-01-05     25.252\n",
            "            1     2012-01-06     25.644\n",
            "            1     2012-01-09     25.307\n",
            "('MSFT', 2012, 2)\n",
            "                        Date  Adj Close\n",
            "Symbol Year Month                      \n",
            "MSFT   2012 2     2012-02-01     27.268\n",
            "            2     2012-02-02     27.323\n",
            "            2     2012-02-03     27.587\n",
            "            2     2012-02-06     27.551\n",
            "            2     2012-02-07     27.688\n",
            "('MSFT', 2012, 3)\n",
            "                        Date  Adj Close\n",
            "Symbol Year Month                      \n",
            "MSFT   2012 3     2012-03-01     29.652\n",
            "            3     2012-03-02     29.459\n",
            "            3     2012-03-05     29.202\n",
            "            3     2012-03-06     28.981\n",
            "            3     2012-03-07     29.238\n",
            "('MSFT', 2012, 4)\n",
            "                        Date  Adj Close\n",
            "Symbol Year Month                      \n",
            "MSFT   2012 4     2012-04-02     29.652\n",
            "            4     2012-04-03     29.330\n",
            "            4     2012-04-04     28.660\n",
            "            4     2012-04-05     28.944\n",
            "            4     2012-04-09     28.559\n",
            "('MSFT', 2012, 5)\n",
            "                        Date  Adj Close\n",
            "Symbol Year Month                      \n",
            "MSFT   2012 5     2012-05-01     29.394\n",
            "            5     2012-05-02     29.202\n",
            "            5     2012-05-03     29.165\n",
            "            5     2012-05-04     28.449\n",
            "            5     2012-05-07     28.146\n",
            "('MSFT', 2012, 6)\n",
            "                        Date  Adj Close\n",
            "Symbol Year Month                      \n",
            "MSFT   2012 6     2012-06-01     26.297\n",
            "            6     2012-06-04     26.389\n",
            "            6     2012-06-05     26.352\n",
            "            6     2012-06-06     27.129\n",
            "            6     2012-06-07     27.018\n",
            "('MSFT', 2012, 7)\n",
            "                        Date  Adj Close\n",
            "Symbol Year Month                      \n",
            "MSFT   2012 7     2012-07-02     28.247\n",
            "            7     2012-07-03     28.432\n",
            "            7     2012-07-05     28.376\n",
            "            7     2012-07-06     27.905\n",
            "            7     2012-07-09     27.729\n",
            "('MSFT', 2012, 8)\n",
            "                        Date  Adj Close\n",
            "Symbol Year Month                      \n",
            "MSFT   2012 8     2012-08-01     27.184\n",
            "            8     2012-08-02     26.981\n",
            "            8     2012-08-03     27.498\n",
            "            8     2012-08-06     27.683\n",
            "            8     2012-08-07     27.970\n",
            "('MSFT', 2012, 9)\n",
            "                        Date  Adj Close\n",
            "Symbol Year Month                      \n",
            "MSFT   2012 9     2012-09-04     28.276\n",
            "            9     2012-09-05     28.276\n",
            "            9     2012-09-06     29.169\n",
            "            9     2012-09-07     28.797\n",
            "            9     2012-09-10     28.583\n",
            "('MSFT', 2012, 10)\n",
            "                        Date  Adj Close\n",
            "Symbol Year Month                      \n",
            "MSFT   2012 10    2012-10-01     27.439\n",
            "            10    2012-10-02     27.597\n",
            "            10    2012-10-03     27.783\n",
            "            10    2012-10-04     27.941\n",
            "            10    2012-10-05     27.774\n",
            "('MSFT', 2012, 11)\n",
            "                        Date  Adj Close\n",
            "Symbol Year Month                      \n",
            "MSFT   2012 11    2012-11-01     27.467\n",
            "            11    2012-11-02     27.448\n",
            "            11    2012-11-05     27.569\n",
            "            11    2012-11-06     27.783\n",
            "            11    2012-11-07     27.057\n",
            "('MSFT', 2012, 12)\n",
            "                        Date  Adj Close\n",
            "Symbol Year Month                      \n",
            "MSFT   2012 12    2012-12-03     24.794\n",
            "            12    2012-12-04     24.737\n",
            "            12    2012-12-05     25.019\n",
            "            12    2012-12-06     25.075\n",
            "            12    2012-12-07     24.822\n"
          ]
        }
      ]
    },
    {
      "cell_type": "markdown",
      "metadata": {
        "id": "8R7S4dm0watk"
      },
      "source": [
        "## Aggregation"
      ]
    },
    {
      "cell_type": "code",
      "metadata": {
        "id": "cDioq_w0wXls",
        "outputId": "7085df56-8671-413f-c53e-b050404fee74",
        "colab": {
          "base_uri": "https://localhost:8080/"
        }
      },
      "source": [
        "mig_l12.agg(np.mean)"
      ],
      "execution_count": 112,
      "outputs": [
        {
          "output_type": "execute_result",
          "data": {
            "text/plain": [
              "                   Adj Close\n",
              "Symbol Year Month           \n",
              "AAPL   2012 1         57.751\n",
              "            2         67.048\n",
              "            3         77.820\n",
              "            4         81.659\n",
              "            5         76.090\n",
              "...                      ...\n",
              "MSFT   2012 8         28.174\n",
              "            9         28.641\n",
              "            10        27.044\n",
              "            11        26.005\n",
              "            12        25.309\n",
              "\n",
              "[24 rows x 1 columns]"
            ]
          },
          "metadata": {},
          "execution_count": 112
        }
      ]
    },
    {
      "cell_type": "code",
      "metadata": {
        "id": "vli9X4OfwjtN",
        "outputId": "d0a78228-7a72-44fa-f914-7961314b522c",
        "colab": {
          "base_uri": "https://localhost:8080/"
        }
      },
      "source": [
        "s4g.groupby(['Symbol','Year','Month'], as_index=False).agg(np.mean)[:5]"
      ],
      "execution_count": 113,
      "outputs": [
        {
          "output_type": "execute_result",
          "data": {
            "text/plain": [
              "  Symbol  Year  Month  Adj Close\n",
              "0   AAPL  2012      1     57.751\n",
              "1   AAPL  2012      2     67.048\n",
              "2   AAPL  2012      3     77.820\n",
              "3   AAPL  2012      4     81.659\n",
              "4   AAPL  2012      5     76.090"
            ]
          },
          "metadata": {},
          "execution_count": 113
        }
      ]
    },
    {
      "cell_type": "code",
      "metadata": {
        "id": "H6QQjDnGw2KK",
        "outputId": "8140acbf-bc5c-4ad7-9b80-e4020d86d6ee",
        "colab": {
          "base_uri": "https://localhost:8080/"
        }
      },
      "source": [
        "mig_l12.agg([np.mean, np.std, np.sum])"
      ],
      "execution_count": 114,
      "outputs": [
        {
          "output_type": "execute_result",
          "data": {
            "text/plain": [
              "                  Adj Close                 \n",
              "                       mean    std       sum\n",
              "Symbol Year Month                           \n",
              "AAPL   2012 1        57.751  1.798  1155.026\n",
              "            2        67.048  3.570  1340.963\n",
              "            3        77.820  4.162  1712.033\n",
              "            4        81.659  3.063  1633.189\n",
              "            5        76.090  1.991  1673.985\n",
              "...                     ...    ...       ...\n",
              "MSFT   2012 8        28.174  0.473   647.996\n",
              "            9        28.641  0.431   544.176\n",
              "            10       27.044  0.667   567.930\n",
              "            11       26.005  1.001   546.103\n",
              "            12       25.309  0.364   480.871\n",
              "\n",
              "[24 rows x 3 columns]"
            ]
          },
          "metadata": {},
          "execution_count": 114
        }
      ]
    },
    {
      "cell_type": "code",
      "metadata": {
        "id": "TRASjW46xBtH"
      },
      "source": [
        ""
      ],
      "execution_count": null,
      "outputs": []
    }
  ]
}