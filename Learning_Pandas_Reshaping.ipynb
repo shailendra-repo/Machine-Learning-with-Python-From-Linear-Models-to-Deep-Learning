{
  "nbformat": 4,
  "nbformat_minor": 0,
  "metadata": {
    "colab": {
      "name": "Learning Pandas Reshaping.ipynb",
      "provenance": [],
      "authorship_tag": "ABX9TyNh7ZBHBa32/YGoF0Kjwa6I",
      "include_colab_link": true
    },
    "kernelspec": {
      "name": "python3",
      "display_name": "Python 3"
    },
    "language_info": {
      "name": "python"
    }
  },
  "cells": [
    {
      "cell_type": "markdown",
      "metadata": {
        "id": "view-in-github",
        "colab_type": "text"
      },
      "source": [
        "<a href=\"https://colab.research.google.com/github/shailendra-repo/Python/blob/main/Learning_Pandas_Reshaping.ipynb\" target=\"_parent\"><img src=\"https://colab.research.google.com/assets/colab-badge.svg\" alt=\"Open In Colab\"/></a>"
      ]
    },
    {
      "cell_type": "code",
      "metadata": {
        "id": "1n2UmZKWohjY"
      },
      "source": [
        ""
      ],
      "execution_count": null,
      "outputs": []
    },
    {
      "cell_type": "markdown",
      "metadata": {
        "id": "e06tla0aW77q"
      },
      "source": [
        "## Reshaping, Reorganizing and Aggregation"
      ]
    },
    {
      "cell_type": "code",
      "metadata": {
        "id": "kwY8IiIlXA1Y"
      },
      "source": [
        "import numpy as np\n",
        "import pandas as pd\n",
        "import matplotlib.pyplot as plt\n",
        "%matplotlib inline\n",
        "\n",
        "pd.set_option('display.notebook_repr_html', False)\n",
        "pd.set_option('display.max_columns',10)\n",
        "pd.set_option('display.max_rows',10)\n",
        "pd.set_option('precision',3)\n"
      ],
      "execution_count": 1,
      "outputs": []
    },
    {
      "cell_type": "code",
      "metadata": {
        "id": "C_VyE5n0Xfzy"
      },
      "source": [
        "msft = pd.read_csv('msft.csv', index_col=['Date'], parse_dates=True)\n",
        "aapl= pd.read_csv('aapl.csv', index_col=['Date'], parse_dates=True)"
      ],
      "execution_count": 7,
      "outputs": []
    },
    {
      "cell_type": "code",
      "metadata": {
        "id": "L9jJk3JHYGu2",
        "outputId": "442f100b-f055-4da3-8017-c4e391b27585",
        "colab": {
          "base_uri": "https://localhost:8080/"
        }
      },
      "source": [
        "msft.head()"
      ],
      "execution_count": 8,
      "outputs": [
        {
          "output_type": "execute_result",
          "data": {
            "text/plain": [
              "             Open   High    Low  Close    Volume  Adj Close\n",
              "Date                                                       \n",
              "2012-01-03  26.55  26.96  26.39  26.77  64731500     24.422\n",
              "2012-01-04  26.82  27.47  26.78  27.40  80516100     24.997\n",
              "2012-01-05  27.38  27.73  27.29  27.68  56081400     25.252\n",
              "2012-01-06  27.53  28.19  27.53  28.11  99455500     25.644\n",
              "2012-01-09  28.05  28.10  27.72  27.74  59706800     25.307"
            ]
          },
          "metadata": {},
          "execution_count": 8
        }
      ]
    },
    {
      "cell_type": "code",
      "metadata": {
        "id": "7Aqeo06PYm1a",
        "outputId": "fb38b4ae-cd5f-4013-9d5e-c70a3bcf0c91",
        "colab": {
          "base_uri": "https://localhost:8080/"
        }
      },
      "source": [
        "aapl.head()"
      ],
      "execution_count": 9,
      "outputs": [
        {
          "output_type": "execute_result",
          "data": {
            "text/plain": [
              "              Open    High     Low   Close    Volume  Adj Close\n",
              "Date                                                           \n",
              "2012-01-03  409.40  412.50  409.00  411.23  75555200     55.414\n",
              "2012-01-04  410.00  414.68  409.28  413.44  65005500     55.711\n",
              "2012-01-05  414.95  418.55  412.67  418.03  67817400     56.330\n",
              "2012-01-06  419.77  422.75  419.22  422.40  79573200     56.919\n",
              "2012-01-09  425.50  427.75  421.35  421.73  98506100     56.829"
            ]
          },
          "metadata": {},
          "execution_count": 9
        }
      ]
    },
    {
      "cell_type": "code",
      "metadata": {
        "id": "Lm9ZNhPvYn_j",
        "outputId": "7f75a1e1-9948-4098-efd9-a0e4c231acc7",
        "colab": {
          "base_uri": "https://localhost:8080/"
        }
      },
      "source": [
        "msft[:5]"
      ],
      "execution_count": 10,
      "outputs": [
        {
          "output_type": "execute_result",
          "data": {
            "text/plain": [
              "             Open   High    Low  Close    Volume  Adj Close\n",
              "Date                                                       \n",
              "2012-01-03  26.55  26.96  26.39  26.77  64731500     24.422\n",
              "2012-01-04  26.82  27.47  26.78  27.40  80516100     24.997\n",
              "2012-01-05  27.38  27.73  27.29  27.68  56081400     25.252\n",
              "2012-01-06  27.53  28.19  27.53  28.11  99455500     25.644\n",
              "2012-01-09  28.05  28.10  27.72  27.74  59706800     25.307"
            ]
          },
          "metadata": {},
          "execution_count": 10
        }
      ]
    },
    {
      "cell_type": "code",
      "metadata": {
        "id": "2AwBLSLbYpX4",
        "outputId": "6de589d7-cdea-4a72-95b5-7e6e09a7ef90",
        "colab": {
          "base_uri": "https://localhost:8080/"
        }
      },
      "source": [
        "aapl[:5]"
      ],
      "execution_count": 11,
      "outputs": [
        {
          "output_type": "execute_result",
          "data": {
            "text/plain": [
              "              Open    High     Low   Close    Volume  Adj Close\n",
              "Date                                                           \n",
              "2012-01-03  409.40  412.50  409.00  411.23  75555200     55.414\n",
              "2012-01-04  410.00  414.68  409.28  413.44  65005500     55.711\n",
              "2012-01-05  414.95  418.55  412.67  418.03  67817400     56.330\n",
              "2012-01-06  419.77  422.75  419.22  422.40  79573200     56.919\n",
              "2012-01-09  425.50  427.75  421.35  421.73  98506100     56.829"
            ]
          },
          "metadata": {},
          "execution_count": 11
        }
      ]
    },
    {
      "cell_type": "markdown",
      "metadata": {
        "id": "rFJaEOboY2II"
      },
      "source": [
        "# Reorganizing and reshaping data\n",
        "\n",
        "### Concatenating date in Multiple DataFrame objects"
      ]
    },
    {
      "cell_type": "code",
      "metadata": {
        "id": "Y66Khot7YroP",
        "outputId": "066936ea-b367-4a92-9feb-346b68bb1044",
        "colab": {
          "base_uri": "https://localhost:8080/"
        }
      },
      "source": [
        "msftA1 = msft['2012-01'][['Adj Close']]\n",
        "msftA2 = msft['2012-01'][['Adj Close']]\n",
        "msftA1[:5]"
      ],
      "execution_count": 14,
      "outputs": [
        {
          "output_type": "execute_result",
          "data": {
            "text/plain": [
              "            Adj Close\n",
              "Date                 \n",
              "2012-01-03     24.422\n",
              "2012-01-04     24.997\n",
              "2012-01-05     25.252\n",
              "2012-01-06     25.644\n",
              "2012-01-09     25.307"
            ]
          },
          "metadata": {},
          "execution_count": 14
        }
      ]
    },
    {
      "cell_type": "code",
      "metadata": {
        "id": "sYnzeSztZhAg"
      },
      "source": [
        ""
      ],
      "execution_count": null,
      "outputs": []
    }
  ]
}