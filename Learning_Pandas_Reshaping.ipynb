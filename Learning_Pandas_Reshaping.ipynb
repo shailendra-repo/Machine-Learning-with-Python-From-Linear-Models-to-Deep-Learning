{
  "nbformat": 4,
  "nbformat_minor": 0,
  "metadata": {
    "colab": {
      "name": "Learning Pandas Reshaping.ipynb",
      "provenance": [],
      "authorship_tag": "ABX9TyOVjyKfUH7ekcsKdNnL55mk",
      "include_colab_link": true
    },
    "kernelspec": {
      "name": "python3",
      "display_name": "Python 3"
    },
    "language_info": {
      "name": "python"
    }
  },
  "cells": [
    {
      "cell_type": "markdown",
      "metadata": {
        "id": "view-in-github",
        "colab_type": "text"
      },
      "source": [
        "<a href=\"https://colab.research.google.com/github/shailendra-repo/Python/blob/main/Learning_Pandas_Reshaping.ipynb\" target=\"_parent\"><img src=\"https://colab.research.google.com/assets/colab-badge.svg\" alt=\"Open In Colab\"/></a>"
      ]
    },
    {
      "cell_type": "code",
      "metadata": {
        "id": "1n2UmZKWohjY"
      },
      "source": [
        ""
      ],
      "execution_count": null,
      "outputs": []
    },
    {
      "cell_type": "markdown",
      "metadata": {
        "id": "e06tla0aW77q"
      },
      "source": [
        "## Reshaping, Reorganizing and Aggregation"
      ]
    },
    {
      "cell_type": "code",
      "metadata": {
        "id": "kwY8IiIlXA1Y"
      },
      "source": [
        "import numpy as np\n",
        "import pandas as pd\n",
        "import matplotlib.pyplot as plt\n",
        "%matplotlib inline\n",
        "\n",
        "pd.set_option('display.notebook_repr_html', False)\n",
        "pd.set_option('display.max_columns',10)\n",
        "pd.set_option('display.max_rows',10)\n",
        "pd.set_option('precision',3)\n"
      ],
      "execution_count": 1,
      "outputs": []
    },
    {
      "cell_type": "code",
      "metadata": {
        "id": "C_VyE5n0Xfzy"
      },
      "source": [
        "msft = pd.read_csv('msft.csv', index_col=['Date'], parse_dates=True)\n",
        "aapl= pd.read_csv('aapl.csv', index_col=['Date'], parse_dates=True)"
      ],
      "execution_count": 7,
      "outputs": []
    },
    {
      "cell_type": "code",
      "metadata": {
        "colab": {
          "base_uri": "https://localhost:8080/"
        },
        "id": "L9jJk3JHYGu2",
        "outputId": "442f100b-f055-4da3-8017-c4e391b27585"
      },
      "source": [
        "msft.head()"
      ],
      "execution_count": 8,
      "outputs": [
        {
          "output_type": "execute_result",
          "data": {
            "text/plain": [
              "             Open   High    Low  Close    Volume  Adj Close\n",
              "Date                                                       \n",
              "2012-01-03  26.55  26.96  26.39  26.77  64731500     24.422\n",
              "2012-01-04  26.82  27.47  26.78  27.40  80516100     24.997\n",
              "2012-01-05  27.38  27.73  27.29  27.68  56081400     25.252\n",
              "2012-01-06  27.53  28.19  27.53  28.11  99455500     25.644\n",
              "2012-01-09  28.05  28.10  27.72  27.74  59706800     25.307"
            ]
          },
          "metadata": {},
          "execution_count": 8
        }
      ]
    },
    {
      "cell_type": "code",
      "metadata": {
        "colab": {
          "base_uri": "https://localhost:8080/"
        },
        "id": "7Aqeo06PYm1a",
        "outputId": "fb38b4ae-cd5f-4013-9d5e-c70a3bcf0c91"
      },
      "source": [
        "aapl.head()"
      ],
      "execution_count": 9,
      "outputs": [
        {
          "output_type": "execute_result",
          "data": {
            "text/plain": [
              "              Open    High     Low   Close    Volume  Adj Close\n",
              "Date                                                           \n",
              "2012-01-03  409.40  412.50  409.00  411.23  75555200     55.414\n",
              "2012-01-04  410.00  414.68  409.28  413.44  65005500     55.711\n",
              "2012-01-05  414.95  418.55  412.67  418.03  67817400     56.330\n",
              "2012-01-06  419.77  422.75  419.22  422.40  79573200     56.919\n",
              "2012-01-09  425.50  427.75  421.35  421.73  98506100     56.829"
            ]
          },
          "metadata": {},
          "execution_count": 9
        }
      ]
    },
    {
      "cell_type": "code",
      "metadata": {
        "colab": {
          "base_uri": "https://localhost:8080/"
        },
        "id": "Lm9ZNhPvYn_j",
        "outputId": "7f75a1e1-9948-4098-efd9-a0e4c231acc7"
      },
      "source": [
        "msft[:5]"
      ],
      "execution_count": 10,
      "outputs": [
        {
          "output_type": "execute_result",
          "data": {
            "text/plain": [
              "             Open   High    Low  Close    Volume  Adj Close\n",
              "Date                                                       \n",
              "2012-01-03  26.55  26.96  26.39  26.77  64731500     24.422\n",
              "2012-01-04  26.82  27.47  26.78  27.40  80516100     24.997\n",
              "2012-01-05  27.38  27.73  27.29  27.68  56081400     25.252\n",
              "2012-01-06  27.53  28.19  27.53  28.11  99455500     25.644\n",
              "2012-01-09  28.05  28.10  27.72  27.74  59706800     25.307"
            ]
          },
          "metadata": {},
          "execution_count": 10
        }
      ]
    },
    {
      "cell_type": "code",
      "metadata": {
        "colab": {
          "base_uri": "https://localhost:8080/"
        },
        "id": "2AwBLSLbYpX4",
        "outputId": "6de589d7-cdea-4a72-95b5-7e6e09a7ef90"
      },
      "source": [
        "aapl[:5]"
      ],
      "execution_count": 11,
      "outputs": [
        {
          "output_type": "execute_result",
          "data": {
            "text/plain": [
              "              Open    High     Low   Close    Volume  Adj Close\n",
              "Date                                                           \n",
              "2012-01-03  409.40  412.50  409.00  411.23  75555200     55.414\n",
              "2012-01-04  410.00  414.68  409.28  413.44  65005500     55.711\n",
              "2012-01-05  414.95  418.55  412.67  418.03  67817400     56.330\n",
              "2012-01-06  419.77  422.75  419.22  422.40  79573200     56.919\n",
              "2012-01-09  425.50  427.75  421.35  421.73  98506100     56.829"
            ]
          },
          "metadata": {},
          "execution_count": 11
        }
      ]
    },
    {
      "cell_type": "markdown",
      "metadata": {
        "id": "rFJaEOboY2II"
      },
      "source": [
        "# Reorganizing and reshaping data\n",
        "\n",
        "### Concatenating date in Multiple DataFrame objects"
      ]
    },
    {
      "cell_type": "code",
      "metadata": {
        "colab": {
          "base_uri": "https://localhost:8080/"
        },
        "id": "Y66Khot7YroP",
        "outputId": "066936ea-b367-4a92-9feb-346b68bb1044"
      },
      "source": [
        "msftA1 = msft['2012-01'][['Adj Close']]\n",
        "msftA2 = msft['2012-01'][['Adj Close']]\n",
        "msftA1[:5]"
      ],
      "execution_count": 14,
      "outputs": [
        {
          "output_type": "execute_result",
          "data": {
            "text/plain": [
              "            Adj Close\n",
              "Date                 \n",
              "2012-01-03     24.422\n",
              "2012-01-04     24.997\n",
              "2012-01-05     25.252\n",
              "2012-01-06     25.644\n",
              "2012-01-09     25.307"
            ]
          },
          "metadata": {},
          "execution_count": 14
        }
      ]
    },
    {
      "cell_type": "code",
      "metadata": {
        "colab": {
          "base_uri": "https://localhost:8080/"
        },
        "id": "sYnzeSztZhAg",
        "outputId": "478d3284-e56f-42d0-e1eb-69bee1e9f08e"
      },
      "source": [
        "msftA2[:5]"
      ],
      "execution_count": 15,
      "outputs": [
        {
          "output_type": "execute_result",
          "data": {
            "text/plain": [
              "            Adj Close\n",
              "Date                 \n",
              "2012-01-03     24.422\n",
              "2012-01-04     24.997\n",
              "2012-01-05     25.252\n",
              "2012-01-06     25.644\n",
              "2012-01-09     25.307"
            ]
          },
          "metadata": {},
          "execution_count": 15
        }
      ]
    },
    {
      "cell_type": "code",
      "metadata": {
        "id": "AC8YjUwzZ9vO",
        "outputId": "0b21f51d-205d-4062-806f-50366d813565",
        "colab": {
          "base_uri": "https://localhost:8080/"
        }
      },
      "source": [
        "pd.concat([msftA1[:5],msftA2[:5]])"
      ],
      "execution_count": 17,
      "outputs": [
        {
          "output_type": "execute_result",
          "data": {
            "text/plain": [
              "            Adj Close\n",
              "Date                 \n",
              "2012-01-03     24.422\n",
              "2012-01-04     24.997\n",
              "2012-01-05     25.252\n",
              "2012-01-06     25.644\n",
              "2012-01-09     25.307\n",
              "2012-01-03     24.422\n",
              "2012-01-04     24.997\n",
              "2012-01-05     25.252\n",
              "2012-01-06     25.644\n",
              "2012-01-09     25.307"
            ]
          },
          "metadata": {},
          "execution_count": 17
        }
      ]
    },
    {
      "cell_type": "code",
      "metadata": {
        "id": "bCJ3r-E9aGJd"
      },
      "source": [
        "aaplA01 = aapl['2012-01'][['Adj Close']]"
      ],
      "execution_count": 18,
      "outputs": []
    },
    {
      "cell_type": "code",
      "metadata": {
        "id": "GYA_-Q0CafTX"
      },
      "source": [
        "withDups = pd.concat([msftA1[:3], aaplA01[:3]])"
      ],
      "execution_count": 24,
      "outputs": []
    },
    {
      "cell_type": "code",
      "metadata": {
        "id": "FIIXYr01atxH",
        "outputId": "6c750bb6-cfd6-4e16-8550-88c1cea4cb64",
        "colab": {
          "base_uri": "https://localhost:8080/"
        }
      },
      "source": [
        "withDups"
      ],
      "execution_count": 25,
      "outputs": [
        {
          "output_type": "execute_result",
          "data": {
            "text/plain": [
              "            Adj Close\n",
              "Date                 \n",
              "2012-01-03     24.422\n",
              "2012-01-04     24.997\n",
              "2012-01-05     25.252\n",
              "2012-01-03     55.414\n",
              "2012-01-04     55.711\n",
              "2012-01-05     56.330"
            ]
          },
          "metadata": {},
          "execution_count": 25
        }
      ]
    },
    {
      "cell_type": "code",
      "metadata": {
        "id": "iEV2wVc4a4YC",
        "outputId": "2abf7760-7971-4d8b-f9ae-497eef58edc0",
        "colab": {
          "base_uri": "https://localhost:8080/"
        }
      },
      "source": [
        "withDups['2012-01-03']"
      ],
      "execution_count": 27,
      "outputs": [
        {
          "output_type": "execute_result",
          "data": {
            "text/plain": [
              "            Adj Close\n",
              "Date                 \n",
              "2012-01-03     24.422\n",
              "2012-01-03     55.414"
            ]
          },
          "metadata": {},
          "execution_count": 27
        }
      ]
    },
    {
      "cell_type": "code",
      "metadata": {
        "id": "MgGWf1hdbUAl",
        "outputId": "c4e59b61-3686-4de3-968c-704953bed0f9",
        "colab": {
          "base_uri": "https://localhost:8080/"
        }
      },
      "source": [
        "closes =  pd.concat([msftA1[:3],aaplA01[:3]],keys=['MSFT','AAPL'])\n",
        "closes"
      ],
      "execution_count": 28,
      "outputs": [
        {
          "output_type": "execute_result",
          "data": {
            "text/plain": [
              "                 Adj Close\n",
              "     Date                 \n",
              "MSFT 2012-01-03     24.422\n",
              "     2012-01-04     24.997\n",
              "     2012-01-05     25.252\n",
              "AAPL 2012-01-03     55.414\n",
              "     2012-01-04     55.711\n",
              "     2012-01-05     56.330"
            ]
          },
          "metadata": {},
          "execution_count": 28
        }
      ]
    },
    {
      "cell_type": "code",
      "metadata": {
        "id": "0Ef0__68b87V",
        "outputId": "4ecd3902-41c8-4c36-c892-e20dc9fae6cd",
        "colab": {
          "base_uri": "https://localhost:8080/"
        }
      },
      "source": [
        "closes.index"
      ],
      "execution_count": 29,
      "outputs": [
        {
          "output_type": "execute_result",
          "data": {
            "text/plain": [
              "MultiIndex([('MSFT', '2012-01-03'),\n",
              "            ('MSFT', '2012-01-04'),\n",
              "            ('MSFT', '2012-01-05'),\n",
              "            ('AAPL', '2012-01-03'),\n",
              "            ('AAPL', '2012-01-04'),\n",
              "            ('AAPL', '2012-01-05')],\n",
              "           names=[None, 'Date'])"
            ]
          },
          "metadata": {},
          "execution_count": 29
        }
      ]
    },
    {
      "cell_type": "code",
      "metadata": {
        "id": "_AVTt0YwcCE2",
        "outputId": "e2fdd883-9207-4bb8-d79c-628392e89d5a",
        "colab": {
          "base_uri": "https://localhost:8080/"
        }
      },
      "source": [
        "closes.loc['MSFT']"
      ],
      "execution_count": 34,
      "outputs": [
        {
          "output_type": "execute_result",
          "data": {
            "text/plain": [
              "            Adj Close\n",
              "Date                 \n",
              "2012-01-03     24.422\n",
              "2012-01-04     24.997\n",
              "2012-01-05     25.252"
            ]
          },
          "metadata": {},
          "execution_count": 34
        }
      ]
    },
    {
      "cell_type": "code",
      "metadata": {
        "id": "HahiNiapcP5y",
        "outputId": "1e90052a-363a-4155-8596-8bb51a51751b",
        "colab": {
          "base_uri": "https://localhost:8080/"
        }
      },
      "source": [
        "msftAV = msft[['Adj Close','Volume']]\n",
        "aaplAV = msft[['Adj Close','Volume']]\n",
        "pd.concat([msftAV, aaplAV])"
      ],
      "execution_count": 36,
      "outputs": [
        {
          "output_type": "execute_result",
          "data": {
            "text/plain": [
              "            Adj Close    Volume\n",
              "Date                           \n",
              "2012-01-03     24.422  64731500\n",
              "2012-01-04     24.997  80516100\n",
              "2012-01-05     25.252  56081400\n",
              "2012-01-06     25.644  99455500\n",
              "2012-01-09     25.307  59706800\n",
              "...               ...       ...\n",
              "2012-12-21     25.750  98776500\n",
              "2012-12-24     25.385  20842400\n",
              "2012-12-26     25.197  31631100\n",
              "2012-12-27     25.291  39394000\n",
              "2012-12-28     24.906  28239900\n",
              "\n",
              "[498 rows x 2 columns]"
            ]
          },
          "metadata": {},
          "execution_count": 36
        }
      ]
    },
    {
      "cell_type": "code",
      "metadata": {
        "id": "FDRitAFGdfmg",
        "outputId": "695fd603-0ae1-4ed0-f796-4f922ffc2a65",
        "colab": {
          "base_uri": "https://localhost:8080/"
        }
      },
      "source": [
        "aaplA = aapl[['Adj Close']]\n",
        "pd.concat([msftAV, aaplA])"
      ],
      "execution_count": 37,
      "outputs": [
        {
          "output_type": "execute_result",
          "data": {
            "text/plain": [
              "            Adj Close     Volume\n",
              "Date                            \n",
              "2012-01-03     24.422  6.473e+07\n",
              "2012-01-04     24.997  8.052e+07\n",
              "2012-01-05     25.252  5.608e+07\n",
              "2012-01-06     25.644  9.946e+07\n",
              "2012-01-09     25.307  5.971e+07\n",
              "...               ...        ...\n",
              "2012-12-21     70.602        NaN\n",
              "2012-12-24     70.716        NaN\n",
              "2012-12-26     69.741        NaN\n",
              "2012-12-27     70.021        NaN\n",
              "2012-12-28     69.278        NaN\n",
              "\n",
              "[498 rows x 2 columns]"
            ]
          },
          "metadata": {},
          "execution_count": 37
        }
      ]
    },
    {
      "cell_type": "code",
      "metadata": {
        "id": "QAD7U65pdx6s",
        "outputId": "6fe688aa-366e-4b75-86b5-ecafbf62eca3",
        "colab": {
          "base_uri": "https://localhost:8080/"
        }
      },
      "source": [
        "pd.concat([msftAV,aaplA], join='inner')"
      ],
      "execution_count": 39,
      "outputs": [
        {
          "output_type": "execute_result",
          "data": {
            "text/plain": [
              "            Adj Close\n",
              "Date                 \n",
              "2012-01-03     24.422\n",
              "2012-01-04     24.997\n",
              "2012-01-05     25.252\n",
              "2012-01-06     25.644\n",
              "2012-01-09     25.307\n",
              "...               ...\n",
              "2012-12-21     70.602\n",
              "2012-12-24     70.716\n",
              "2012-12-26     69.741\n",
              "2012-12-27     70.021\n",
              "2012-12-28     69.278\n",
              "\n",
              "[498 rows x 1 columns]"
            ]
          },
          "metadata": {},
          "execution_count": 39
        }
      ]
    },
    {
      "cell_type": "code",
      "metadata": {
        "id": "EUfYClHyeBOk",
        "outputId": "daa3ab2d-b63f-4f65-c542-b112ebf273f9",
        "colab": {
          "base_uri": "https://localhost:8080/"
        }
      },
      "source": [
        "msftAV.size"
      ],
      "execution_count": 42,
      "outputs": [
        {
          "output_type": "execute_result",
          "data": {
            "text/plain": [
              "498"
            ]
          },
          "metadata": {},
          "execution_count": 42
        }
      ]
    },
    {
      "cell_type": "code",
      "metadata": {
        "id": "XFE79bSqeWRZ",
        "outputId": "65f345d3-90ec-4b94-f4c5-037d8358db7a",
        "colab": {
          "base_uri": "https://localhost:8080/"
        }
      },
      "source": [
        "aaplA.size"
      ],
      "execution_count": 43,
      "outputs": [
        {
          "output_type": "execute_result",
          "data": {
            "text/plain": [
              "249"
            ]
          },
          "metadata": {},
          "execution_count": 43
        }
      ]
    },
    {
      "cell_type": "code",
      "metadata": {
        "id": "v13zGT8jej2P",
        "outputId": "8e62da40-5207-49c0-ab8b-161f941d746c",
        "colab": {
          "base_uri": "https://localhost:8080/"
        }
      },
      "source": [
        "mstfA = msft[['Adj Close']]\n",
        "closes = pd.concat([mstfA, aaplA], axis=1)\n",
        "closes.head()"
      ],
      "execution_count": 46,
      "outputs": [
        {
          "output_type": "execute_result",
          "data": {
            "text/plain": [
              "            Adj Close  Adj Close\n",
              "Date                            \n",
              "2012-01-03     24.422     55.414\n",
              "2012-01-04     24.997     55.711\n",
              "2012-01-05     25.252     56.330\n",
              "2012-01-06     25.644     56.919\n",
              "2012-01-09     25.307     56.829"
            ]
          },
          "metadata": {},
          "execution_count": 46
        }
      ]
    },
    {
      "cell_type": "code",
      "metadata": {
        "id": "ytmAOxhee6N6",
        "outputId": "6dd38fc2-0604-43f7-fb2f-b59ff541ec47",
        "colab": {
          "base_uri": "https://localhost:8080/"
        }
      },
      "source": [
        "pd.concat([msftAV[:5],aaplAV[:3]], axis=1,keys=['MSFT','AAPL'])"
      ],
      "execution_count": 48,
      "outputs": [
        {
          "output_type": "execute_result",
          "data": {
            "text/plain": [
              "                MSFT                AAPL           \n",
              "           Adj Close    Volume Adj Close     Volume\n",
              "Date                                               \n",
              "2012-01-03    24.422  64731500    24.422  6.473e+07\n",
              "2012-01-04    24.997  80516100    24.997  8.052e+07\n",
              "2012-01-05    25.252  56081400    25.252  5.608e+07\n",
              "2012-01-06    25.644  99455500       NaN        NaN\n",
              "2012-01-09    25.307  59706800       NaN        NaN"
            ]
          },
          "metadata": {},
          "execution_count": 48
        }
      ]
    },
    {
      "cell_type": "code",
      "metadata": {
        "id": "5SUTUdMafjBo",
        "outputId": "877a6a97-03b3-476b-ed4c-a8694dfe7608",
        "colab": {
          "base_uri": "https://localhost:8080/"
        }
      },
      "source": [
        "pd.concat([msftAV[:5],aaplAV[:3]], join='inner',keys=['MSFT','AAPL'])"
      ],
      "execution_count": 49,
      "outputs": [
        {
          "output_type": "execute_result",
          "data": {
            "text/plain": [
              "                 Adj Close    Volume\n",
              "     Date                           \n",
              "MSFT 2012-01-03     24.422  64731500\n",
              "     2012-01-04     24.997  80516100\n",
              "     2012-01-05     25.252  56081400\n",
              "     2012-01-06     25.644  99455500\n",
              "     2012-01-09     25.307  59706800\n",
              "AAPL 2012-01-03     24.422  64731500\n",
              "     2012-01-04     24.997  80516100\n",
              "     2012-01-05     25.252  56081400"
            ]
          },
          "metadata": {},
          "execution_count": 49
        }
      ]
    },
    {
      "cell_type": "code",
      "metadata": {
        "id": "gNs2vfdxf070",
        "outputId": "94d43959-cc3f-430a-d349-2f52886c3a4b",
        "colab": {
          "base_uri": "https://localhost:8080/"
        }
      },
      "source": [
        "pd.concat([mstfA[:3],aaplA[:3]], ignore_index=True)"
      ],
      "execution_count": 51,
      "outputs": [
        {
          "output_type": "execute_result",
          "data": {
            "text/plain": [
              "   Adj Close\n",
              "0     24.422\n",
              "1     24.997\n",
              "2     25.252\n",
              "3     55.414\n",
              "4     55.711\n",
              "5     56.330"
            ]
          },
          "metadata": {},
          "execution_count": 51
        }
      ]
    },
    {
      "cell_type": "code",
      "metadata": {
        "id": "ivUj283sgTke"
      },
      "source": [
        ""
      ],
      "execution_count": null,
      "outputs": []
    },
    {
      "cell_type": "markdown",
      "metadata": {
        "id": "EpHCrwPRgeQW"
      },
      "source": [
        "## Merging DataFrame objects"
      ]
    },
    {
      "cell_type": "code",
      "metadata": {
        "id": "IhLJCu-qgiUI"
      },
      "source": [
        ""
      ],
      "execution_count": null,
      "outputs": []
    }
  ]
}