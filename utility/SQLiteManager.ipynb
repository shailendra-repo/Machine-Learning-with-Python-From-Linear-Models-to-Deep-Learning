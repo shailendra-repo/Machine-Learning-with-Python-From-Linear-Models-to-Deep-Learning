{
 "cells": [
  {
   "cell_type": "code",
   "execution_count": 15,
   "metadata": {},
   "outputs": [],
   "source": [
    "import sqlite3\n",
    "import pandas as pd\n",
    "\n",
    "pd.set_option('display.max_columns', None)\n",
    "pd.set_option('display.max_rows', None)\n",
    "pd.options.display.width = None"
   ]
  },
  {
   "cell_type": "code",
   "execution_count": 16,
   "metadata": {},
   "outputs": [],
   "source": [
    "dbName = 'Data'\n",
    "con = sqlite3.connect(dbName+'.db')"
   ]
  },
  {
   "cell_type": "code",
   "execution_count": 18,
   "metadata": {},
   "outputs": [],
   "source": [
    "sqlCmd = 'select * from sqlite_master where type=\\'table\\';'\n",
    "tableList = pd.read_sql_query(sqlCmd,con)"
   ]
  },
  {
   "cell_type": "code",
   "execution_count": 19,
   "metadata": {},
   "outputs": [
    {
     "data": {
      "text/html": [
       "<div>\n",
       "<style scoped>\n",
       "    .dataframe tbody tr th:only-of-type {\n",
       "        vertical-align: middle;\n",
       "    }\n",
       "\n",
       "    .dataframe tbody tr th {\n",
       "        vertical-align: top;\n",
       "    }\n",
       "\n",
       "    .dataframe thead th {\n",
       "        text-align: right;\n",
       "    }\n",
       "</style>\n",
       "<table border=\"1\" class=\"dataframe\">\n",
       "  <thead>\n",
       "    <tr style=\"text-align: right;\">\n",
       "      <th></th>\n",
       "      <th>type</th>\n",
       "      <th>name</th>\n",
       "      <th>tbl_name</th>\n",
       "      <th>rootpage</th>\n",
       "      <th>sql</th>\n",
       "    </tr>\n",
       "  </thead>\n",
       "  <tbody>\n",
       "    <tr>\n",
       "      <th>0</th>\n",
       "      <td>table</td>\n",
       "      <td>reddit_vm</td>\n",
       "      <td>reddit_vm</td>\n",
       "      <td>2</td>\n",
       "      <td>CREATE TABLE \"reddit_vm\" (\\n\"index\" INTEGER,\\n...</td>\n",
       "    </tr>\n",
       "  </tbody>\n",
       "</table>\n",
       "</div>"
      ],
      "text/plain": [
       "    type       name   tbl_name  rootpage  \\\n",
       "0  table  reddit_vm  reddit_vm         2   \n",
       "\n",
       "                                                 sql  \n",
       "0  CREATE TABLE \"reddit_vm\" (\\n\"index\" INTEGER,\\n...  "
      ]
     },
     "execution_count": 19,
     "metadata": {},
     "output_type": "execute_result"
    }
   ],
   "source": [
    "tableList"
   ]
  },
  {
   "cell_type": "code",
   "execution_count": 24,
   "metadata": {},
   "outputs": [
    {
     "name": "stdout",
     "output_type": "stream",
     "text": [
      "----------------------------------------------------------------------------------------\n",
      "    type       name   tbl_name  rootpage                                                                                                                                                                                               sql\n",
      "0  table  reddit_vm  reddit_vm         2  CREATE TABLE \"reddit_vm\" (\\n\"index\" INTEGER,\\n  \"title\" TEXT,\\n  \"score\" INTEGER,\\n  \"id\" TEXT,\\n  \"url\" TEXT,\\n  \"comms_num\" INTEGER,\\n  \"created\" REAL,\\n  \"body\" TEXT,\\n  \"timestamp\" TEXT\\n)\n",
      "SQL> 1\n",
      "----------------------------------------------------------------------------------------\n",
      "    type       name   tbl_name  rootpage                                                                                                                                                                                               sql\n",
      "0  table  reddit_vm  reddit_vm         2  CREATE TABLE \"reddit_vm\" (\\n\"index\" INTEGER,\\n  \"title\" TEXT,\\n  \"score\" INTEGER,\\n  \"id\" TEXT,\\n  \"url\" TEXT,\\n  \"comms_num\" INTEGER,\\n  \"created\" REAL,\\n  \"body\" TEXT,\\n  \"timestamp\" TEXT\\n)\n",
      "SQL> select * from reddit_vm\n",
      "----------------------------------------------------------------------------------------\n"
     ]
    },
    {
     "name": "stderr",
     "output_type": "stream",
     "text": [
      "IOPub data rate exceeded.\n",
      "The notebook server will temporarily stop sending output\n",
      "to the client in order to avoid crashing it.\n",
      "To change this limit, set the config variable\n",
      "`--NotebookApp.iopub_data_rate_limit`.\n",
      "\n",
      "Current values:\n",
      "NotebookApp.iopub_data_rate_limit=1000000.0 (bytes/sec)\n",
      "NotebookApp.rate_limit_window=3.0 (secs)\n",
      "\n"
     ]
    },
    {
     "name": "stdout",
     "output_type": "stream",
     "text": [
      "SQL> select top 10 from reddit_vm\n",
      "\n",
      "Execution failed on sql 'select top 10 from reddit_vm': near \"10\": syntax error\n",
      "An exception happened. Look at the query\n",
      "SQL> select top 10 * from reddit_vm\n",
      "\n",
      "Execution failed on sql 'select top 10 * from reddit_vm': near \"10\": syntax error\n",
      "An exception happened. Look at the query\n",
      "SQL> select * from reddit_vm limit 10;\n",
      "----------------------------------------------------------------------------------------\n",
      "   index                                                                           title  score       id                                                                                  url  comms_num       created                                                                                                                  body            timestamp\n",
      "0      0                             Health Canada approves AstraZeneca COVID-19 vaccine      7   lt74vw          https://www.canadaforums.ca/2021/02/health-canada-approves-astrazeneca.html          0  1.614400e+09                                                                                                                  None  2021-02-27 06:33:45\n",
      "1      1  COVID-19 in Canada: 'Vaccination passports' a near certainty says bio-ethicist      2   lsh0ij              https://www.canadaforums.ca/2021/02/covid-19-in-canada-vaccination.html          1  1.614316e+09                                                                                                                  None  2021-02-26 07:11:07\n",
      "2      2                             Coronavirus variants could fuel Canada's third wave      6   lohlle     https://www.canadaforums.ca/2021/02/coronavirus-variants-could-fuel-canadas.html          0  1.613887e+09                                                                                                                  None  2021-02-21 07:50:08\n",
      "3      3                       Canadian government to extend COVID-19 emergency benefits      1   lnptv8      https://www.canadaforums.ca/2021/02/canadian-government-to-extend-covid-19.html          0  1.613796e+09                                                                                                                  None  2021-02-20 06:35:13\n",
      "4      4     Canada: Pfizer is 'extremely committed' to meeting vaccine delivery targets      6   lkslm6     https://www.canadaforums.ca/2021/02/canada-pfizer-is-extremely-committed-to.html          0  1.613468e+09                                                                                                                  None  2021-02-16 11:36:28\n",
      "5      5                  Canada: Oxford-AstraZeneca vaccine approval expected this week      5   lftbji           https://www.canadaforums.ca/2021/02/canada-oxford-astrazeneca-vaccine.html          0  1.612869e+09                                                                                                                  None  2021-02-09 13:17:11\n",
      "6      6                                                                         Comment      1  ej9x066                                                                                 None          0  1.553474e+09  Your OP. It's not a myth. Only one vaccine contains it and you can get it without it. So your OP is pointless flex.   2019-03-25 02:34:53\n",
      "7      7                                                   Fuck you anti-vaxxing retards     10   g6jkhp  https://www.reddit.com/r/VaccineMyths/comments/g6jkhp/fuck_you_antivaxxing_retards/          8  1.587663e+09                                                                                          https://youtu.be/zBkVCpbNnkU  2020-04-23 20:23:42\n",
      "8      8                                                                         Comment      0  fofa0yy                                                                                 None          0  1.587760e+09                                                                                    Because Anti-Vaxxers have no sense  2020-04-24 23:19:50\n",
      "9      9                                                                         Comment      0  ej9xuaf                                                                                 None          0  1.553475e+09                                                             What do you mean by \"your OP\". I am fairly new to reddit.  2019-03-25 02:45:21\n",
      "SQL> exit\n"
     ]
    }
   ],
   "source": [
    "import sqlite3\n",
    "import pandas as pd\n",
    "\n",
    "pd.set_option('display.max_columns', None)\n",
    "pd.set_option('display.max_rows', None)\n",
    "pd.options.display.width = None\n",
    "\n",
    "dbName = 'Data'\n",
    "con = sqlite3.connect(dbName+'.db')\n",
    "\n",
    "sqlCmd = 'select * from sqlite_master where type=\\'table\\';'\n",
    "tableList = pd.read_sql_query(sqlCmd,con)\n",
    "\n",
    "while sqlCmd != 'exit':\n",
    "    try:\n",
    "        if(sqlCmd =='1'):\n",
    "            sqlCmd = 'select * from sqlite_master where type=\\'table\\';'\n",
    "            \n",
    "        result = pd.read_sql_query(sqlCmd, con)\n",
    "        print('----------------------------------------------------------------------------------------')\n",
    "        print(result.to_string())\n",
    "        result.to_excel('sqlResult.xlsx')\n",
    "        sqlCmd = input('SQL> ')\n",
    "        \n",
    "    except Exception as e:\n",
    "        print('')\n",
    "        print(e)\n",
    "        print('An exception happened. Look at the query')\n",
    "        sqlCmd = input('SQL> ')\n",
    "        \n",
    "con.close()\n",
    "        "
   ]
  },
  {
   "cell_type": "code",
   "execution_count": null,
   "metadata": {},
   "outputs": [],
   "source": []
  },
  {
   "cell_type": "code",
   "execution_count": null,
   "metadata": {},
   "outputs": [],
   "source": []
  },
  {
   "cell_type": "code",
   "execution_count": null,
   "metadata": {},
   "outputs": [],
   "source": []
  },
  {
   "cell_type": "code",
   "execution_count": 13,
   "metadata": {},
   "outputs": [],
   "source": [
    "alldata = pd.read_csv('data/reddit_vm.csv')"
   ]
  },
  {
   "cell_type": "code",
   "execution_count": 17,
   "metadata": {},
   "outputs": [],
   "source": [
    "alldata.to_sql('reddit_vm',con, index=True,if_exists='replace')"
   ]
  },
  {
   "cell_type": "code",
   "execution_count": null,
   "metadata": {},
   "outputs": [],
   "source": []
  }
 ],
 "metadata": {
  "kernelspec": {
   "display_name": "Python 3",
   "language": "python",
   "name": "python3"
  },
  "language_info": {
   "codemirror_mode": {
    "name": "ipython",
    "version": 3
   },
   "file_extension": ".py",
   "mimetype": "text/x-python",
   "name": "python",
   "nbconvert_exporter": "python",
   "pygments_lexer": "ipython3",
   "version": "3.7.6"
  }
 },
 "nbformat": 4,
 "nbformat_minor": 4
}
