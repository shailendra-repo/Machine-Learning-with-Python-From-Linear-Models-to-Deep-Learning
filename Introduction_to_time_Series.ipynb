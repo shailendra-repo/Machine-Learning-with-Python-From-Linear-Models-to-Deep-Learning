{
  "nbformat": 4,
  "nbformat_minor": 0,
  "metadata": {
    "colab": {
      "name": "Introduction to time_Series.ipynb",
      "provenance": [],
      "authorship_tag": "ABX9TyP/kvcZCAsF+pM7DByNRkAV",
      "include_colab_link": true
    },
    "kernelspec": {
      "name": "python3",
      "display_name": "Python 3"
    },
    "language_info": {
      "name": "python"
    }
  },
  "cells": [
    {
      "cell_type": "markdown",
      "metadata": {
        "id": "view-in-github",
        "colab_type": "text"
      },
      "source": [
        "<a href=\"https://colab.research.google.com/github/shailendra-repo/Python/blob/main/Introduction_to_time_Series.ipynb\" target=\"_parent\"><img src=\"https://colab.research.google.com/assets/colab-badge.svg\" alt=\"Open In Colab\"/></a>"
      ]
    },
    {
      "cell_type": "code",
      "metadata": {
        "id": "XvkOmaG65mfe"
      },
      "source": [
        ""
      ],
      "execution_count": null,
      "outputs": []
    },
    {
      "cell_type": "markdown",
      "metadata": {
        "id": "9PmwxMWv5sbS"
      },
      "source": [
        "## Time Series"
      ]
    },
    {
      "cell_type": "code",
      "metadata": {
        "id": "gyehkomi5vDp"
      },
      "source": [
        "import numpy as np\n",
        "import pandas as pd\n",
        "import matplotlib.pyplot as plt\n",
        "%matplotlib inline\n",
        "\n",
        "\n",
        "pd.set_option('display.max_rows',10)\n",
        "pd.set_option('display.max_columns',10)\n",
        "pd.set_option('display.notebook_repr_html',False)\n",
        "pd.set_option('precision',7)\n",
        "\n",
        "import datetime\n",
        "from datetime import datetime\n",
        "\n",
        "\n"
      ],
      "execution_count": 4,
      "outputs": []
    },
    {
      "cell_type": "markdown",
      "metadata": {
        "id": "VQkBP8Un7Jyp"
      },
      "source": [
        "### Time-series data and the DatetimeIndex"
      ]
    },
    {
      "cell_type": "code",
      "metadata": {
        "colab": {
          "base_uri": "https://localhost:8080/"
        },
        "id": "VXAM0T1o61XY",
        "outputId": "1e973e23-3780-4094-9e4f-8f612e3a1601"
      },
      "source": [
        "# create a a DatetimeIndex from an array of datetime's\n",
        "\n",
        "dates = [datetime(2014,8,1), datetime(2014,8,2)]\n",
        "dti = pd.DatetimeIndex(dates)\n",
        "dti"
      ],
      "execution_count": 6,
      "outputs": [
        {
          "output_type": "execute_result",
          "data": {
            "text/plain": [
              "DatetimeIndex(['2014-08-01', '2014-08-02'], dtype='datetime64[ns]', freq=None)"
            ]
          },
          "metadata": {},
          "execution_count": 6
        }
      ]
    },
    {
      "cell_type": "code",
      "metadata": {
        "colab": {
          "base_uri": "https://localhost:8080/"
        },
        "id": "4aPf4d_f7i_s",
        "outputId": "93e7411a-1846-4ce8-8ed4-f3ee11afe9d6"
      },
      "source": [
        "# a Series given a datetime list will automatically create\n",
        "# a DatetimeIndex as its index\n",
        "\n",
        "np.random.seed(123456)\n",
        "ts = pd.Series(np.random.randn(2),dates)\n",
        "type(ts.index)"
      ],
      "execution_count": 7,
      "outputs": [
        {
          "output_type": "execute_result",
          "data": {
            "text/plain": [
              "pandas.core.indexes.datetimes.DatetimeIndex"
            ]
          },
          "metadata": {},
          "execution_count": 7
        }
      ]
    },
    {
      "cell_type": "code",
      "metadata": {
        "colab": {
          "base_uri": "https://localhost:8080/"
        },
        "id": "fmmVmIH98CI7",
        "outputId": "45ec3fef-5f1a-44ed-99ae-6ebddc85c495"
      },
      "source": [
        "ts"
      ],
      "execution_count": 8,
      "outputs": [
        {
          "output_type": "execute_result",
          "data": {
            "text/plain": [
              "2014-08-01    0.4691123\n",
              "2014-08-02   -0.2828633\n",
              "dtype: float64"
            ]
          },
          "metadata": {},
          "execution_count": 8
        }
      ]
    },
    {
      "cell_type": "code",
      "metadata": {
        "colab": {
          "base_uri": "https://localhost:8080/"
        },
        "id": "mrbQBwom8DSo",
        "outputId": "b2cbf474-3a51-4007-8c76-a36e411727b0"
      },
      "source": [
        "ts[datetime(2014,8,2)]"
      ],
      "execution_count": 10,
      "outputs": [
        {
          "output_type": "execute_result",
          "data": {
            "text/plain": [
              "-0.2828633443286633"
            ]
          },
          "metadata": {},
          "execution_count": 10
        }
      ]
    },
    {
      "cell_type": "code",
      "metadata": {
        "colab": {
          "base_uri": "https://localhost:8080/"
        },
        "id": "nUfLE1cq8g-5",
        "outputId": "199ae5f0-afa4-49bb-fdc3-63fcd4038567"
      },
      "source": [
        "ts['2014-8-2']"
      ],
      "execution_count": 12,
      "outputs": [
        {
          "output_type": "execute_result",
          "data": {
            "text/plain": [
              "-0.2828633443286633"
            ]
          },
          "metadata": {},
          "execution_count": 12
        }
      ]
    },
    {
      "cell_type": "code",
      "metadata": {
        "colab": {
          "base_uri": "https://localhost:8080/"
        },
        "id": "7uq0X7c18z2T",
        "outputId": "f995b4c7-e2f6-42d7-b3d1-c09209e714fc"
      },
      "source": [
        "# create a Series with a DatetimeIndex using strings as dates\n",
        "np.random.seed(123456)\n",
        "dates = ['2014-08-01', '2014-08-02']\n",
        "ts = pd.Series(np.random.randn(2), dates)\n",
        "ts"
      ],
      "execution_count": 13,
      "outputs": [
        {
          "output_type": "execute_result",
          "data": {
            "text/plain": [
              "2014-08-01    0.4691123\n",
              "2014-08-02   -0.2828633\n",
              "dtype: float64"
            ]
          },
          "metadata": {},
          "execution_count": 13
        }
      ]
    },
    {
      "cell_type": "code",
      "metadata": {
        "colab": {
          "base_uri": "https://localhost:8080/"
        },
        "id": "wRgXyOn29GTN",
        "outputId": "f0216b4e-32b8-4b32-9846-3372cbd812cb"
      },
      "source": [
        "ts.index"
      ],
      "execution_count": 14,
      "outputs": [
        {
          "output_type": "execute_result",
          "data": {
            "text/plain": [
              "Index(['2014-08-01', '2014-08-02'], dtype='object')"
            ]
          },
          "metadata": {},
          "execution_count": 14
        }
      ]
    },
    {
      "cell_type": "code",
      "metadata": {
        "id": "vm1wVfcx9L7j"
      },
      "source": [
        ""
      ],
      "execution_count": null,
      "outputs": []
    }
  ]
}